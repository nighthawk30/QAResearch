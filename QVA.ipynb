{
 "cells": [
  {
   "cell_type": "code",
   "execution_count": 1,
   "id": "85cf1e0f",
   "metadata": {},
   "outputs": [
    {
     "name": "stdout",
     "output_type": "stream",
     "text": [
      "[cirq.GridQubit(0, 0), cirq.GridQubit(0, 1), cirq.GridQubit(0, 2), cirq.GridQubit(1, 0), cirq.GridQubit(1, 1), cirq.GridQubit(1, 2), cirq.GridQubit(2, 0), cirq.GridQubit(2, 1), cirq.GridQubit(2, 2)]\n"
     ]
    }
   ],
   "source": [
    "import cirq\n",
    "\n",
    "size = 3\n",
    "qubits = cirq.GridQubit.square(size)\n",
    "print(qubits)"
   ]
  },
  {
   "cell_type": "code",
   "execution_count": 3,
   "id": "1641763b",
   "metadata": {},
   "outputs": [
    {
     "name": "stdout",
     "output_type": "stream",
     "text": [
      "(0, 0): ───H───\n",
      "\n",
      "(0, 1): ───X───\n",
      "\n",
      "(0, 2): ───H───\n",
      "\n",
      "(1, 0): ───X───\n",
      "\n",
      "(1, 1): ───H───\n",
      "\n",
      "(1, 2): ───X───\n",
      "\n",
      "(2, 0): ───H───\n",
      "\n",
      "(2, 1): ───X───\n",
      "\n",
      "(2, 2): ───H───\n"
     ]
    }
   ],
   "source": [
    "circuit = cirq.Circuit()\n",
    "\n",
    "for q in qubits:\n",
    "    if (q.row + q.col) % 2 == 0:\n",
    "        circuit.append(cirq.H(q))\n",
    "    else:\n",
    "        circuit.append(cirq.X(q))\n",
    "\n",
    "print(circuit)"
   ]
  },
  {
   "cell_type": "code",
   "execution_count": 4,
   "id": "4edadbe1",
   "metadata": {},
   "outputs": [
    {
     "name": "stdout",
     "output_type": "stream",
     "text": [
      "(0, 0): ───X^0.1───\n",
      "\n",
      "(0, 1): ───X^0.1───\n",
      "\n",
      "(1, 0): ───X^0.1───\n",
      "\n",
      "(1, 1): ───X^0.1───\n"
     ]
    }
   ],
   "source": [
    "#I HAVE NO IDEA WHAT AN ANSATZ IS (not entirely true, but still)\n",
    "\n",
    "def rot_x_layer(length, half_turns):\n",
    "    \"\"\"Yields X rotations by half_turns on a square grid of given length.\"\"\"\n",
    "\n",
    "    # Define the gate once and then re-use it for each Operation.\n",
    "    rot = cirq.XPowGate(exponent=half_turns)\n",
    "\n",
    "    # Create an X rotation Operation for each qubit in the grid.\n",
    "    for i in range(length):\n",
    "        for j in range(length):\n",
    "            yield rot(cirq.GridQubit(i, j))\n",
    "\n",
    "# Create the circuit using the rot_x_layer generator\n",
    "circuit = cirq.Circuit()\n",
    "circuit.append(rot_x_layer(2, 0.1))\n",
    "print(circuit)\n"
   ]
  },
  {
   "cell_type": "code",
   "execution_count": 5,
   "id": "e08de681",
   "metadata": {},
   "outputs": [
    {
     "name": "stdout",
     "output_type": "stream",
     "text": [
      "transverse fields: [[-1, 1, -1], [1, 1, 1], [-1, -1, -1]]\n",
      "row j fields: [[1, 1, 1], [1, -1, -1]]\n",
      "column j fields: [[-1, 1], [1, 1], [-1, -1]]\n"
     ]
    }
   ],
   "source": [
    "import random\n",
    "def rand2d(rows, cols):\n",
    "    return [[random.choice([+1, -1]) for _ in range(cols)] for _ in range(rows)]\n",
    "\n",
    "def random_instance(length):\n",
    "    # transverse field terms\n",
    "    h = rand2d(length, length)\n",
    "    # links within a row\n",
    "    jr = rand2d(length - 1, length)\n",
    "    # links within a column\n",
    "    jc = rand2d(length, length - 1)\n",
    "    return (h, jr, jc)\n",
    "\n",
    "h, jr, jc = random_instance(3)\n",
    "print('transverse fields: {}'.format(h))\n",
    "print('row j fields: {}'.format(jr))\n",
    "print('column j fields: {}'.format(jc))"
   ]
  },
  {
   "cell_type": "code",
   "execution_count": 6,
   "id": "d87109ac",
   "metadata": {},
   "outputs": [],
   "source": [
    "def rot_z_layer(h, half_turns):\n",
    "    \"\"\"Yields Z rotations by half_turns conditioned on the field h.\"\"\"\n",
    "    gate = cirq.ZPowGate(exponent=half_turns)\n",
    "    for i, h_row in enumerate(h):\n",
    "        for j, h_ij in enumerate(h_row):\n",
    "            if h_ij == 1:\n",
    "                yield gate(cirq.GridQubit(i, j))"
   ]
  },
  {
   "cell_type": "code",
   "execution_count": 7,
   "id": "a52b3eb0",
   "metadata": {},
   "outputs": [],
   "source": [
    "def rot_11_layer(jr, jc, half_turns):\n",
    "    \"\"\"Yields rotations about |11> conditioned on the jr and jc fields.\"\"\"\n",
    "    cz_gate = cirq.CZPowGate(exponent=half_turns)    \n",
    "    for i, jr_row in enumerate(jr):\n",
    "        for j, jr_ij in enumerate(jr_row):\n",
    "            q = cirq.GridQubit(i, j)\n",
    "            q_1 = cirq.GridQubit(i + 1, j)\n",
    "            if jr_ij == -1:\n",
    "                yield cirq.X(q)\n",
    "                yield cirq.X(q_1)\n",
    "            yield cz_gate(q, q_1)\n",
    "            if jr_ij == -1:\n",
    "                yield cirq.X(q)\n",
    "                yield cirq.X(q_1)\n",
    "\n",
    "    for i, jc_row in enumerate(jc):\n",
    "        for j, jc_ij in enumerate(jc_row):\n",
    "            q = cirq.GridQubit(i, j)\n",
    "            q_1 = cirq.GridQubit(i, j + 1)\n",
    "            if jc_ij == -1:\n",
    "                yield cirq.X(q)\n",
    "                yield cirq.X(q_1)\n",
    "            yield cz_gate(q, q_1)\n",
    "            if jc_ij == -1:\n",
    "                yield cirq.X(q)\n",
    "                yield cirq.X(q_1)"
   ]
  },
  {
   "cell_type": "code",
   "execution_count": 8,
   "id": "cbe58518",
   "metadata": {},
   "outputs": [
    {
     "name": "stdout",
     "output_type": "stream",
     "text": [
      "                   ┌──────────┐   ┌──────────┐   ┌──────────┐                   ┌──────┐\n",
      "(0, 0): ───X^0.1───────────────────@──────────────X─────────────@───────X──────────────────────────────────\n",
      "                                   │                            │\n",
      "(0, 1): ───X^0.1─────────@─────────┼────X───────────────────────@^0.3───X────────X─────────@───────X───────\n",
      "                         │         │                                                       │\n",
      "(0, 2): ───X^0.1────X────┼─────────┼──────────────@─────────────X───────X──────────────────@^0.3───X───────\n",
      "                         │         │              │\n",
      "(1, 0): ───X^0.1────Z^0.2┼─────────@^0.3──────────┼────@────────@──────────────────────────────────────────\n",
      "                         │                        │    │        │\n",
      "(1, 1): ───X^0.1─────────@^0.3──────────@─────────┼────┼────────@^0.3──────────────────────────────@───────\n",
      "                                        │         │    │                                           │\n",
      "(1, 2): ───X^0.1────Z^0.2──────────X────┼─────────@^0.3┼────────X───────X────────@─────────X───────@^0.3───\n",
      "                                        │              │                         │\n",
      "(2, 0): ───X^0.1────────────────────────┼──────────────@^0.3────X───────@────────┼────X────────────────────\n",
      "                                        │                               │        │\n",
      "(2, 1): ───X^0.1────────────────────────@^0.3─────X─────────────────────@^0.3────┼────X────────────@───────\n",
      "                                                                                 │                 │\n",
      "(2, 2): ───X^0.1────X────────────────────────────────────────────────────────────@^0.3─────X───────@^0.3───\n",
      "                   └──────────┘   └──────────┘   └──────────┘                   └──────┘\n"
     ]
    }
   ],
   "source": [
    "def one_step(h, jr, jc, x_half_turns, h_half_turns, j_half_turns):\n",
    "    length = len(h)\n",
    "    yield rot_x_layer(length, x_half_turns)\n",
    "    yield rot_z_layer(h, h_half_turns)\n",
    "    yield rot_11_layer(jr, jc, j_half_turns)\n",
    "\n",
    "h, jr, jc = random_instance(3)\n",
    "\n",
    "circuit = cirq.Circuit()    \n",
    "circuit.append(one_step(h, jr, jc, 0.1, 0.2, 0.3),\n",
    "               strategy=cirq.InsertStrategy.EARLIEST)\n",
    "print(circuit)"
   ]
  },
  {
   "cell_type": "code",
   "execution_count": 19,
   "id": "4682b8c2",
   "metadata": {},
   "outputs": [
    {
     "name": "stdout",
     "output_type": "stream",
     "text": [
      "Counter({0: 81, 2: 4, 256: 3, 4: 3, 8: 2, 16: 2, 32: 2, 64: 1, 128: 1, 1: 1})\n"
     ]
    }
   ],
   "source": [
    "simulator = cirq.Simulator()\n",
    "circuit = cirq.Circuit()    \n",
    "circuit.append(one_step(h, jr, jc, 0.1, 0.2, 0.3))\n",
    "circuit.append(cirq.measure(*qubits, key='x'))\n",
    "results = simulator.run(circuit, repetitions=100)\n",
    "print(results.histogram(key='x'))"
   ]
  },
  {
   "cell_type": "code",
   "execution_count": 20,
   "id": "5ed7b413",
   "metadata": {},
   "outputs": [
    {
     "name": "stdout",
     "output_type": "stream",
     "text": [
      "Counter({-3: 87, -1: 7, -9: 2, -11: 2, 3: 1, 1: 1})\n"
     ]
    }
   ],
   "source": [
    "import numpy as np\n",
    "\n",
    "def energy_func(length, h, jr, jc):\n",
    "    def energy(measurements):\n",
    "        # Reshape measurement into array that matches grid shape.\n",
    "        meas_list_of_lists = [measurements[i * length:(i + 1) * length]\n",
    "                              for i in range(length)]\n",
    "        # Convert true/false to +1/-1.\n",
    "        pm_meas = 1 - 2 * np.array(meas_list_of_lists).astype(np.int32)\n",
    "\n",
    "        tot_energy = np.sum(pm_meas * h)\n",
    "        for i, jr_row in enumerate(jr):\n",
    "            for j, jr_ij in enumerate(jr_row):\n",
    "                tot_energy += jr_ij * pm_meas[i, j] * pm_meas[i + 1, j]\n",
    "        for i, jc_row in enumerate(jc):\n",
    "            for j, jc_ij in enumerate(jc_row):\n",
    "                tot_energy += jc_ij * pm_meas[i, j] * pm_meas[i, j + 1]\n",
    "        return tot_energy\n",
    "    return energy\n",
    "print(results.histogram(key='x', fold_func=energy_func(3, h, jr, jc)))"
   ]
  },
  {
   "cell_type": "code",
   "execution_count": 21,
   "id": "0535dcb9",
   "metadata": {},
   "outputs": [
    {
     "name": "stdout",
     "output_type": "stream",
     "text": [
      "Value of the objective function -3.04\n"
     ]
    }
   ],
   "source": [
    "def obj_func(result):\n",
    "    energy_hist = result.histogram(key='x', fold_func=energy_func(3, h, jr, jc))\n",
    "    return np.sum([k * v for k,v in energy_hist.items()]) / result.repetitions\n",
    "print('Value of the objective function {}'.format(obj_func(results)))"
   ]
  },
  {
   "cell_type": "code",
   "execution_count": 22,
   "id": "2e49cff9",
   "metadata": {},
   "outputs": [
    {
     "name": "stdout",
     "output_type": "stream",
     "text": [
      "                     ┌─────────────┐   ┌──────────────┐   ┌──────────────┐                       ┌────────┐\n",
      "(0, 0): ───X^alpha──────────────────────@──────────────────X─────────────────@─────────X──────────────────────────────────────────M('x')───\n",
      "                                        │                                    │                                                    │\n",
      "(0, 1): ───X^alpha──────────@───────────┼──────X─────────────────────────────@^gamma───X──────────X───────────@─────────X─────────M────────\n",
      "                            │           │                                                                     │                   │\n",
      "(0, 2): ───X^alpha────X─────┼───────────┼──────────────────@─────────────────X─────────X──────────────────────@^gamma───X─────────M────────\n",
      "                            │           │                  │                                                                      │\n",
      "(1, 0): ───X^alpha────Z^beta┼───────────@^gamma────────────┼──────@──────────@────────────────────────────────────────────────────M────────\n",
      "                            │                              │      │          │                                                    │\n",
      "(1, 1): ───X^alpha──────────@^gamma────────────@───────────┼──────┼──────────@^gamma────────────────────────────────────@─────────M────────\n",
      "                                               │           │      │                                                     │         │\n",
      "(1, 2): ───X^alpha────Z^beta────────────X──────┼───────────@^gamma┼──────────X─────────X──────────@───────────X─────────@^gamma───M────────\n",
      "                                               │                  │                               │                               │\n",
      "(2, 0): ───X^alpha─────────────────────────────┼──────────────────@^gamma────X─────────@──────────┼──────X────────────────────────M────────\n",
      "                                               │                                       │          │                               │\n",
      "(2, 1): ───X^alpha─────────────────────────────@^gamma─────X───────────────────────────@^gamma────┼──────X──────────────@─────────M────────\n",
      "                                                                                                  │                     │         │\n",
      "(2, 2): ───X^alpha────X───────────────────────────────────────────────────────────────────────────@^gamma─────X─────────@^gamma───M────────\n",
      "                     └─────────────┘   └──────────────┘   └──────────────┘                       └────────┘\n"
     ]
    }
   ],
   "source": [
    "import sympy\n",
    "circuit = cirq.Circuit()\n",
    "alpha = sympy.Symbol('alpha')\n",
    "beta = sympy.Symbol('beta')\n",
    "gamma = sympy.Symbol('gamma')\n",
    "circuit.append(one_step(h, jr, jc, alpha, beta, gamma))\n",
    "circuit.append(cirq.measure(*qubits, key='x'))\n",
    "print(circuit)"
   ]
  },
  {
   "cell_type": "code",
   "execution_count": 23,
   "id": "ad9b3701",
   "metadata": {},
   "outputs": [],
   "source": [
    "resolver = cirq.ParamResolver({'alpha': 0.1, 'beta': 0.3, 'gamma': 0.7})\n",
    "resolved_circuit = cirq.resolve_parameters(circuit, resolver)"
   ]
  },
  {
   "cell_type": "code",
   "execution_count": 24,
   "id": "a4559f12",
   "metadata": {},
   "outputs": [
    {
     "name": "stdout",
     "output_type": "stream",
     "text": [
      "OrderedDict([('alpha', 0.1), ('beta', 0.1), ('gamma', 0.1)]) -2.86\n",
      "OrderedDict([('alpha', 0.1), ('beta', 0.1), ('gamma', 0.30000000000000004)]) -2.72\n",
      "OrderedDict([('alpha', 0.1), ('beta', 0.1), ('gamma', 0.5)]) -3.0\n",
      "OrderedDict([('alpha', 0.1), ('beta', 0.1), ('gamma', 0.7000000000000001)]) -2.98\n",
      "OrderedDict([('alpha', 0.1), ('beta', 0.1), ('gamma', 0.9)]) -2.84\n",
      "OrderedDict([('alpha', 0.1), ('beta', 0.30000000000000004), ('gamma', 0.1)]) -3.18\n",
      "OrderedDict([('alpha', 0.1), ('beta', 0.30000000000000004), ('gamma', 0.30000000000000004)]) -2.52\n",
      "OrderedDict([('alpha', 0.1), ('beta', 0.30000000000000004), ('gamma', 0.5)]) -3.16\n",
      "OrderedDict([('alpha', 0.1), ('beta', 0.30000000000000004), ('gamma', 0.7000000000000001)]) -2.82\n",
      "OrderedDict([('alpha', 0.1), ('beta', 0.30000000000000004), ('gamma', 0.9)]) -2.82\n",
      "OrderedDict([('alpha', 0.1), ('beta', 0.5), ('gamma', 0.1)]) -3.2\n",
      "OrderedDict([('alpha', 0.1), ('beta', 0.5), ('gamma', 0.30000000000000004)]) -2.8\n",
      "OrderedDict([('alpha', 0.1), ('beta', 0.5), ('gamma', 0.5)]) -3.08\n",
      "OrderedDict([('alpha', 0.1), ('beta', 0.5), ('gamma', 0.7000000000000001)]) -2.98\n",
      "OrderedDict([('alpha', 0.1), ('beta', 0.5), ('gamma', 0.9)]) -2.8\n",
      "OrderedDict([('alpha', 0.1), ('beta', 0.7000000000000001), ('gamma', 0.1)]) -2.88\n",
      "OrderedDict([('alpha', 0.1), ('beta', 0.7000000000000001), ('gamma', 0.30000000000000004)]) -3.0\n",
      "OrderedDict([('alpha', 0.1), ('beta', 0.7000000000000001), ('gamma', 0.5)]) -3.02\n",
      "OrderedDict([('alpha', 0.1), ('beta', 0.7000000000000001), ('gamma', 0.7000000000000001)]) -2.94\n",
      "OrderedDict([('alpha', 0.1), ('beta', 0.7000000000000001), ('gamma', 0.9)]) -2.88\n",
      "OrderedDict([('alpha', 0.1), ('beta', 0.9), ('gamma', 0.1)]) -2.94\n",
      "OrderedDict([('alpha', 0.1), ('beta', 0.9), ('gamma', 0.30000000000000004)]) -3.1\n",
      "OrderedDict([('alpha', 0.1), ('beta', 0.9), ('gamma', 0.5)]) -2.96\n",
      "OrderedDict([('alpha', 0.1), ('beta', 0.9), ('gamma', 0.7000000000000001)]) -2.74\n",
      "OrderedDict([('alpha', 0.1), ('beta', 0.9), ('gamma', 0.9)]) -2.96\n",
      "OrderedDict([('alpha', 0.30000000000000004), ('beta', 0.1), ('gamma', 0.1)]) -3.36\n",
      "OrderedDict([('alpha', 0.30000000000000004), ('beta', 0.1), ('gamma', 0.30000000000000004)]) -2.64\n",
      "OrderedDict([('alpha', 0.30000000000000004), ('beta', 0.1), ('gamma', 0.5)]) -2.66\n",
      "OrderedDict([('alpha', 0.30000000000000004), ('beta', 0.1), ('gamma', 0.7000000000000001)]) -2.9\n",
      "OrderedDict([('alpha', 0.30000000000000004), ('beta', 0.1), ('gamma', 0.9)]) -2.6\n",
      "OrderedDict([('alpha', 0.30000000000000004), ('beta', 0.30000000000000004), ('gamma', 0.1)]) -2.42\n",
      "OrderedDict([('alpha', 0.30000000000000004), ('beta', 0.30000000000000004), ('gamma', 0.30000000000000004)]) -2.0\n",
      "OrderedDict([('alpha', 0.30000000000000004), ('beta', 0.30000000000000004), ('gamma', 0.5)]) -1.82\n",
      "OrderedDict([('alpha', 0.30000000000000004), ('beta', 0.30000000000000004), ('gamma', 0.7000000000000001)]) -2.68\n",
      "OrderedDict([('alpha', 0.30000000000000004), ('beta', 0.30000000000000004), ('gamma', 0.9)]) -2.46\n",
      "OrderedDict([('alpha', 0.30000000000000004), ('beta', 0.5), ('gamma', 0.1)]) -2.06\n",
      "OrderedDict([('alpha', 0.30000000000000004), ('beta', 0.5), ('gamma', 0.30000000000000004)]) -2.08\n",
      "OrderedDict([('alpha', 0.30000000000000004), ('beta', 0.5), ('gamma', 0.5)]) -1.5\n",
      "OrderedDict([('alpha', 0.30000000000000004), ('beta', 0.5), ('gamma', 0.7000000000000001)]) -2.68\n",
      "OrderedDict([('alpha', 0.30000000000000004), ('beta', 0.5), ('gamma', 0.9)]) -2.94\n",
      "OrderedDict([('alpha', 0.30000000000000004), ('beta', 0.7000000000000001), ('gamma', 0.1)]) -2.0\n",
      "OrderedDict([('alpha', 0.30000000000000004), ('beta', 0.7000000000000001), ('gamma', 0.30000000000000004)]) -2.12\n",
      "OrderedDict([('alpha', 0.30000000000000004), ('beta', 0.7000000000000001), ('gamma', 0.5)]) -1.96\n",
      "OrderedDict([('alpha', 0.30000000000000004), ('beta', 0.7000000000000001), ('gamma', 0.7000000000000001)]) -2.24\n",
      "OrderedDict([('alpha', 0.30000000000000004), ('beta', 0.7000000000000001), ('gamma', 0.9)]) -2.16\n",
      "OrderedDict([('alpha', 0.30000000000000004), ('beta', 0.9), ('gamma', 0.1)]) -1.96\n",
      "OrderedDict([('alpha', 0.30000000000000004), ('beta', 0.9), ('gamma', 0.30000000000000004)]) -2.12\n",
      "OrderedDict([('alpha', 0.30000000000000004), ('beta', 0.9), ('gamma', 0.5)]) -2.12\n",
      "OrderedDict([('alpha', 0.30000000000000004), ('beta', 0.9), ('gamma', 0.7000000000000001)]) -1.36\n",
      "OrderedDict([('alpha', 0.30000000000000004), ('beta', 0.9), ('gamma', 0.9)]) -2.62\n",
      "OrderedDict([('alpha', 0.5), ('beta', 0.1), ('gamma', 0.1)]) 0.76\n",
      "OrderedDict([('alpha', 0.5), ('beta', 0.1), ('gamma', 0.30000000000000004)]) 0.5\n",
      "OrderedDict([('alpha', 0.5), ('beta', 0.1), ('gamma', 0.5)]) 0.48\n",
      "OrderedDict([('alpha', 0.5), ('beta', 0.1), ('gamma', 0.7000000000000001)]) -0.28\n",
      "OrderedDict([('alpha', 0.5), ('beta', 0.1), ('gamma', 0.9)]) -0.66\n",
      "OrderedDict([('alpha', 0.5), ('beta', 0.30000000000000004), ('gamma', 0.1)]) 0.22\n",
      "OrderedDict([('alpha', 0.5), ('beta', 0.30000000000000004), ('gamma', 0.30000000000000004)]) -0.9\n",
      "OrderedDict([('alpha', 0.5), ('beta', 0.30000000000000004), ('gamma', 0.5)]) -0.02\n",
      "OrderedDict([('alpha', 0.5), ('beta', 0.30000000000000004), ('gamma', 0.7000000000000001)]) -0.1\n",
      "OrderedDict([('alpha', 0.5), ('beta', 0.30000000000000004), ('gamma', 0.9)]) 0.56\n",
      "OrderedDict([('alpha', 0.5), ('beta', 0.5), ('gamma', 0.1)]) 0.12\n",
      "OrderedDict([('alpha', 0.5), ('beta', 0.5), ('gamma', 0.30000000000000004)]) 0.14\n",
      "OrderedDict([('alpha', 0.5), ('beta', 0.5), ('gamma', 0.5)]) 0.34\n",
      "OrderedDict([('alpha', 0.5), ('beta', 0.5), ('gamma', 0.7000000000000001)]) -0.16\n",
      "OrderedDict([('alpha', 0.5), ('beta', 0.5), ('gamma', 0.9)]) -0.3\n",
      "OrderedDict([('alpha', 0.5), ('beta', 0.7000000000000001), ('gamma', 0.1)]) 0.3\n",
      "OrderedDict([('alpha', 0.5), ('beta', 0.7000000000000001), ('gamma', 0.30000000000000004)]) 0.72\n",
      "OrderedDict([('alpha', 0.5), ('beta', 0.7000000000000001), ('gamma', 0.5)]) 0.58\n",
      "OrderedDict([('alpha', 0.5), ('beta', 0.7000000000000001), ('gamma', 0.7000000000000001)]) 0.66\n",
      "OrderedDict([('alpha', 0.5), ('beta', 0.7000000000000001), ('gamma', 0.9)]) 0.28\n",
      "OrderedDict([('alpha', 0.5), ('beta', 0.9), ('gamma', 0.1)]) 0.18\n",
      "OrderedDict([('alpha', 0.5), ('beta', 0.9), ('gamma', 0.30000000000000004)]) -0.06\n",
      "OrderedDict([('alpha', 0.5), ('beta', 0.9), ('gamma', 0.5)]) 0.56\n",
      "OrderedDict([('alpha', 0.5), ('beta', 0.9), ('gamma', 0.7000000000000001)]) -0.2\n",
      "OrderedDict([('alpha', 0.5), ('beta', 0.9), ('gamma', 0.9)]) -0.66\n",
      "OrderedDict([('alpha', 0.7000000000000001), ('beta', 0.1), ('gamma', 0.1)]) 3.24\n",
      "OrderedDict([('alpha', 0.7000000000000001), ('beta', 0.1), ('gamma', 0.30000000000000004)]) 3.44\n",
      "OrderedDict([('alpha', 0.7000000000000001), ('beta', 0.1), ('gamma', 0.5)]) 3.46\n",
      "OrderedDict([('alpha', 0.7000000000000001), ('beta', 0.1), ('gamma', 0.7000000000000001)]) 3.54\n",
      "OrderedDict([('alpha', 0.7000000000000001), ('beta', 0.1), ('gamma', 0.9)]) 3.98\n",
      "OrderedDict([('alpha', 0.7000000000000001), ('beta', 0.30000000000000004), ('gamma', 0.1)]) 4.04\n",
      "OrderedDict([('alpha', 0.7000000000000001), ('beta', 0.30000000000000004), ('gamma', 0.30000000000000004)]) 3.58\n",
      "OrderedDict([('alpha', 0.7000000000000001), ('beta', 0.30000000000000004), ('gamma', 0.5)]) 2.9\n",
      "OrderedDict([('alpha', 0.7000000000000001), ('beta', 0.30000000000000004), ('gamma', 0.7000000000000001)]) 3.02\n",
      "OrderedDict([('alpha', 0.7000000000000001), ('beta', 0.30000000000000004), ('gamma', 0.9)]) 3.62\n",
      "OrderedDict([('alpha', 0.7000000000000001), ('beta', 0.5), ('gamma', 0.1)]) 3.34\n",
      "OrderedDict([('alpha', 0.7000000000000001), ('beta', 0.5), ('gamma', 0.30000000000000004)]) 4.08\n",
      "OrderedDict([('alpha', 0.7000000000000001), ('beta', 0.5), ('gamma', 0.5)]) 4.24\n",
      "OrderedDict([('alpha', 0.7000000000000001), ('beta', 0.5), ('gamma', 0.7000000000000001)]) 3.96\n",
      "OrderedDict([('alpha', 0.7000000000000001), ('beta', 0.5), ('gamma', 0.9)]) 3.42\n",
      "OrderedDict([('alpha', 0.7000000000000001), ('beta', 0.7000000000000001), ('gamma', 0.1)]) 3.18\n",
      "OrderedDict([('alpha', 0.7000000000000001), ('beta', 0.7000000000000001), ('gamma', 0.30000000000000004)]) 3.96\n",
      "OrderedDict([('alpha', 0.7000000000000001), ('beta', 0.7000000000000001), ('gamma', 0.5)]) 3.78\n",
      "OrderedDict([('alpha', 0.7000000000000001), ('beta', 0.7000000000000001), ('gamma', 0.7000000000000001)]) 4.08\n",
      "OrderedDict([('alpha', 0.7000000000000001), ('beta', 0.7000000000000001), ('gamma', 0.9)]) 4.02\n",
      "OrderedDict([('alpha', 0.7000000000000001), ('beta', 0.9), ('gamma', 0.1)]) 4.34\n",
      "OrderedDict([('alpha', 0.7000000000000001), ('beta', 0.9), ('gamma', 0.30000000000000004)]) 3.92\n",
      "OrderedDict([('alpha', 0.7000000000000001), ('beta', 0.9), ('gamma', 0.5)]) 4.26\n",
      "OrderedDict([('alpha', 0.7000000000000001), ('beta', 0.9), ('gamma', 0.7000000000000001)]) 4.24\n",
      "OrderedDict([('alpha', 0.7000000000000001), ('beta', 0.9), ('gamma', 0.9)]) 4.3\n",
      "OrderedDict([('alpha', 0.9), ('beta', 0.1), ('gamma', 0.1)]) 6.62\n",
      "OrderedDict([('alpha', 0.9), ('beta', 0.1), ('gamma', 0.30000000000000004)]) 6.48\n",
      "OrderedDict([('alpha', 0.9), ('beta', 0.1), ('gamma', 0.5)]) 6.76\n",
      "OrderedDict([('alpha', 0.9), ('beta', 0.1), ('gamma', 0.7000000000000001)]) 6.84\n",
      "OrderedDict([('alpha', 0.9), ('beta', 0.1), ('gamma', 0.9)]) 6.6\n",
      "OrderedDict([('alpha', 0.9), ('beta', 0.30000000000000004), ('gamma', 0.1)]) 6.76\n",
      "OrderedDict([('alpha', 0.9), ('beta', 0.30000000000000004), ('gamma', 0.30000000000000004)]) 6.66\n",
      "OrderedDict([('alpha', 0.9), ('beta', 0.30000000000000004), ('gamma', 0.5)]) 6.58\n",
      "OrderedDict([('alpha', 0.9), ('beta', 0.30000000000000004), ('gamma', 0.7000000000000001)]) 6.6\n",
      "OrderedDict([('alpha', 0.9), ('beta', 0.30000000000000004), ('gamma', 0.9)]) 6.64\n",
      "OrderedDict([('alpha', 0.9), ('beta', 0.5), ('gamma', 0.1)]) 6.0\n",
      "OrderedDict([('alpha', 0.9), ('beta', 0.5), ('gamma', 0.30000000000000004)]) 6.38\n",
      "OrderedDict([('alpha', 0.9), ('beta', 0.5), ('gamma', 0.5)]) 6.58\n",
      "OrderedDict([('alpha', 0.9), ('beta', 0.5), ('gamma', 0.7000000000000001)]) 6.58\n",
      "OrderedDict([('alpha', 0.9), ('beta', 0.5), ('gamma', 0.9)]) 6.3\n",
      "OrderedDict([('alpha', 0.9), ('beta', 0.7000000000000001), ('gamma', 0.1)]) 6.44\n",
      "OrderedDict([('alpha', 0.9), ('beta', 0.7000000000000001), ('gamma', 0.30000000000000004)]) 6.66\n",
      "OrderedDict([('alpha', 0.9), ('beta', 0.7000000000000001), ('gamma', 0.5)]) 6.62\n",
      "OrderedDict([('alpha', 0.9), ('beta', 0.7000000000000001), ('gamma', 0.7000000000000001)]) 6.62\n",
      "OrderedDict([('alpha', 0.9), ('beta', 0.7000000000000001), ('gamma', 0.9)]) 6.6\n",
      "OrderedDict([('alpha', 0.9), ('beta', 0.9), ('gamma', 0.1)]) 6.7\n",
      "OrderedDict([('alpha', 0.9), ('beta', 0.9), ('gamma', 0.30000000000000004)]) 6.88\n",
      "OrderedDict([('alpha', 0.9), ('beta', 0.9), ('gamma', 0.5)]) 6.34\n",
      "OrderedDict([('alpha', 0.9), ('beta', 0.9), ('gamma', 0.7000000000000001)]) 6.78\n",
      "OrderedDict([('alpha', 0.9), ('beta', 0.9), ('gamma', 0.9)]) 6.66\n"
     ]
    }
   ],
   "source": [
    "sweep = (cirq.Linspace(key='alpha', start=0.1, stop=0.9, length=5)\n",
    "\n",
    "         * cirq.Linspace(key='beta', start=0.1, stop=0.9, length=5)\n",
    "         * cirq.Linspace(key='gamma', start=0.1, stop=0.9, length=5))\n",
    "results = simulator.run_sweep(circuit, params=sweep, repetitions=100)\n",
    "for result in results:\n",
    "    print(result.params.param_dict, obj_func(result))\n"
   ]
  },
  {
   "cell_type": "code",
   "execution_count": 25,
   "id": "1d3d7507",
   "metadata": {},
   "outputs": [
    {
     "name": "stdout",
     "output_type": "stream",
     "text": [
      "Minimum objective value is -3.66.\n"
     ]
    }
   ],
   "source": [
    "sweep_size = 10\n",
    "sweep = (cirq.Linspace(key='alpha', start=0.0, stop=1.0, length=sweep_size)\n",
    "\n",
    "         * cirq.Linspace(key='beta', start=0.0, stop=1.0, length=sweep_size)\n",
    "         * cirq.Linspace(key='gamma', start=0.0, stop=1.0, length=sweep_size))\n",
    "results = simulator.run_sweep(circuit, params=sweep, repetitions=100)\n",
    "\n",
    "min = None\n",
    "min_params = None\n",
    "for result in results:\n",
    "    value = obj_func(result)\n",
    "    if min is None or value < min:\n",
    "        min = value\n",
    "        min_params = result.params\n",
    "print('Minimum objective value is {}.'.format(min))"
   ]
  },
  {
   "cell_type": "code",
   "execution_count": null,
   "id": "82f39689",
   "metadata": {},
   "outputs": [],
   "source": []
  }
 ],
 "metadata": {
  "kernelspec": {
   "display_name": "Python 3",
   "language": "python",
   "name": "python3"
  },
  "language_info": {
   "codemirror_mode": {
    "name": "ipython",
    "version": 3
   },
   "file_extension": ".py",
   "mimetype": "text/x-python",
   "name": "python",
   "nbconvert_exporter": "python",
   "pygments_lexer": "ipython3",
   "version": "3.8.10"
  }
 },
 "nbformat": 4,
 "nbformat_minor": 5
}
