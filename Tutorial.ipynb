{
 "cells": [
  {
   "cell_type": "code",
   "execution_count": 1,
   "id": "99e51543",
   "metadata": {},
   "outputs": [
    {
     "name": "stdout",
     "output_type": "stream",
     "text": [
      "                                             (0, 5)────(0, 6)\n",
      "                                             │         │\n",
      "                                             │         │\n",
      "                                    (1, 4)───(1, 5)────(1, 6)────(1, 7)\n",
      "                                    │        │         │         │\n",
      "                                    │        │         │         │\n",
      "                           (2, 3)───(2, 4)───(2, 5)────(2, 6)────(2, 7)───(2, 8)\n",
      "                           │        │        │         │         │        │\n",
      "                           │        │        │         │         │        │\n",
      "                  (3, 2)───(3, 3)───(3, 4)───(3, 5)────(3, 6)────(3, 7)───(3, 8)───(3, 9)\n",
      "                  │        │        │        │         │         │        │        │\n",
      "                  │        │        │        │         │         │        │        │\n",
      "         (4, 1)───(4, 2)───(4, 3)───(4, 4)───(4, 5)────(4, 6)────(4, 7)───(4, 8)───(4, 9)───(4, 10)\n",
      "         │        │        │        │        │         │         │        │        │        │\n",
      "         │        │        │        │        │         │         │        │        │        │\n",
      "(5, 0)───(5, 1)───(5, 2)───(5, 3)───(5, 4)───(5, 5)────(5, 6)────(5, 7)───(5, 8)───(5, 9)───(5, 10)───(5, 11)\n",
      "         │        │        │        │        │         │         │        │        │        │\n",
      "         │        │        │        │        │         │         │        │        │        │\n",
      "         (6, 1)───(6, 2)───(6, 3)───(6, 4)───(6, 5)────(6, 6)────(6, 7)───(6, 8)───(6, 9)───(6, 10)\n",
      "                  │        │        │        │         │         │        │        │\n",
      "                  │        │        │        │         │         │        │        │\n",
      "                  (7, 2)───(7, 3)───(7, 4)───(7, 5)────(7, 6)────(7, 7)───(7, 8)───(7, 9)\n",
      "                           │        │        │         │         │        │\n",
      "                           │        │        │         │         │        │\n",
      "                           (8, 3)───(8, 4)───(8, 5)────(8, 6)────(8, 7)───(8, 8)\n",
      "                                    │        │         │         │\n",
      "                                    │        │         │         │\n",
      "                                    (9, 4)───(9, 5)────(9, 6)────(9, 7)\n",
      "                                             │         │\n",
      "                                             │         │\n",
      "                                             (10, 5)───(10, 6)\n"
     ]
    }
   ],
   "source": [
    "import cirq_google\n",
    "import numpy as np\n",
    "import math\n",
    "import cirq\n",
    "import matplotlib.pyplot as plt\n",
    "print(cirq_google.Bristlecone)"
   ]
  },
  {
   "cell_type": "code",
   "execution_count": 2,
   "id": "04da7633",
   "metadata": {},
   "outputs": [
    {
     "name": "stdout",
     "output_type": "stream",
     "text": [
      "          ┌──┐\n",
      "0: ───H─────@────────\n",
      "            │\n",
      "1: ───H────@┼────H───\n",
      "           ││\n",
      "2: ────────X┼────────\n",
      "            │\n",
      "3: ─────────X────────\n",
      "          └──┘\n"
     ]
    }
   ],
   "source": [
    "#Ex 1\n",
    "q = cirq.LineQubit.range(4)\n",
    "op = [cirq.H(q[0]),cirq.H(q[1]),cirq.Moment([cirq.CNOT(q[1],q[2]),cirq.CNOT(q[0],q[3])]),cirq.H(q[1])]\n",
    "c = cirq.Circuit(op)\n",
    "print(c)"
   ]
  },
  {
   "cell_type": "code",
   "execution_count": 3,
   "id": "1b7a6d5c",
   "metadata": {},
   "outputs": [
    {
     "name": "stdout",
     "output_type": "stream",
     "text": [
      "0: ───@───X───@───\n",
      "      │   │   │\n",
      "1: ───X───@───X───\n"
     ]
    }
   ],
   "source": [
    "\"\"\"Creating a circuit from generator functions.\"\"\"\n",
    "def xor_swap(a, b):\n",
    "    \"\"\"Swaps two qubits with three CNOTs.\"\"\"\n",
    "    yield cirq.CNOT(a, b) # |a> |b> --> |a> |a ^ b>\n",
    "    yield cirq.CNOT(b, a) # |a> |a ^ b> --> |a ^ a ^ b> | a ^ b> = |b>|a^b>\n",
    "    yield cirq.CNOT(a, b) # |b> |a ^ b> --> |b>|a ^ b ^ b> = |b> |a>\n",
    "\n",
    "print(cirq.Circuit(xor_swap(cirq.LineQubit(0), cirq.LineQubit(1))))\n"
   ]
  },
  {
   "cell_type": "code",
   "execution_count": 4,
   "id": "1fa83dcf",
   "metadata": {},
   "outputs": [
    {
     "name": "stdout",
     "output_type": "stream",
     "text": [
      "0: ───@───X───@───────────────────────────────────────\n",
      "      │   │   │\n",
      "1: ───X───@───X───@───X───@───────────────────────────\n",
      "                  │   │   │\n",
      "2: ───────────────X───@───X───@───X───@───────────────\n",
      "                              │   │   │\n",
      "3: ───────────────────────────X───@───X───@───X───@───\n",
      "                                          │   │   │\n",
      "4: ───────────────────────────────────────X───@───X───\n"
     ]
    }
   ],
   "source": [
    "#Ex 2\n",
    "q = cirq.LineQubit.range(5)\n",
    "#ops = [xor_swap(q[0],q[1]),xor_swap(q[1],q[2]),xor_swap(q[2],q[3]),xor_swap(q[3],q[4])]\n",
    "\n",
    "def left_rotate(q, shifts):\n",
    "    for s in range(shifts):\n",
    "        for x in range(len(q) - 1):\n",
    "            yield xor_swap(q[x],q[x + 1])\n",
    "\n",
    "c = cirq.Circuit(left_rotate(q, 1))\n",
    "print(c)"
   ]
  },
  {
   "cell_type": "code",
   "execution_count": 5,
   "id": "d06aa8f6",
   "metadata": {},
   "outputs": [
    {
     "name": "stdout",
     "output_type": "stream",
     "text": [
      "a: ───@───H───────────H───H───\n",
      "      │\n",
      "b: ───@───────H───@───H───────\n",
      "                  │\n",
      "c: ───H───────────@───────────\n"
     ]
    }
   ],
   "source": [
    "#Ex 3\n",
    "a = cirq.NamedQubit(\"a\")\n",
    "b = cirq.NamedQubit(\"b\")\n",
    "c = cirq.NamedQubit(\"c\")\n",
    "\n",
    "circuit = cirq.Circuit()\n",
    "circuit.append([cirq.CZ(a,b), cirq.H(c), cirq.H(a)])\n",
    "circuit.append([cirq.H(b),cirq.CZ(b,c),cirq.H(b)], strategy=cirq.InsertStrategy.NEW)\n",
    "circuit.append([cirq.H(a),cirq.H(a)], strategy=cirq.InsertStrategy.INLINE)\n",
    "\n",
    "print(circuit)\n"
   ]
  },
  {
   "cell_type": "code",
   "execution_count": 6,
   "id": "8f9a3305",
   "metadata": {},
   "outputs": [
    {
     "name": "stdout",
     "output_type": "stream",
     "text": [
      "Circuit for f_0:\n",
      "0: ───H───H───M───\n",
      "\n",
      "1: ───X───H───────\n",
      "\n",
      "Circuit for f_1:\n",
      "0: ───H───H───M───\n",
      "\n",
      "1: ───X───H───X───\n",
      "\n",
      "Circuit for f_x:\n",
      "0: ───H───────@───H───M───\n",
      "              │\n",
      "1: ───X───H───X───────────\n",
      "\n",
      "Circuit for f_notx:\n",
      "0: ───H───────@───H───M───\n",
      "              │\n",
      "1: ───X───H───X───X───────\n",
      "\n"
     ]
    }
   ],
   "source": [
    "#Deutsch Algorithm\n",
    "\"\"\"Store the operations to query each function in a dictionary.\"\"\"\n",
    "# Get qubits for the operations to act on.\n",
    "q0, q1 = cirq.LineQubit.range(2)\n",
    "\n",
    "# Define the dictionary of operations. The key of each dictionary entry\n",
    "# is the subscript of the function f in the above explanatory text.\n",
    "oracles = {\n",
    "    '0': [],\n",
    "    '1': [cirq.X(q1)],\n",
    "    'x': [cirq.CNOT(q0, q1)],\n",
    "    'notx': [cirq.CNOT(q0, q1), cirq.X(q1)]\n",
    "}\n",
    "\n",
    "\"\"\"Creating the circuit used in Deutsch's algorithm.\"\"\"\n",
    "def deutsch_algorithm(oracle):\n",
    "    \"\"\"Returns the circuit for Deutsch's algorithm given an input\n",
    "    oracle, i.e., a sequence of operations to query a particular function.\n",
    "    \"\"\"\n",
    "    yield cirq.X(q1)\n",
    "    yield cirq.H(q0), cirq.H(q1)\n",
    "    yield oracle\n",
    "    yield cirq.H(q0)\n",
    "    yield cirq.measure(q0)\n",
    "\n",
    "for key, oracle in oracles.items():\n",
    "    print(f\"Circuit for f_{key}:\")\n",
    "    print(cirq.Circuit(deutsch_algorithm(oracle)), end=\"\\n\\n\")\n"
   ]
  },
  {
   "cell_type": "code",
   "execution_count": 7,
   "id": "c5c59344",
   "metadata": {},
   "outputs": [
    {
     "name": "stdout",
     "output_type": "stream",
     "text": [
      "oracle: f_0    results: 0=0000000000\n",
      "oracle: f_1    results: 0=0000000000\n",
      "oracle: f_x    results: 0=1111111111\n",
      "oracle: f_notx results: 0=1111111111\n"
     ]
    }
   ],
   "source": [
    "\"\"\"Simulate each of the circuits.\"\"\"\n",
    "simulator = cirq.Simulator()\n",
    "for key, oracle in oracles.items():\n",
    "    result = simulator.run(cirq.Circuit(deutsch_algorithm(oracle)), \n",
    "                          repetitions=10)\n",
    "    print('oracle: f_{:<4} results: {}'.format(key, result))\n"
   ]
  },
  {
   "cell_type": "code",
   "execution_count": 8,
   "id": "176727f1",
   "metadata": {},
   "outputs": [],
   "source": [
    "\"\"\"Operations to query all possible functions on two bits.\n",
    "Two of these functions are constant, and six of these functions are balanced.\n",
    "\"\"\"\n",
    "# Define three qubits to use.\n",
    "q0, q1, q2 = cirq.LineQubit.range(3)\n",
    "\n",
    "# Define the operations to query each of the two constant functions.\n",
    "constant = (\n",
    "    [], \n",
    "    [cirq.X(q2)]\n",
    ")\n",
    "\n",
    "# Define the operations to query each of the six balanced functions.\n",
    "balanced = (\n",
    "    [cirq.CNOT(q0, q2)], \n",
    "    [cirq.CNOT(q1, q2)], \n",
    "    [cirq.CNOT(q0, q2), cirq.CNOT(q1, q2)],\n",
    "    [cirq.CNOT(q0, q2), cirq.X(q2)], \n",
    "    [cirq.CNOT(q1, q2), cirq.X(q2)], \n",
    "    [cirq.CNOT(q0, q2), cirq.CNOT(q1, q2), cirq.X(q2)]\n",
    ")"
   ]
  },
  {
   "cell_type": "code",
   "execution_count": 19,
   "id": "0b832d3b",
   "metadata": {},
   "outputs": [],
   "source": [
    "#Ex 3: Deutsch-Joza Algorithm\n",
    "def dj_algorithm(oracle):\n",
    "    yield cirq.X(q2), cirq.H(q2)\n",
    "    yield cirq.H(q0), cirq.H(q1)\n",
    "    yield oracle\n",
    "    yield cirq.H(q0),cirq.H(q1), cirq.H(q2)\n",
    "    #yield cirq.measure(q0), cirq.measure(q1)\n",
    "    #THIS WORKS: if at least 1 of the measured qubits is 1, then it is balanced\n",
    "    #We can add an or gate to make this more clear\n",
    "    #To do this, note that it is only constant if both outputs are 0\n",
    "    # not(A) and not(b) will only return 1 if both outputs are 0, this is what we need: it acts as an or gate\n",
    "    yield cirq.X(q0), cirq.X(q1)\n",
    "    \n",
    "    #flips q2 only if q0 and q1 are true (false from before)\n",
    "    yield cirq.CCX(q0, q1, q2)\n",
    "    yield cirq.measure(q2)"
   ]
  },
  {
   "cell_type": "code",
   "execution_count": 20,
   "id": "95ae162e",
   "metadata": {},
   "outputs": [
    {
     "name": "stdout",
     "output_type": "stream",
     "text": [
      "\n",
      "Your result on constant functions:\n",
      "0: ───H───H───X───@───────\n",
      "                  │\n",
      "1: ───H───H───X───@───────\n",
      "                  │\n",
      "2: ───X───H───H───X───M───\n",
      "2=0000000000\n",
      "0: ───H───H───X───────@───────\n",
      "                      │\n",
      "1: ───H───H───X───────@───────\n",
      "                      │\n",
      "2: ───X───H───X───H───X───M───\n",
      "2=0000000000\n",
      "\n",
      "Your result on balanced functions:\n",
      "              ┌──┐\n",
      "0: ───H────────@─────H───X───@───────\n",
      "               │             │\n",
      "1: ───H───H────┼X────────────@───────\n",
      "               │             │\n",
      "2: ───X───H────X─────H───────X───M───\n",
      "              └──┘\n",
      "2=1111111111\n",
      "0: ───H───H───X───────────@───────\n",
      "                          │\n",
      "1: ───H───────@───H───X───@───────\n",
      "              │           │\n",
      "2: ───X───H───X───H───────X───M───\n",
      "2=1111111111\n",
      "0: ───H───────@───H───X───────@───────\n",
      "              │               │\n",
      "1: ───H───────┼───@───H───X───@───────\n",
      "              │   │           │\n",
      "2: ───X───H───X───X───H───────X───M───\n",
      "2=1111111111\n",
      "              ┌──┐\n",
      "0: ───H────────@─────H───X───@───────\n",
      "               │             │\n",
      "1: ───H───H────┼X────────────@───────\n",
      "               │             │\n",
      "2: ───X───H────X─────X───H───X───M───\n",
      "              └──┘\n",
      "2=1111111111\n",
      "0: ───H───H───X───────────@───────\n",
      "                          │\n",
      "1: ───H───────@───H───X───@───────\n",
      "              │           │\n",
      "2: ───X───H───X───X───H───X───M───\n",
      "2=1111111111\n",
      "0: ───H───────@───H───X───────@───────\n",
      "              │               │\n",
      "1: ───H───────┼───@───H───X───@───────\n",
      "              │   │           │\n",
      "2: ───X───H───X───X───X───H───X───M───\n",
      "2=1111111111\n"
     ]
    }
   ],
   "source": [
    "\"\"\"Check your answer by running this cell.\"\"\"\n",
    "simulator = cirq.Simulator()\n",
    "\n",
    "print(\"\\nYour result on constant functions:\")\n",
    "for oracle in constant:\n",
    "    print(cirq.Circuit(dj_algorithm(oracle)))\n",
    "    result = simulator.run(cirq.Circuit(dj_algorithm(oracle)), repetitions=10)\n",
    "    print(result)\n",
    "\n",
    "print(\"\\nYour result on balanced functions:\")\n",
    "for oracle in balanced:\n",
    "    print(cirq.Circuit(dj_algorithm(oracle)))\n",
    "    result = simulator.run(cirq.Circuit(dj_algorithm(oracle)), repetitions=10)\n",
    "    print(result)\n"
   ]
  },
  {
   "cell_type": "code",
   "execution_count": 21,
   "id": "bfadb6f9",
   "metadata": {},
   "outputs": [
    {
     "data": {
      "image/png": "[encoded data removed]",
      "text/plain": [
       "<Figure size 432x288 with 1 Axes>"
      ]
     },
     "metadata": {},
     "output_type": "display_data"
    }
   ],
   "source": [
    "\"\"\"Plot the probability of measuring a qubit in the ground state.\"\"\"\n",
    "# Get a qubit.\n",
    "a = cirq.NamedQubit('a')\n",
    "\n",
    "# Get a circuit of a bunch of X rotations.\n",
    "num_angles = 200\n",
    "circuit = cirq.Circuit([cirq.Rx(rads=np.pi / 50.0)(a) for theta in range(num_angles)])\n",
    "\n",
    "# List to store probabilities of the ground state.\n",
    "probs = []\n",
    "\n",
    "# Step through the simulation results.\n",
    "for step in simulator.simulate_moment_steps(circuit):\n",
    "    prob = np.abs(step.state_vector()) ** 2\n",
    "    probs.append(prob[0])\n",
    "\n",
    "# Plot the probability of the ground state at each simulation step.\n",
    "plt.style.use('seaborn-whitegrid')\n",
    "plt.plot(probs, 'o')\n",
    "plt.xlabel(\"Step\")\n",
    "plt.ylabel(\"Probability of ground state\");\n"
   ]
  },
  {
   "cell_type": "code",
   "execution_count": 99,
   "id": "c3160e84",
   "metadata": {},
   "outputs": [
    {
     "data": {
      "image/png": "[encoded data removed]",
      "text/plain": [
       "<Figure size 432x288 with 1 Axes>"
      ]
     },
     "metadata": {},
     "output_type": "display_data"
    }
   ],
   "source": [
    "\"\"\"Plot the probability of measuring a qubit in the ground state by sampling.\"\"\"\n",
    "# Number of times to sample.\n",
    "repetitions = 100\n",
    "\n",
    "# List to store the probability of the ground state.\n",
    "sampled_probs = []\n",
    "\n",
    "for i, step in enumerate(simulator.simulate_moment_steps(circuit)):\n",
    "    samples = step.sample([a], repetitions=repetitions)\n",
    "    prob = np.sum(samples, axis=0)[0] / repetitions\n",
    "    sampled_probs.append(prob)\n",
    "\n",
    "\n",
    "# Plot the probability of the ground state at each simulation step.\n",
    "plt.style.use('seaborn-whitegrid')\n",
    "plt.plot(sampled_probs, 'o')\n",
    "plt.xlabel(\"Step\")\n",
    "plt.ylabel(\"Probability of ground state\");\n"
   ]
  },
  {
   "cell_type": "code",
   "execution_count": 100,
   "id": "1a88946c",
   "metadata": {},
   "outputs": [],
   "source": [
    "\"\"\"Example of defining a custom gate in Cirq.\"\"\"\n",
    "class RationalGate(cirq.SingleQubitGate):\n",
    "\n",
    "    def _unitary_(self):\n",
    "        return np.array([[3 / 5, 4 / 5], [-4 / 5, 3 / 5]])\n",
    "\n",
    "    def __str__(self):\n",
    "        return 'ζ'\n"
   ]
  },
  {
   "cell_type": "code",
   "execution_count": 101,
   "id": "c1061b21",
   "metadata": {},
   "outputs": [
    {
     "name": "stdout",
     "output_type": "stream",
     "text": [
      "a: ───ζ───\n"
     ]
    }
   ],
   "source": [
    "\"\"\"Using the custom gate in a circuit.\"\"\"\n",
    "a = cirq.NamedQubit('a')\n",
    "rg = RationalGate()\n",
    "print(cirq.Circuit(rg(a)))"
   ]
  },
  {
   "cell_type": "code",
   "execution_count": 102,
   "id": "1315d444",
   "metadata": {},
   "outputs": [
    {
     "name": "stdout",
     "output_type": "stream",
     "text": [
      "[[ 0.6  0.8]\n",
      " [-0.8  0.6]]\n"
     ]
    }
   ],
   "source": [
    "print(cirq.unitary(rg))\n"
   ]
  },
  {
   "cell_type": "code",
   "execution_count": 103,
   "id": "fe6e1bd9",
   "metadata": {},
   "outputs": [
    {
     "name": "stdout",
     "output_type": "stream",
     "text": [
      "[ 0.6+0.j -0.8+0.j]\n"
     ]
    }
   ],
   "source": [
    "\"\"\"Simulate a circuit with a custom gate.\"\"\"\n",
    "circuit = cirq.Circuit(rg(a))\n",
    "simulator = cirq.Simulator()\n",
    "result = simulator.simulate(circuit)\n",
    "print(result.final_state_vector)"
   ]
  },
  {
   "cell_type": "code",
   "execution_count": 118,
   "id": "40cacdbf",
   "metadata": {},
   "outputs": [
    {
     "name": "stdout",
     "output_type": "stream",
     "text": [
      "[[1.   +0.j    0.   +0.j    0.   +0.j    0.   +0.j   ]\n",
      " [0.   +0.j    1.   +0.j    0.   +0.j    0.   +0.j   ]\n",
      " [0.   +0.j    0.   +0.j    0.707+0.j    0.   -0.707j]\n",
      " [1.   +0.j    0.   +0.j    0.   -0.707j 0.707+0.j   ]]\n"
     ]
    }
   ],
   "source": [
    "#Ex 4\n",
    "\"\"\"Define a custom controlled cirq.rx gate here.\"\"\"\n",
    "class CRx(cirq.TwoQubitGate):\n",
    "    def __init__(self, theta):\n",
    "        self.theta = theta\n",
    "\n",
    "    def _unitary_(self):\n",
    "        return np.array([[1, 0, 0, 0], [0, 1, 0, 0], \n",
    "                         [0, 0, math.cos(self.theta / 2) , -1j * math.sin(self.theta / 2)], \n",
    "                         [1, 0, -1j * math.sin(self.theta / 2), math.cos(self.theta / 2)]])\n",
    "\n",
    "    def _circuit_diagram_info_(self, args):\n",
    "        return '@', 'Rx({}π)'.format(self.theta / np.pi)\n",
    "\n",
    "# Print out its unitary.\n",
    "print(np.around(cirq.unitary(CRx(0.5 * np.pi)), 3))"
   ]
  },
  {
   "cell_type": "code",
   "execution_count": 119,
   "id": "ad58a91c",
   "metadata": {},
   "outputs": [
    {
     "name": "stdout",
     "output_type": "stream",
     "text": [
      "Circuit diagram:\n",
      "a: ───@───────────\n",
      "      │\n",
      "b: ───Rx(0.25π)───\n"
     ]
    }
   ],
   "source": [
    "\"\"\"Display a circuit with the custom gate.\"\"\"\n",
    "# Get qubits.\n",
    "a = cirq.NamedQubit('a')\n",
    "b = cirq.NamedQubit('b')\n",
    "\n",
    "# Display the circuit.\n",
    "print('Circuit diagram:')\n",
    "print(cirq.Circuit(CRx(0.25 * np.pi)(a, b)))"
   ]
  },
  {
   "cell_type": "code",
   "execution_count": 120,
   "id": "fef012c9",
   "metadata": {},
   "outputs": [
    {
     "name": "stdout",
     "output_type": "stream",
     "text": [
      "a: ───HX───\n"
     ]
    }
   ],
   "source": [
    "\"\"\"Example of a custom gate which supports the decompose protocol.\"\"\"\n",
    "class HXGate(cirq.SingleQubitGate):\n",
    "\n",
    "    def _decompose_(self, qubits):\n",
    "        return cirq.H(*qubits), cirq.X(*qubits)\n",
    "\n",
    "    def __str__(self):\n",
    "        return 'HX'\n",
    "    \n",
    "\"\"\"Use the gate in a circuit.\"\"\"\n",
    "HX = HXGate()\n",
    "\n",
    "a = cirq.NamedQubit('a')\n",
    "circuit = cirq.Circuit(HX(a))\n",
    "print(circuit)"
   ]
  },
  {
   "cell_type": "code",
   "execution_count": 121,
   "id": "84a19750",
   "metadata": {},
   "outputs": [
    {
     "name": "stdout",
     "output_type": "stream",
     "text": [
      "a: ───Y^0.5───X───X───\n"
     ]
    }
   ],
   "source": [
    "\"\"\"Decompose the gate.\"\"\"\n",
    "print(cirq.Circuit(cirq.decompose(circuit)))"
   ]
  },
  {
   "cell_type": "code",
   "execution_count": 122,
   "id": "cc6c8ea2",
   "metadata": {},
   "outputs": [
    {
     "name": "stdout",
     "output_type": "stream",
     "text": [
      "a: ───H───X───\n"
     ]
    }
   ],
   "source": [
    "\"\"\"Decompose the gate once.\"\"\"\n",
    "print(cirq.Circuit(cirq.decompose_once(HX(a))))"
   ]
  },
  {
   "cell_type": "code",
   "execution_count": 123,
   "id": "dffbe703",
   "metadata": {},
   "outputs": [
    {
     "name": "stdout",
     "output_type": "stream",
     "text": [
      "Circuit with parameterized gates:\n",
      "\n",
      "a: ───X^s───\n",
      "\n",
      "b: ───X^s───\n"
     ]
    }
   ],
   "source": [
    "\"\"\"Define a circuit with parameterized gates.\"\"\"\n",
    "# Import sympy for parameterized values.\n",
    "import sympy as sp\n",
    "\n",
    "# Get qubits to use in the circuit.\n",
    "a = cirq.NamedQubit(\"a\")\n",
    "b = cirq.NamedQubit(\"b\")\n",
    "\n",
    "# Define a parameterized value.\n",
    "val = sp.Symbol(\"s\")\n",
    "\n",
    "# Create a circuit.\n",
    "circuit = cirq.Circuit(cirq.X.on(a) ** val, cirq.X.on(b) ** val)\n",
    "\n",
    "# Display it.\n",
    "print(\"Circuit with parameterized gates:\\n\")\n",
    "print(circuit)"
   ]
  },
  {
   "cell_type": "code",
   "execution_count": 124,
   "id": "4f5bfba9",
   "metadata": {},
   "outputs": [
    {
     "name": "stdout",
     "output_type": "stream",
     "text": [
      "s=0: [1.+0.j 0.+0.j 0.+0.j 0.+0.j]\n",
      "\n",
      "s=1: [ 0.6 +0.6j   0.25-0.25j  0.25-0.25j -0.1 -0.1j ]\n",
      "\n",
      "s=2: [0. +0.5j 0.5+0.j  0.5+0.j  0. -0.5j]\n",
      "\n",
      "s=3: [-0.1 +0.1j   0.25+0.25j  0.25+0.25j  0.6 -0.6j ]\n",
      "\n",
      "s=4: [0.+0.j 0.+0.j 0.+0.j 1.+0.j]\n",
      "\n"
     ]
    }
   ],
   "source": [
    "\"\"\"Simulate the circuit at multiple parameter values.\"\"\"\n",
    "simulator = cirq.Simulator()\n",
    "\n",
    "# Simulate the circuit for several values of the parameter.\n",
    "num_params = 5\n",
    "for y in range(num_params):\n",
    "    result = simulator.simulate(circuit, param_resolver={\"s\": y / 4.0})\n",
    "    print(\"s={}: {}\\n\".format(y, np.around(result.final_state_vector, 2)))"
   ]
  },
  {
   "cell_type": "code",
   "execution_count": 125,
   "id": "0eb62b19",
   "metadata": {},
   "outputs": [
    {
     "name": "stdout",
     "output_type": "stream",
     "text": [
      "params: OrderedDict([('s', 0.0)])\n",
      "a=0000000000\n",
      "b=0000000000\n",
      "\n",
      "params: OrderedDict([('s', 0.125)])\n",
      "a=0000000100\n",
      "b=0000000000\n",
      "\n",
      "params: OrderedDict([('s', 0.25)])\n",
      "a=0001000000\n",
      "b=0100000000\n",
      "\n",
      "params: OrderedDict([('s', 0.375)])\n",
      "a=1101100010\n",
      "b=1001000010\n",
      "\n",
      "params: OrderedDict([('s', 0.5)])\n",
      "a=0101110111\n",
      "b=1010100101\n",
      "\n"
     ]
    }
   ],
   "source": [
    "\"\"\"Simulate the circuit at multiple parameter values.\"\"\"\n",
    "# Get a list of param resolvers.\n",
    "num_params = 5\n",
    "resolvers = [cirq.ParamResolver({'s': y / 8.0}) for y in range(num_params)]\n",
    "\n",
    "# Add measurements to the circuit.\n",
    "circuit.append([cirq.measure(a), cirq.measure(b)])\n",
    "\n",
    "# Simulate the circuit using run_sweep.\n",
    "results = simulator.run_sweep(\n",
    "    program=circuit,\n",
    "    params=resolvers,\n",
    "    repetitions=10\n",
    ")\n",
    "\n",
    "for i, result in enumerate(results):\n",
    "    print('params: {}\\n{}\\n'.format(result.params.param_dict, result))"
   ]
  },
  {
   "cell_type": "code",
   "execution_count": 133,
   "id": "8bbe5a24",
   "metadata": {},
   "outputs": [
    {
     "data": {
      "text/plain": [
       "<AxesSubplot:xlabel='theta'>"
      ]
     },
     "execution_count": 133,
     "metadata": {},
     "output_type": "execute_result"
    },
    {
     "data": {
      "image/png": "[encoded data removed]",
      "text/plain": [
       "<Figure size 432x288 with 1 Axes>"
      ]
     },
     "metadata": {},
     "output_type": "display_data"
    }
   ],
   "source": [
    "'''\n",
    "import pandas\n",
    "q = cirq.NamedQubit(\"q\")\n",
    "theta = sp.Symbol(\"theta\")\n",
    "parameterized_circuit = cirq.Circuit(\n",
    "    # your code here\n",
    "    cirq.X.on(q) ** theta\n",
    "    cirq.measure(q)\n",
    ")\n",
    "# replace None with something else\n",
    "\n",
    "resolvers = [cirq.ParamResolver({'s': t / 100}) for t in range(100)]\n",
    "\n",
    "param_resolvers = None\n",
    "repetitions = 100\n",
    "results = cirq.Simulator().sample(\n",
    "    program=parameterized_circuit,\n",
    "    params=param_resolvers,\n",
    "    repetitions=repetitions\n",
    ")\n",
    "\n",
    "# You can test with the following plot\n",
    "# pandas.crosstab(results.theta, results.q).plot()'''\n",
    "import pandas\n",
    "q = cirq.NamedQubit(\"q\")\n",
    "parameterized_circuit = cirq.Circuit([cirq.Rx(rads=sp.Symbol(\"theta\"))(q), cirq.measure(q)])\n",
    "param_resolvers = cirq.Linspace(start=0, stop=np.pi, length=100, key='theta')\n",
    "results = cirq.Simulator().sample(\n",
    "    program=parameterized_circuit,\n",
    "    params=param_resolvers,\n",
    "    repetitions=repetitions\n",
    ")\n",
    "pandas.crosstab(results.theta, results.q).plot()\n"
   ]
  },
  {
   "cell_type": "code",
   "execution_count": 134,
   "id": "a209c153",
   "metadata": {},
   "outputs": [
    {
     "name": "stdout",
     "output_type": "stream",
     "text": [
      "Before optimizing:\n",
      "a: ───H───@───H───@───\n",
      "          │       │\n",
      "b: ───H───X───H───@───\n",
      "\n",
      "c: ───H───────────────\n",
      "\n",
      "After optimizing:\n",
      "a: ───X───────────@───\n",
      "      │           │\n",
      "b: ───@───────────@───\n",
      "\n",
      "c: ───H───────────────\n"
     ]
    }
   ],
   "source": [
    "class CXOptimizer(cirq.PointOptimizer):\n",
    "    \"\"\"Replaces a CX surrounded by Hadamards\n",
    "\n",
    "        Note: This implementation does not generalize for all situations. It is\n",
    "        a simplified version which works for the trivial case where Hs, CX, Hs\n",
    "        are present in consecutive moments, as given in the sample input.\n",
    "    \"\"\"\n",
    "\n",
    "    def optimization_at(self, circuit, index, op):\n",
    "        if isinstance(op, cirq.GateOperation) and (op.gate == cirq.H):\n",
    "            q0, = op.qubits\n",
    "            next_op = circuit.operation_at(q0, index + 1)\n",
    "            if isinstance(next_op, cirq.GateOperation) and next_op.gate == cirq.CX:\n",
    "                qubits = circuit.operation_at(q0, index + 1).qubits\n",
    "                if all(\n",
    "                    circuit.operation_at(q, idx).gate == cirq.H\n",
    "                    for idx in [index, index + 2]\n",
    "                    for q in qubits\n",
    "                ):\n",
    "                    return cirq.PointOptimizationSummary(\n",
    "                        clear_span = 3,\n",
    "                        clear_qubits = qubits,\n",
    "                        new_operations = [cirq.CX(qubits[1], qubits[0])]\n",
    "                    )\n",
    "\n",
    "opt = CXOptimizer()\n",
    "circuit = cirq.Circuit(\n",
    "    cirq.H.on_each(a, b, c), \n",
    "    cirq.CNOT(a, b), \n",
    "    cirq.H.on_each(a, b), \n",
    "    cirq.CZ(a, b)\n",
    ")\n",
    "print(\"Before optimizing:\\n{}\\n\". format(circuit))\n",
    "opt.optimize_circuit(circuit)\n",
    "print(\"After optimizing:\\n{}\".format(circuit))\n"
   ]
  },
  {
   "cell_type": "code",
   "execution_count": null,
   "id": "da77c295",
   "metadata": {},
   "outputs": [],
   "source": []
  }
 ],
 "metadata": {
  "kernelspec": {
   "display_name": "Python 3",
   "language": "python",
   "name": "python3"
  },
  "language_info": {
   "codemirror_mode": {
    "name": "ipython",
    "version": 3
   },
   "file_extension": ".py",
   "mimetype": "text/x-python",
   "name": "python",
   "nbconvert_exporter": "python",
   "pygments_lexer": "ipython3",
   "version": "3.8.10"
  }
 },
 "nbformat": 4,
 "nbformat_minor": 5
}
