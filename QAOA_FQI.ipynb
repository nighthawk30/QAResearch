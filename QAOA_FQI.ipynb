{
 "cells": [
  {
   "cell_type": "code",
   "execution_count": 1,
   "id": "da22bc99",
   "metadata": {},
   "outputs": [],
   "source": [
    "#Quantum Approximate Optimization Algorithm - This is it\n",
    "import cirq\n",
    "import numpy as np\n",
    "import random\n",
    "import math\n",
    "import matplotlib.pyplot as plt\n",
    "from cirq.contrib.svg import SVGCircuit, circuit_to_svg"
   ]
  },
  {
   "cell_type": "code",
   "execution_count": 8,
   "id": "f6b800d1",
   "metadata": {},
   "outputs": [],
   "source": [
    "#Functions (a)\n",
    "def chooseHp():\n",
    "    H = np.array([[0]*4]*12) #qubit indices ijk (1-6) and coefficient W_ijk(+-1) {Q_i, Q_j, Q_k, V_ijk}\n",
    "    check = np.array([0]*6) #keeps track of all indices that have been chosen\n",
    "\n",
    "    #12 triplets\n",
    "    for x in range(12):\n",
    "        free = [0,1,2,3,4,5] #remaining qubit options(each can be chosen once)\n",
    "        #3 qubits\n",
    "        for y in range(3):\n",
    "            qindex = free[random.randint(0,len(free)-1)]\n",
    "            free.remove(qindex)\n",
    "            H[x,y] = qindex\n",
    "            check[qindex] = 1\n",
    "        #Coefficient\n",
    "        H[x, 3] = (-1) ** random.randint(0, 1)\n",
    "\n",
    "    #If an index hasn't been chosen, redo\n",
    "    for x in range(6):\n",
    "        if check[x] == 0:\n",
    "            return chooseHp()\n",
    "        else:\n",
    "            return H\n",
    "\n",
    "def findEnergy(state, H_p):\n",
    "    #Calculate the energy of a state\n",
    "    energy = 0\n",
    "    #For each triplet of h_p if the qubits are 1 in the state, multiply by 1 else -1 (-1*1*-1)\n",
    "    for triplet in H_p:\n",
    "            weight = 1\n",
    "            for i in range(3):\n",
    "                if state[triplet[i]]:\n",
    "                    weight *= 1\n",
    "                else:\n",
    "                    weight *= -1\n",
    "            weight *= triplet[3]#then scale by the weight\n",
    "            energy += weight#energy is the sum of the 12 weights\n",
    "    return energy\n",
    "\n",
    "#Classical search for ground state energy\n",
    "def findGround(H_p):\n",
    "    ground_energy = 13\n",
    "    \n",
    "    #build the state vector - all 64 options\n",
    "    stateList = []\n",
    "    for a in range(2):\n",
    "        for b in range(2):\n",
    "            for c in range(2):\n",
    "                for d in range(2):\n",
    "                    for e in range(2):\n",
    "                        for f in range(2):\n",
    "                            estate = [a,b,c,d,e,f,0]#The last index is the energy of the state\n",
    "                            stateList.append(estate)\n",
    "\n",
    "    #Calculate the energy of each state\n",
    "    for state in stateList:\n",
    "        state[6] = findEnergy(state, H_p)\n",
    "        #update the ground state energy - its always even since there are an even # of triplets\n",
    "        ground_energy = min(ground_energy, state[6])\n",
    "    \n",
    "    #Find ground states\n",
    "    ground_state = []\n",
    "    for state in stateList:\n",
    "        if state[6] == ground_energy:\n",
    "            ground_state.append(state)\n",
    "    \n",
    "    return(ground_state)\n",
    "\n",
    "#Cant mix lists and generators in python\n",
    "def rotation3Z(q0, q1, q2, anc, angle):\n",
    "    oplist = []\n",
    "    oplist.append(cirq.CNOT(q0, anc))\n",
    "    oplist.append(cirq.CNOT(q1, anc))\n",
    "    oplist.append(cirq.CNOT(q2, anc))\n",
    "    oplist.append(cirq.rz(2 * angle)(anc))\n",
    "    oplist.append(cirq.CNOT(q2, anc))\n",
    "    oplist.append(cirq.CNOT(q1, anc))\n",
    "    oplist.append(cirq.CNOT(q0, anc))\n",
    "    return oplist\n",
    "\n",
    "def QAOA_1(qbit, ancilla, H_p ,alpha, beta):\n",
    "    #|ψ) → e^iβH_D*e^iαH_P|ψ) : \n",
    "    oplist = []\n",
    "    #Add Hadamards\n",
    "    for q in qbit:\n",
    "        oplist.append(cirq.H(q))\n",
    "    #Add H_p: 3 qubit Z rotations\n",
    "    for triple in H_p:\n",
    "        oplist.append(rotation3Z(qbit[triple[0]], qbit[triple[1]], qbit[triple[2]], ancilla, alpha))\n",
    "    #Add single X rotations\n",
    "    for q in qbit:\n",
    "        oplist.append(cirq.rx(-beta)(q))\n",
    "    #Measure\n",
    "    oplist.append(cirq.measure(*qbit,key='z'))\n",
    "    \n",
    "    return oplist\n",
    "\n",
    "#Convert state key into proper format (binary list)\n",
    "def key_to_state(key, qubits):\n",
    "    binaryformat = \"{0:0\" + str(len(qubits)) + \"b}\"\n",
    "    bitstate = binaryformat.format(int(key))#Convert to binary to get the state as a string\n",
    "    state = [0]*len(qubits)\n",
    "    for i in range(len(bitstate)):\n",
    "        if bitstate[i] == '1':\n",
    "            state[i] = 1\n",
    "    return state\n",
    "    \n",
    "\n",
    "#Finds the expectation value of a measurement in the z basis\n",
    "def expectHp(oplist, qubits, H_p, gs_energy):\n",
    "    sim = cirq.Simulator()\n",
    "    circuit = cirq.Circuit(oplist)\n",
    "    \n",
    "    counts = 1000\n",
    "    samples = sim.run(circuit, repetitions=counts)\n",
    "    data = samples.histogram(key='z')#Returns the state and the number of times it was hit\n",
    "    \n",
    "    energy_avg = 0 #The average energy of the resulting state for the circuit\n",
    "    ground_avg = 0 #Average times a ground state was hit\n",
    "    \n",
    "    #Dictionary: key = qubit state measurement, value = number of results\n",
    "    for key, value in data.items():\n",
    "        true_state = key_to_state(int(key), qubits)#Get the state it hit\n",
    "        energy3Z = findEnergy(true_state, H_p)#The energy of the state\n",
    "        energy_avg += int(value) * energy3Z\n",
    "        if energy3Z == gs_energy:#The state is a ground state\n",
    "            ground_avg += int(value)\n",
    "        \n",
    "    energy_avg /= counts\n",
    "    ground_avg /= counts\n",
    "    return [energy_avg, ground_avg]"
   ]
  },
  {
   "cell_type": "code",
   "execution_count": 9,
   "id": "1babf8b3",
   "metadata": {},
   "outputs": [
    {
     "name": "stdout",
     "output_type": "stream",
     "text": [
      "Ground Energy:  -8\n"
     ]
    }
   ],
   "source": [
    "#Initialize Problem\n",
    "H_p = chooseHp()\n",
    "ground = findGround(H_p)\n",
    "ground_energy = ground[0][6]\n",
    "print(\"Ground Energy: \", ground_energy)"
   ]
  },
  {
   "cell_type": "code",
   "execution_count": 10,
   "id": "1ac52bd1",
   "metadata": {},
   "outputs": [
    {
     "name": "stdout",
     "output_type": "stream",
     "text": [
      "[-0.026, 0.015]\n"
     ]
    },
    {
     "data": {
      "image/svg+xml": [
       "<svg xmlns=\"http://www.w3.org/2000/svg\" width=\"5737.771132812497\" height=\"390.0\"><line x1=\"30.0\" x2=\"5707.771132812497\" y1=\"45.0\" y2=\"45.0\" stroke=\"#1967d2\" stroke-width=\"1\" /><line x1=\"30.0\" x2=\"5707.771132812497\" y1=\"95.0\" y2=\"95.0\" stroke=\"#1967d2\" stroke-width=\"1\" /><line x1=\"30.0\" x2=\"5707.771132812497\" y1=\"145.0\" y2=\"145.0\" stroke=\"#1967d2\" stroke-width=\"1\" /><line x1=\"30.0\" x2=\"5707.771132812497\" y1=\"195.0\" y2=\"195.0\" stroke=\"#1967d2\" stroke-width=\"1\" /><line x1=\"30.0\" x2=\"5707.771132812497\" y1=\"245.0\" y2=\"245.0\" stroke=\"#1967d2\" stroke-width=\"1\" /><line x1=\"30.0\" x2=\"5707.771132812497\" y1=\"295.0\" y2=\"295.0\" stroke=\"#1967d2\" stroke-width=\"1\" /><line x1=\"30.0\" x2=\"5707.771132812497\" y1=\"345.0\" y2=\"345.0\" stroke=\"#1967d2\" stroke-width=\"1\" /><line x1=\"5390.274374999998\" x2=\"5521.286640624998\" y1=\"5.0\" y2=\"5.0\" stroke=\"black\" stroke-width=\"1\" /><line x1=\"5390.274374999998\" x2=\"5521.286640624998\" y1=\"385.0\" y2=\"385.0\" stroke=\"black\" stroke-width=\"1\" /><line x1=\"4904.397734374999\" x2=\"5035.409999999999\" y1=\"5.0\" y2=\"5.0\" stroke=\"black\" stroke-width=\"1\" /><line x1=\"4904.397734374999\" x2=\"5035.409999999999\" y1=\"385.0\" y2=\"385.0\" stroke=\"black\" stroke-width=\"1\" /><line x1=\"4298.521093750001\" x2=\"4429.533359375\" y1=\"5.0\" y2=\"5.0\" stroke=\"black\" stroke-width=\"1\" /><line x1=\"4298.521093750001\" x2=\"4429.533359375\" y1=\"385.0\" y2=\"385.0\" stroke=\"black\" stroke-width=\"1\" /><line x1=\"150.0\" x2=\"150.0\" y1=\"145.0\" y2=\"345.0\" stroke=\"black\" stroke-width=\"3\" /><line x1=\"210.0\" x2=\"210.0\" y1=\"195.0\" y2=\"345.0\" stroke=\"black\" stroke-width=\"3\" /><line x1=\"270.0\" x2=\"270.0\" y1=\"295.0\" y2=\"345.0\" stroke=\"black\" stroke-width=\"3\" /><line x1=\"393.852109375\" x2=\"393.852109375\" y1=\"295.0\" y2=\"345.0\" stroke=\"black\" stroke-width=\"3\" /><line x1=\"453.852109375\" x2=\"453.852109375\" y1=\"195.0\" y2=\"345.0\" stroke=\"black\" stroke-width=\"3\" /><line x1=\"513.852109375\" x2=\"513.852109375\" y1=\"145.0\" y2=\"345.0\" stroke=\"black\" stroke-width=\"3\" /><line x1=\"573.852109375\" x2=\"573.852109375\" y1=\"295.0\" y2=\"345.0\" stroke=\"black\" stroke-width=\"3\" /><line x1=\"633.852109375\" x2=\"633.852109375\" y1=\"145.0\" y2=\"345.0\" stroke=\"black\" stroke-width=\"3\" /><line x1=\"693.852109375\" x2=\"693.852109375\" y1=\"95.0\" y2=\"345.0\" stroke=\"black\" stroke-width=\"3\" /><line x1=\"817.7042187500001\" x2=\"817.7042187500001\" y1=\"95.0\" y2=\"345.0\" stroke=\"black\" stroke-width=\"3\" /><line x1=\"877.7042187500001\" x2=\"877.7042187500001\" y1=\"145.0\" y2=\"345.0\" stroke=\"black\" stroke-width=\"3\" /><line x1=\"937.7042187500001\" x2=\"937.7042187500001\" y1=\"295.0\" y2=\"345.0\" stroke=\"black\" stroke-width=\"3\" /><line x1=\"997.7042187500001\" x2=\"997.7042187500001\" y1=\"245.0\" y2=\"345.0\" stroke=\"black\" stroke-width=\"3\" /><line x1=\"1057.70421875\" x2=\"1057.70421875\" y1=\"45.0\" y2=\"345.0\" stroke=\"black\" stroke-width=\"3\" /><line x1=\"1117.70421875\" x2=\"1117.70421875\" y1=\"95.0\" y2=\"345.0\" stroke=\"black\" stroke-width=\"3\" /><line x1=\"1241.5563281250002\" x2=\"1241.5563281250002\" y1=\"95.0\" y2=\"345.0\" stroke=\"black\" stroke-width=\"3\" /><line x1=\"1301.5563281250002\" x2=\"1301.5563281250002\" y1=\"45.0\" y2=\"345.0\" stroke=\"black\" stroke-width=\"3\" /><line x1=\"1361.5563281250002\" x2=\"1361.5563281250002\" y1=\"245.0\" y2=\"345.0\" stroke=\"black\" stroke-width=\"3\" /><line x1=\"1421.5563281250002\" x2=\"1421.5563281250002\" y1=\"145.0\" y2=\"345.0\" stroke=\"black\" stroke-width=\"3\" /><line x1=\"1481.5563281250002\" x2=\"1481.5563281250002\" y1=\"95.0\" y2=\"345.0\" stroke=\"black\" stroke-width=\"3\" /><line x1=\"1541.5563281250002\" x2=\"1541.5563281250002\" y1=\"45.0\" y2=\"345.0\" stroke=\"black\" stroke-width=\"3\" /><line x1=\"1665.4084375000002\" x2=\"1665.4084375000002\" y1=\"45.0\" y2=\"345.0\" stroke=\"black\" stroke-width=\"3\" /><line x1=\"1725.4084375000002\" x2=\"1725.4084375000002\" y1=\"95.0\" y2=\"345.0\" stroke=\"black\" stroke-width=\"3\" /><line x1=\"1785.4084375000002\" x2=\"1785.4084375000002\" y1=\"145.0\" y2=\"345.0\" stroke=\"black\" stroke-width=\"3\" /><line x1=\"1845.4084375000002\" x2=\"1845.4084375000002\" y1=\"45.0\" y2=\"345.0\" stroke=\"black\" stroke-width=\"3\" /><line x1=\"1905.4084375000002\" x2=\"1905.4084375000002\" y1=\"145.0\" y2=\"345.0\" stroke=\"black\" stroke-width=\"3\" /><line x1=\"1965.4084375000002\" x2=\"1965.4084375000002\" y1=\"195.0\" y2=\"345.0\" stroke=\"black\" stroke-width=\"3\" /><line x1=\"2089.2605468750003\" x2=\"2089.2605468750003\" y1=\"195.0\" y2=\"345.0\" stroke=\"black\" stroke-width=\"3\" /><line x1=\"2149.2605468750003\" x2=\"2149.2605468750003\" y1=\"145.0\" y2=\"345.0\" stroke=\"black\" stroke-width=\"3\" /><line x1=\"2209.2605468750003\" x2=\"2209.2605468750003\" y1=\"45.0\" y2=\"345.0\" stroke=\"black\" stroke-width=\"3\" /><line x1=\"2269.2605468750003\" x2=\"2269.2605468750003\" y1=\"245.0\" y2=\"345.0\" stroke=\"black\" stroke-width=\"3\" /><line x1=\"2329.2605468750003\" x2=\"2329.2605468750003\" y1=\"295.0\" y2=\"345.0\" stroke=\"black\" stroke-width=\"3\" /><line x1=\"2389.2605468750003\" x2=\"2389.2605468750003\" y1=\"195.0\" y2=\"345.0\" stroke=\"black\" stroke-width=\"3\" /><line x1=\"2513.1126562500003\" x2=\"2513.1126562500003\" y1=\"195.0\" y2=\"345.0\" stroke=\"black\" stroke-width=\"3\" /><line x1=\"2573.1126562500003\" x2=\"2573.1126562500003\" y1=\"295.0\" y2=\"345.0\" stroke=\"black\" stroke-width=\"3\" /><line x1=\"2633.1126562500003\" x2=\"2633.1126562500003\" y1=\"245.0\" y2=\"345.0\" stroke=\"black\" stroke-width=\"3\" /><line x1=\"2693.1126562500003\" x2=\"2693.1126562500003\" y1=\"145.0\" y2=\"345.0\" stroke=\"black\" stroke-width=\"3\" /><line x1=\"2753.1126562500003\" x2=\"2753.1126562500003\" y1=\"295.0\" y2=\"345.0\" stroke=\"black\" stroke-width=\"3\" /><line x1=\"2813.1126562500003\" x2=\"2813.1126562500003\" y1=\"245.0\" y2=\"345.0\" stroke=\"black\" stroke-width=\"3\" /><line x1=\"2936.9647656250004\" x2=\"2936.9647656250004\" y1=\"245.0\" y2=\"345.0\" stroke=\"black\" stroke-width=\"3\" /><line x1=\"2996.9647656250004\" x2=\"2996.9647656250004\" y1=\"295.0\" y2=\"345.0\" stroke=\"black\" stroke-width=\"3\" /><line x1=\"3056.9647656250004\" x2=\"3056.9647656250004\" y1=\"145.0\" y2=\"345.0\" stroke=\"black\" stroke-width=\"3\" /><line x1=\"3116.9647656250004\" x2=\"3116.9647656250004\" y1=\"295.0\" y2=\"345.0\" stroke=\"black\" stroke-width=\"3\" /><line x1=\"3176.9647656250004\" x2=\"3176.9647656250004\" y1=\"195.0\" y2=\"345.0\" stroke=\"black\" stroke-width=\"3\" /><line x1=\"3236.9647656250004\" x2=\"3236.9647656250004\" y1=\"145.0\" y2=\"345.0\" stroke=\"black\" stroke-width=\"3\" /><line x1=\"3360.8168750000004\" x2=\"3360.8168750000004\" y1=\"145.0\" y2=\"345.0\" stroke=\"black\" stroke-width=\"3\" /><line x1=\"3420.8168750000004\" x2=\"3420.8168750000004\" y1=\"195.0\" y2=\"345.0\" stroke=\"black\" stroke-width=\"3\" /><line x1=\"3480.8168750000004\" x2=\"3480.8168750000004\" y1=\"295.0\" y2=\"345.0\" stroke=\"black\" stroke-width=\"3\" /><line x1=\"3540.8168750000004\" x2=\"3540.8168750000004\" y1=\"295.0\" y2=\"345.0\" stroke=\"black\" stroke-width=\"3\" /><line x1=\"3600.8168750000004\" x2=\"3600.8168750000004\" y1=\"195.0\" y2=\"345.0\" stroke=\"black\" stroke-width=\"3\" /><line x1=\"3660.8168750000004\" x2=\"3660.8168750000004\" y1=\"45.0\" y2=\"345.0\" stroke=\"black\" stroke-width=\"3\" /><line x1=\"3784.6689843750005\" x2=\"3784.6689843750005\" y1=\"45.0\" y2=\"345.0\" stroke=\"black\" stroke-width=\"3\" /><line x1=\"3844.6689843750005\" x2=\"3844.6689843750005\" y1=\"195.0\" y2=\"345.0\" stroke=\"black\" stroke-width=\"3\" /><line x1=\"3904.6689843750005\" x2=\"3904.6689843750005\" y1=\"295.0\" y2=\"345.0\" stroke=\"black\" stroke-width=\"3\" /><line x1=\"3964.6689843750005\" x2=\"3964.6689843750005\" y1=\"195.0\" y2=\"345.0\" stroke=\"black\" stroke-width=\"3\" /><line x1=\"4024.6689843750005\" x2=\"4024.6689843750005\" y1=\"295.0\" y2=\"345.0\" stroke=\"black\" stroke-width=\"3\" /><line x1=\"4084.6689843750005\" x2=\"4084.6689843750005\" y1=\"245.0\" y2=\"345.0\" stroke=\"black\" stroke-width=\"3\" /><line x1=\"4208.521093750001\" x2=\"4208.521093750001\" y1=\"245.0\" y2=\"345.0\" stroke=\"black\" stroke-width=\"3\" /><line x1=\"4268.521093750001\" x2=\"4268.521093750001\" y1=\"295.0\" y2=\"345.0\" stroke=\"black\" stroke-width=\"3\" /><line x1=\"4318.521093750001\" x2=\"4318.521093750001\" y1=\"195.0\" y2=\"345.0\" stroke=\"black\" stroke-width=\"3\" /><line x1=\"4469.533359375\" x2=\"4469.533359375\" y1=\"145.0\" y2=\"345.0\" stroke=\"black\" stroke-width=\"3\" /><line x1=\"4529.533359375\" x2=\"4529.533359375\" y1=\"245.0\" y2=\"345.0\" stroke=\"black\" stroke-width=\"3\" /><line x1=\"4589.533359375\" x2=\"4589.533359375\" y1=\"195.0\" y2=\"345.0\" stroke=\"black\" stroke-width=\"3\" /><line x1=\"4713.38546875\" x2=\"4713.38546875\" y1=\"195.0\" y2=\"345.0\" stroke=\"black\" stroke-width=\"3\" /><line x1=\"4793.8916015625\" x2=\"4793.8916015625\" y1=\"245.0\" y2=\"345.0\" stroke=\"black\" stroke-width=\"3\" /><line x1=\"4874.397734374999\" x2=\"4874.397734374999\" y1=\"145.0\" y2=\"345.0\" stroke=\"black\" stroke-width=\"3\" /><line x1=\"4924.397734374999\" x2=\"4924.397734374999\" y1=\"45.0\" y2=\"345.0\" stroke=\"black\" stroke-width=\"3\" /><line x1=\"5075.409999999999\" x2=\"5075.409999999999\" y1=\"245.0\" y2=\"345.0\" stroke=\"black\" stroke-width=\"3\" /><line x1=\"5135.409999999999\" x2=\"5135.409999999999\" y1=\"95.0\" y2=\"345.0\" stroke=\"black\" stroke-width=\"3\" /><line x1=\"5259.2621093749985\" x2=\"5259.2621093749985\" y1=\"95.0\" y2=\"345.0\" stroke=\"black\" stroke-width=\"3\" /><line x1=\"5339.768242187499\" x2=\"5339.768242187499\" y1=\"245.0\" y2=\"345.0\" stroke=\"black\" stroke-width=\"3\" /><line x1=\"5410.274374999998\" x2=\"5410.274374999998\" y1=\"45.0\" y2=\"345.0\" stroke=\"black\" stroke-width=\"3\" /><line x1=\"5665.035019531248\" x2=\"5665.035019531248\" y1=\"45.0\" y2=\"295.0\" stroke=\"black\" stroke-width=\"3\" /><line x1=\"5390.274374999998\" x2=\"5390.274374999998\" y1=\"5.0\" y2=\"15.0\" stroke=\"black\" stroke-width=\"3\" /><line x1=\"5521.286640624998\" x2=\"5521.286640624998\" y1=\"5.0\" y2=\"15.0\" stroke=\"black\" stroke-width=\"3\" /><line x1=\"5390.274374999998\" x2=\"5390.274374999998\" y1=\"375.0\" y2=\"385.0\" stroke=\"black\" stroke-width=\"3\" /><line x1=\"5521.286640624998\" x2=\"5521.286640624998\" y1=\"375.0\" y2=\"385.0\" stroke=\"black\" stroke-width=\"3\" /><line x1=\"4904.397734374999\" x2=\"4904.397734374999\" y1=\"5.0\" y2=\"15.0\" stroke=\"black\" stroke-width=\"3\" /><line x1=\"5035.409999999999\" x2=\"5035.409999999999\" y1=\"5.0\" y2=\"15.0\" stroke=\"black\" stroke-width=\"3\" /><line x1=\"4904.397734374999\" x2=\"4904.397734374999\" y1=\"375.0\" y2=\"385.0\" stroke=\"black\" stroke-width=\"3\" /><line x1=\"5035.409999999999\" x2=\"5035.409999999999\" y1=\"375.0\" y2=\"385.0\" stroke=\"black\" stroke-width=\"3\" /><line x1=\"4298.521093750001\" x2=\"4298.521093750001\" y1=\"5.0\" y2=\"15.0\" stroke=\"black\" stroke-width=\"3\" /><line x1=\"4429.533359375\" x2=\"4429.533359375\" y1=\"5.0\" y2=\"15.0\" stroke=\"black\" stroke-width=\"3\" /><line x1=\"4298.521093750001\" x2=\"4298.521093750001\" y1=\"375.0\" y2=\"385.0\" stroke=\"black\" stroke-width=\"3\" /><line x1=\"4429.533359375\" x2=\"4429.533359375\" y1=\"375.0\" y2=\"385.0\" stroke=\"black\" stroke-width=\"3\" /><rect x=\"10.0\" y=\"25.0\" width=\"40\" height=\"40\" stroke=\"black\" fill=\"white\" stroke-width=\"0\" /><text x=\"30.0\" y=\"45.0\" dominant-baseline=\"middle\" text-anchor=\"middle\" font-size=\"14px\" font-family=\"Arial\">0: </text><rect x=\"10.0\" y=\"75.0\" width=\"40\" height=\"40\" stroke=\"black\" fill=\"white\" stroke-width=\"0\" /><text x=\"30.0\" y=\"95.0\" dominant-baseline=\"middle\" text-anchor=\"middle\" font-size=\"14px\" font-family=\"Arial\">1: </text><rect x=\"10.0\" y=\"125.0\" width=\"40\" height=\"40\" stroke=\"black\" fill=\"white\" stroke-width=\"0\" /><text x=\"30.0\" y=\"145.0\" dominant-baseline=\"middle\" text-anchor=\"middle\" font-size=\"14px\" font-family=\"Arial\">2: </text><rect x=\"10.0\" y=\"175.0\" width=\"40\" height=\"40\" stroke=\"black\" fill=\"white\" stroke-width=\"0\" /><text x=\"30.0\" y=\"195.0\" dominant-baseline=\"middle\" text-anchor=\"middle\" font-size=\"14px\" font-family=\"Arial\">3: </text><rect x=\"10.0\" y=\"225.0\" width=\"40\" height=\"40\" stroke=\"black\" fill=\"white\" stroke-width=\"0\" /><text x=\"30.0\" y=\"245.0\" dominant-baseline=\"middle\" text-anchor=\"middle\" font-size=\"14px\" font-family=\"Arial\">4: </text><rect x=\"10.0\" y=\"275.0\" width=\"40\" height=\"40\" stroke=\"black\" fill=\"white\" stroke-width=\"0\" /><text x=\"30.0\" y=\"295.0\" dominant-baseline=\"middle\" text-anchor=\"middle\" font-size=\"14px\" font-family=\"Arial\">5: </text><rect x=\"10.0\" y=\"325.0\" width=\"40\" height=\"40\" stroke=\"black\" fill=\"white\" stroke-width=\"0\" /><text x=\"30.0\" y=\"345.0\" dominant-baseline=\"middle\" text-anchor=\"middle\" font-size=\"14px\" font-family=\"Arial\">A: </text><rect x=\"70.0\" y=\"25.0\" width=\"40\" height=\"40\" stroke=\"black\" fill=\"white\" stroke-width=\"1\" /><text x=\"90.0\" y=\"45.0\" dominant-baseline=\"middle\" text-anchor=\"middle\" font-size=\"18px\" font-family=\"Arial\">H</text><rect x=\"70.0\" y=\"75.0\" width=\"40\" height=\"40\" stroke=\"black\" fill=\"white\" stroke-width=\"1\" /><text x=\"90.0\" y=\"95.0\" dominant-baseline=\"middle\" text-anchor=\"middle\" font-size=\"18px\" font-family=\"Arial\">H</text><rect x=\"70.0\" y=\"125.0\" width=\"40\" height=\"40\" stroke=\"black\" fill=\"white\" stroke-width=\"1\" /><text x=\"90.0\" y=\"145.0\" dominant-baseline=\"middle\" text-anchor=\"middle\" font-size=\"18px\" font-family=\"Arial\">H</text><rect x=\"70.0\" y=\"175.0\" width=\"40\" height=\"40\" stroke=\"black\" fill=\"white\" stroke-width=\"1\" /><text x=\"90.0\" y=\"195.0\" dominant-baseline=\"middle\" text-anchor=\"middle\" font-size=\"18px\" font-family=\"Arial\">H</text><rect x=\"70.0\" y=\"225.0\" width=\"40\" height=\"40\" stroke=\"black\" fill=\"white\" stroke-width=\"1\" /><text x=\"90.0\" y=\"245.0\" dominant-baseline=\"middle\" text-anchor=\"middle\" font-size=\"18px\" font-family=\"Arial\">H</text><rect x=\"70.0\" y=\"275.0\" width=\"40\" height=\"40\" stroke=\"black\" fill=\"white\" stroke-width=\"1\" /><text x=\"90.0\" y=\"295.0\" dominant-baseline=\"middle\" text-anchor=\"middle\" font-size=\"18px\" font-family=\"Arial\">H</text><circle cx=\"150.0\" cy=\"145.0\" r=\"10.0\" /><rect x=\"130.0\" y=\"325.0\" width=\"40\" height=\"40\" stroke=\"black\" fill=\"white\" stroke-width=\"1\" /><text x=\"150.0\" y=\"345.0\" dominant-baseline=\"middle\" text-anchor=\"middle\" font-size=\"18px\" font-family=\"Arial\">X</text><circle cx=\"210.0\" cy=\"195.0\" r=\"10.0\" /><rect x=\"190.0\" y=\"325.0\" width=\"40\" height=\"40\" stroke=\"black\" fill=\"white\" stroke-width=\"1\" /><text x=\"210.0\" y=\"345.0\" dominant-baseline=\"middle\" text-anchor=\"middle\" font-size=\"18px\" font-family=\"Arial\">X</text><circle cx=\"270.0\" cy=\"295.0\" r=\"10.0\" /><rect x=\"250.0\" y=\"325.0\" width=\"40\" height=\"40\" stroke=\"black\" fill=\"white\" stroke-width=\"1\" /><text x=\"270.0\" y=\"345.0\" dominant-baseline=\"middle\" text-anchor=\"middle\" font-size=\"18px\" font-family=\"Arial\">X</text><rect x=\"310.0\" y=\"325.0\" width=\"43.852109375000005\" height=\"40\" stroke=\"black\" fill=\"white\" stroke-width=\"1\" /><text x=\"331.9260546875\" y=\"345.0\" dominant-baseline=\"middle\" text-anchor=\"middle\" font-size=\"14px\" font-family=\"Arial\">Rz(π)</text><circle cx=\"393.852109375\" cy=\"295.0\" r=\"10.0\" /><rect x=\"373.852109375\" y=\"325.0\" width=\"40\" height=\"40\" stroke=\"black\" fill=\"white\" stroke-width=\"1\" /><text x=\"393.852109375\" y=\"345.0\" dominant-baseline=\"middle\" text-anchor=\"middle\" font-size=\"18px\" font-family=\"Arial\">X</text><circle cx=\"453.852109375\" cy=\"195.0\" r=\"10.0\" /><rect x=\"433.852109375\" y=\"325.0\" width=\"40\" height=\"40\" stroke=\"black\" fill=\"white\" stroke-width=\"1\" /><text x=\"453.852109375\" y=\"345.0\" dominant-baseline=\"middle\" text-anchor=\"middle\" font-size=\"18px\" font-family=\"Arial\">X</text><circle cx=\"513.852109375\" cy=\"145.0\" r=\"10.0\" /><rect x=\"493.85210937500005\" y=\"325.0\" width=\"40\" height=\"40\" stroke=\"black\" fill=\"white\" stroke-width=\"1\" /><text x=\"513.852109375\" y=\"345.0\" dominant-baseline=\"middle\" text-anchor=\"middle\" font-size=\"18px\" font-family=\"Arial\">X</text><circle cx=\"573.852109375\" cy=\"295.0\" r=\"10.0\" /><rect x=\"553.852109375\" y=\"325.0\" width=\"40\" height=\"40\" stroke=\"black\" fill=\"white\" stroke-width=\"1\" /><text x=\"573.852109375\" y=\"345.0\" dominant-baseline=\"middle\" text-anchor=\"middle\" font-size=\"18px\" font-family=\"Arial\">X</text><circle cx=\"633.852109375\" cy=\"145.0\" r=\"10.0\" /><rect x=\"613.852109375\" y=\"325.0\" width=\"40\" height=\"40\" stroke=\"black\" fill=\"white\" stroke-width=\"1\" /><text x=\"633.852109375\" y=\"345.0\" dominant-baseline=\"middle\" text-anchor=\"middle\" font-size=\"18px\" font-family=\"Arial\">X</text><circle cx=\"693.852109375\" cy=\"95.0\" r=\"10.0\" /><rect x=\"673.852109375\" y=\"325.0\" width=\"40\" height=\"40\" stroke=\"black\" fill=\"white\" stroke-width=\"1\" /><text x=\"693.852109375\" y=\"345.0\" dominant-baseline=\"middle\" text-anchor=\"middle\" font-size=\"18px\" font-family=\"Arial\">X</text><rect x=\"733.852109375\" y=\"325.0\" width=\"43.852109375000005\" height=\"40\" stroke=\"black\" fill=\"white\" stroke-width=\"1\" /><text x=\"755.7781640625001\" y=\"345.0\" dominant-baseline=\"middle\" text-anchor=\"middle\" font-size=\"14px\" font-family=\"Arial\">Rz(π)</text><circle cx=\"817.7042187500001\" cy=\"95.0\" r=\"10.0\" /><rect x=\"797.7042187500001\" y=\"325.0\" width=\"40\" height=\"40\" stroke=\"black\" fill=\"white\" stroke-width=\"1\" /><text x=\"817.7042187500001\" y=\"345.0\" dominant-baseline=\"middle\" text-anchor=\"middle\" font-size=\"18px\" font-family=\"Arial\">X</text><circle cx=\"877.7042187500001\" cy=\"145.0\" r=\"10.0\" /><rect x=\"857.7042187500001\" y=\"325.0\" width=\"40\" height=\"40\" stroke=\"black\" fill=\"white\" stroke-width=\"1\" /><text x=\"877.7042187500001\" y=\"345.0\" dominant-baseline=\"middle\" text-anchor=\"middle\" font-size=\"18px\" font-family=\"Arial\">X</text><circle cx=\"937.7042187500001\" cy=\"295.0\" r=\"10.0\" /><rect x=\"917.7042187500001\" y=\"325.0\" width=\"40\" height=\"40\" stroke=\"black\" fill=\"white\" stroke-width=\"1\" /><text x=\"937.7042187500001\" y=\"345.0\" dominant-baseline=\"middle\" text-anchor=\"middle\" font-size=\"18px\" font-family=\"Arial\">X</text><circle cx=\"997.7042187500001\" cy=\"245.0\" r=\"10.0\" /><rect x=\"977.7042187500001\" y=\"325.0\" width=\"40\" height=\"40\" stroke=\"black\" fill=\"white\" stroke-width=\"1\" /><text x=\"997.7042187500001\" y=\"345.0\" dominant-baseline=\"middle\" text-anchor=\"middle\" font-size=\"18px\" font-family=\"Arial\">X</text><circle cx=\"1057.70421875\" cy=\"45.0\" r=\"10.0\" /><rect x=\"1037.70421875\" y=\"325.0\" width=\"40\" height=\"40\" stroke=\"black\" fill=\"white\" stroke-width=\"1\" /><text x=\"1057.70421875\" y=\"345.0\" dominant-baseline=\"middle\" text-anchor=\"middle\" font-size=\"18px\" font-family=\"Arial\">X</text><circle cx=\"1117.70421875\" cy=\"95.0\" r=\"10.0\" /><rect x=\"1097.70421875\" y=\"325.0\" width=\"40\" height=\"40\" stroke=\"black\" fill=\"white\" stroke-width=\"1\" /><text x=\"1117.70421875\" y=\"345.0\" dominant-baseline=\"middle\" text-anchor=\"middle\" font-size=\"18px\" font-family=\"Arial\">X</text><rect x=\"1157.70421875\" y=\"325.0\" width=\"43.852109375000005\" height=\"40\" stroke=\"black\" fill=\"white\" stroke-width=\"1\" /><text x=\"1179.6302734375001\" y=\"345.0\" dominant-baseline=\"middle\" text-anchor=\"middle\" font-size=\"14px\" font-family=\"Arial\">Rz(π)</text><circle cx=\"1241.5563281250002\" cy=\"95.0\" r=\"10.0\" /><rect x=\"1221.5563281250002\" y=\"325.0\" width=\"40\" height=\"40\" stroke=\"black\" fill=\"white\" stroke-width=\"1\" /><text x=\"1241.5563281250002\" y=\"345.0\" dominant-baseline=\"middle\" text-anchor=\"middle\" font-size=\"18px\" font-family=\"Arial\">X</text><circle cx=\"1301.5563281250002\" cy=\"45.0\" r=\"10.0\" /><rect x=\"1281.5563281250002\" y=\"325.0\" width=\"40\" height=\"40\" stroke=\"black\" fill=\"white\" stroke-width=\"1\" /><text x=\"1301.5563281250002\" y=\"345.0\" dominant-baseline=\"middle\" text-anchor=\"middle\" font-size=\"18px\" font-family=\"Arial\">X</text><circle cx=\"1361.5563281250002\" cy=\"245.0\" r=\"10.0\" /><rect x=\"1341.5563281250002\" y=\"325.0\" width=\"40\" height=\"40\" stroke=\"black\" fill=\"white\" stroke-width=\"1\" /><text x=\"1361.5563281250002\" y=\"345.0\" dominant-baseline=\"middle\" text-anchor=\"middle\" font-size=\"18px\" font-family=\"Arial\">X</text><circle cx=\"1421.5563281250002\" cy=\"145.0\" r=\"10.0\" /><rect x=\"1401.5563281250002\" y=\"325.0\" width=\"40\" height=\"40\" stroke=\"black\" fill=\"white\" stroke-width=\"1\" /><text x=\"1421.5563281250002\" y=\"345.0\" dominant-baseline=\"middle\" text-anchor=\"middle\" font-size=\"18px\" font-family=\"Arial\">X</text><circle cx=\"1481.5563281250002\" cy=\"95.0\" r=\"10.0\" /><rect x=\"1461.5563281250002\" y=\"325.0\" width=\"40\" height=\"40\" stroke=\"black\" fill=\"white\" stroke-width=\"1\" /><text x=\"1481.5563281250002\" y=\"345.0\" dominant-baseline=\"middle\" text-anchor=\"middle\" font-size=\"18px\" font-family=\"Arial\">X</text><circle cx=\"1541.5563281250002\" cy=\"45.0\" r=\"10.0\" /><rect x=\"1521.5563281250002\" y=\"325.0\" width=\"40\" height=\"40\" stroke=\"black\" fill=\"white\" stroke-width=\"1\" /><text x=\"1541.5563281250002\" y=\"345.0\" dominant-baseline=\"middle\" text-anchor=\"middle\" font-size=\"18px\" font-family=\"Arial\">X</text><rect x=\"1581.5563281250002\" y=\"325.0\" width=\"43.852109375000005\" height=\"40\" stroke=\"black\" fill=\"white\" stroke-width=\"1\" /><text x=\"1603.4823828125002\" y=\"345.0\" dominant-baseline=\"middle\" text-anchor=\"middle\" font-size=\"14px\" font-family=\"Arial\">Rz(π)</text><circle cx=\"1665.4084375000002\" cy=\"45.0\" r=\"10.0\" /><rect x=\"1645.4084375000002\" y=\"325.0\" width=\"40\" height=\"40\" stroke=\"black\" fill=\"white\" stroke-width=\"1\" /><text x=\"1665.4084375000002\" y=\"345.0\" dominant-baseline=\"middle\" text-anchor=\"middle\" font-size=\"18px\" font-family=\"Arial\">X</text><circle cx=\"1725.4084375000002\" cy=\"95.0\" r=\"10.0\" /><rect x=\"1705.4084375000002\" y=\"325.0\" width=\"40\" height=\"40\" stroke=\"black\" fill=\"white\" stroke-width=\"1\" /><text x=\"1725.4084375000002\" y=\"345.0\" dominant-baseline=\"middle\" text-anchor=\"middle\" font-size=\"18px\" font-family=\"Arial\">X</text><circle cx=\"1785.4084375000002\" cy=\"145.0\" r=\"10.0\" /><rect x=\"1765.4084375000002\" y=\"325.0\" width=\"40\" height=\"40\" stroke=\"black\" fill=\"white\" stroke-width=\"1\" /><text x=\"1785.4084375000002\" y=\"345.0\" dominant-baseline=\"middle\" text-anchor=\"middle\" font-size=\"18px\" font-family=\"Arial\">X</text><circle cx=\"1845.4084375000002\" cy=\"45.0\" r=\"10.0\" /><rect x=\"1825.4084375000002\" y=\"325.0\" width=\"40\" height=\"40\" stroke=\"black\" fill=\"white\" stroke-width=\"1\" /><text x=\"1845.4084375000002\" y=\"345.0\" dominant-baseline=\"middle\" text-anchor=\"middle\" font-size=\"18px\" font-family=\"Arial\">X</text><circle cx=\"1905.4084375000002\" cy=\"145.0\" r=\"10.0\" /><rect x=\"1885.4084375000002\" y=\"325.0\" width=\"40\" height=\"40\" stroke=\"black\" fill=\"white\" stroke-width=\"1\" /><text x=\"1905.4084375000002\" y=\"345.0\" dominant-baseline=\"middle\" text-anchor=\"middle\" font-size=\"18px\" font-family=\"Arial\">X</text><circle cx=\"1965.4084375000002\" cy=\"195.0\" r=\"10.0\" /><rect x=\"1945.4084375000002\" y=\"325.0\" width=\"40\" height=\"40\" stroke=\"black\" fill=\"white\" stroke-width=\"1\" /><text x=\"1965.4084375000002\" y=\"345.0\" dominant-baseline=\"middle\" text-anchor=\"middle\" font-size=\"18px\" font-family=\"Arial\">X</text><rect x=\"2005.4084375000002\" y=\"325.0\" width=\"43.852109375000005\" height=\"40\" stroke=\"black\" fill=\"white\" stroke-width=\"1\" /><text x=\"2027.3344921875002\" y=\"345.0\" dominant-baseline=\"middle\" text-anchor=\"middle\" font-size=\"14px\" font-family=\"Arial\">Rz(π)</text><circle cx=\"2089.2605468750003\" cy=\"195.0\" r=\"10.0\" /><rect x=\"2069.2605468750003\" y=\"325.0\" width=\"40\" height=\"40\" stroke=\"black\" fill=\"white\" stroke-width=\"1\" /><text x=\"2089.2605468750003\" y=\"345.0\" dominant-baseline=\"middle\" text-anchor=\"middle\" font-size=\"18px\" font-family=\"Arial\">X</text><circle cx=\"2149.2605468750003\" cy=\"145.0\" r=\"10.0\" /><rect x=\"2129.2605468750003\" y=\"325.0\" width=\"40\" height=\"40\" stroke=\"black\" fill=\"white\" stroke-width=\"1\" /><text x=\"2149.2605468750003\" y=\"345.0\" dominant-baseline=\"middle\" text-anchor=\"middle\" font-size=\"18px\" font-family=\"Arial\">X</text><circle cx=\"2209.2605468750003\" cy=\"45.0\" r=\"10.0\" /><rect x=\"2189.2605468750003\" y=\"325.0\" width=\"40\" height=\"40\" stroke=\"black\" fill=\"white\" stroke-width=\"1\" /><text x=\"2209.2605468750003\" y=\"345.0\" dominant-baseline=\"middle\" text-anchor=\"middle\" font-size=\"18px\" font-family=\"Arial\">X</text><circle cx=\"2269.2605468750003\" cy=\"245.0\" r=\"10.0\" /><rect x=\"2249.2605468750003\" y=\"325.0\" width=\"40\" height=\"40\" stroke=\"black\" fill=\"white\" stroke-width=\"1\" /><text x=\"2269.2605468750003\" y=\"345.0\" dominant-baseline=\"middle\" text-anchor=\"middle\" font-size=\"18px\" font-family=\"Arial\">X</text><circle cx=\"2329.2605468750003\" cy=\"295.0\" r=\"10.0\" /><rect x=\"2309.2605468750003\" y=\"325.0\" width=\"40\" height=\"40\" stroke=\"black\" fill=\"white\" stroke-width=\"1\" /><text x=\"2329.2605468750003\" y=\"345.0\" dominant-baseline=\"middle\" text-anchor=\"middle\" font-size=\"18px\" font-family=\"Arial\">X</text><circle cx=\"2389.2605468750003\" cy=\"195.0\" r=\"10.0\" /><rect x=\"2369.2605468750003\" y=\"325.0\" width=\"40\" height=\"40\" stroke=\"black\" fill=\"white\" stroke-width=\"1\" /><text x=\"2389.2605468750003\" y=\"345.0\" dominant-baseline=\"middle\" text-anchor=\"middle\" font-size=\"18px\" font-family=\"Arial\">X</text><rect x=\"2429.2605468750003\" y=\"325.0\" width=\"43.852109375000005\" height=\"40\" stroke=\"black\" fill=\"white\" stroke-width=\"1\" /><text x=\"2451.1866015625\" y=\"345.0\" dominant-baseline=\"middle\" text-anchor=\"middle\" font-size=\"14px\" font-family=\"Arial\">Rz(π)</text><circle cx=\"2513.1126562500003\" cy=\"195.0\" r=\"10.0\" /><rect x=\"2493.1126562500003\" y=\"325.0\" width=\"40\" height=\"40\" stroke=\"black\" fill=\"white\" stroke-width=\"1\" /><text x=\"2513.1126562500003\" y=\"345.0\" dominant-baseline=\"middle\" text-anchor=\"middle\" font-size=\"18px\" font-family=\"Arial\">X</text><circle cx=\"2573.1126562500003\" cy=\"295.0\" r=\"10.0\" /><rect x=\"2553.1126562500003\" y=\"325.0\" width=\"40\" height=\"40\" stroke=\"black\" fill=\"white\" stroke-width=\"1\" /><text x=\"2573.1126562500003\" y=\"345.0\" dominant-baseline=\"middle\" text-anchor=\"middle\" font-size=\"18px\" font-family=\"Arial\">X</text><circle cx=\"2633.1126562500003\" cy=\"245.0\" r=\"10.0\" /><rect x=\"2613.1126562500003\" y=\"325.0\" width=\"40\" height=\"40\" stroke=\"black\" fill=\"white\" stroke-width=\"1\" /><text x=\"2633.1126562500003\" y=\"345.0\" dominant-baseline=\"middle\" text-anchor=\"middle\" font-size=\"18px\" font-family=\"Arial\">X</text><circle cx=\"2693.1126562500003\" cy=\"145.0\" r=\"10.0\" /><rect x=\"2673.1126562500003\" y=\"325.0\" width=\"40\" height=\"40\" stroke=\"black\" fill=\"white\" stroke-width=\"1\" /><text x=\"2693.1126562500003\" y=\"345.0\" dominant-baseline=\"middle\" text-anchor=\"middle\" font-size=\"18px\" font-family=\"Arial\">X</text><circle cx=\"2753.1126562500003\" cy=\"295.0\" r=\"10.0\" /><rect x=\"2733.1126562500003\" y=\"325.0\" width=\"40\" height=\"40\" stroke=\"black\" fill=\"white\" stroke-width=\"1\" /><text x=\"2753.1126562500003\" y=\"345.0\" dominant-baseline=\"middle\" text-anchor=\"middle\" font-size=\"18px\" font-family=\"Arial\">X</text><circle cx=\"2813.1126562500003\" cy=\"245.0\" r=\"10.0\" /><rect x=\"2793.1126562500003\" y=\"325.0\" width=\"40\" height=\"40\" stroke=\"black\" fill=\"white\" stroke-width=\"1\" /><text x=\"2813.1126562500003\" y=\"345.0\" dominant-baseline=\"middle\" text-anchor=\"middle\" font-size=\"18px\" font-family=\"Arial\">X</text><rect x=\"2853.1126562500003\" y=\"325.0\" width=\"43.852109375000005\" height=\"40\" stroke=\"black\" fill=\"white\" stroke-width=\"1\" /><text x=\"2875.0387109375\" y=\"345.0\" dominant-baseline=\"middle\" text-anchor=\"middle\" font-size=\"14px\" font-family=\"Arial\">Rz(π)</text><circle cx=\"2936.9647656250004\" cy=\"245.0\" r=\"10.0\" /><rect x=\"2916.9647656250004\" y=\"325.0\" width=\"40\" height=\"40\" stroke=\"black\" fill=\"white\" stroke-width=\"1\" /><text x=\"2936.9647656250004\" y=\"345.0\" dominant-baseline=\"middle\" text-anchor=\"middle\" font-size=\"18px\" font-family=\"Arial\">X</text><circle cx=\"2996.9647656250004\" cy=\"295.0\" r=\"10.0\" /><rect x=\"2976.9647656250004\" y=\"325.0\" width=\"40\" height=\"40\" stroke=\"black\" fill=\"white\" stroke-width=\"1\" /><text x=\"2996.9647656250004\" y=\"345.0\" dominant-baseline=\"middle\" text-anchor=\"middle\" font-size=\"18px\" font-family=\"Arial\">X</text><circle cx=\"3056.9647656250004\" cy=\"145.0\" r=\"10.0\" /><rect x=\"3036.9647656250004\" y=\"325.0\" width=\"40\" height=\"40\" stroke=\"black\" fill=\"white\" stroke-width=\"1\" /><text x=\"3056.9647656250004\" y=\"345.0\" dominant-baseline=\"middle\" text-anchor=\"middle\" font-size=\"18px\" font-family=\"Arial\">X</text><circle cx=\"3116.9647656250004\" cy=\"295.0\" r=\"10.0\" /><rect x=\"3096.9647656250004\" y=\"325.0\" width=\"40\" height=\"40\" stroke=\"black\" fill=\"white\" stroke-width=\"1\" /><text x=\"3116.9647656250004\" y=\"345.0\" dominant-baseline=\"middle\" text-anchor=\"middle\" font-size=\"18px\" font-family=\"Arial\">X</text><circle cx=\"3176.9647656250004\" cy=\"195.0\" r=\"10.0\" /><rect x=\"3156.9647656250004\" y=\"325.0\" width=\"40\" height=\"40\" stroke=\"black\" fill=\"white\" stroke-width=\"1\" /><text x=\"3176.9647656250004\" y=\"345.0\" dominant-baseline=\"middle\" text-anchor=\"middle\" font-size=\"18px\" font-family=\"Arial\">X</text><circle cx=\"3236.9647656250004\" cy=\"145.0\" r=\"10.0\" /><rect x=\"3216.9647656250004\" y=\"325.0\" width=\"40\" height=\"40\" stroke=\"black\" fill=\"white\" stroke-width=\"1\" /><text x=\"3236.9647656250004\" y=\"345.0\" dominant-baseline=\"middle\" text-anchor=\"middle\" font-size=\"18px\" font-family=\"Arial\">X</text><rect x=\"3276.9647656250004\" y=\"325.0\" width=\"43.852109375000005\" height=\"40\" stroke=\"black\" fill=\"white\" stroke-width=\"1\" /><text x=\"3298.8908203125\" y=\"345.0\" dominant-baseline=\"middle\" text-anchor=\"middle\" font-size=\"14px\" font-family=\"Arial\">Rz(π)</text><circle cx=\"3360.8168750000004\" cy=\"145.0\" r=\"10.0\" /><rect x=\"3340.8168750000004\" y=\"325.0\" width=\"40\" height=\"40\" stroke=\"black\" fill=\"white\" stroke-width=\"1\" /><text x=\"3360.8168750000004\" y=\"345.0\" dominant-baseline=\"middle\" text-anchor=\"middle\" font-size=\"18px\" font-family=\"Arial\">X</text><circle cx=\"3420.8168750000004\" cy=\"195.0\" r=\"10.0\" /><rect x=\"3400.8168750000004\" y=\"325.0\" width=\"40\" height=\"40\" stroke=\"black\" fill=\"white\" stroke-width=\"1\" /><text x=\"3420.8168750000004\" y=\"345.0\" dominant-baseline=\"middle\" text-anchor=\"middle\" font-size=\"18px\" font-family=\"Arial\">X</text><circle cx=\"3480.8168750000004\" cy=\"295.0\" r=\"10.0\" /><rect x=\"3460.8168750000004\" y=\"325.0\" width=\"40\" height=\"40\" stroke=\"black\" fill=\"white\" stroke-width=\"1\" /><text x=\"3480.8168750000004\" y=\"345.0\" dominant-baseline=\"middle\" text-anchor=\"middle\" font-size=\"18px\" font-family=\"Arial\">X</text><circle cx=\"3540.8168750000004\" cy=\"295.0\" r=\"10.0\" /><rect x=\"3520.8168750000004\" y=\"325.0\" width=\"40\" height=\"40\" stroke=\"black\" fill=\"white\" stroke-width=\"1\" /><text x=\"3540.8168750000004\" y=\"345.0\" dominant-baseline=\"middle\" text-anchor=\"middle\" font-size=\"18px\" font-family=\"Arial\">X</text><circle cx=\"3600.8168750000004\" cy=\"195.0\" r=\"10.0\" /><rect x=\"3580.8168750000004\" y=\"325.0\" width=\"40\" height=\"40\" stroke=\"black\" fill=\"white\" stroke-width=\"1\" /><text x=\"3600.8168750000004\" y=\"345.0\" dominant-baseline=\"middle\" text-anchor=\"middle\" font-size=\"18px\" font-family=\"Arial\">X</text><circle cx=\"3660.8168750000004\" cy=\"45.0\" r=\"10.0\" /><rect x=\"3640.8168750000004\" y=\"325.0\" width=\"40\" height=\"40\" stroke=\"black\" fill=\"white\" stroke-width=\"1\" /><text x=\"3660.8168750000004\" y=\"345.0\" dominant-baseline=\"middle\" text-anchor=\"middle\" font-size=\"18px\" font-family=\"Arial\">X</text><rect x=\"3700.8168750000004\" y=\"325.0\" width=\"43.852109375000005\" height=\"40\" stroke=\"black\" fill=\"white\" stroke-width=\"1\" /><text x=\"3722.7429296875002\" y=\"345.0\" dominant-baseline=\"middle\" text-anchor=\"middle\" font-size=\"14px\" font-family=\"Arial\">Rz(π)</text><circle cx=\"3784.6689843750005\" cy=\"45.0\" r=\"10.0\" /><rect x=\"3764.6689843750005\" y=\"325.0\" width=\"40\" height=\"40\" stroke=\"black\" fill=\"white\" stroke-width=\"1\" /><text x=\"3784.6689843750005\" y=\"345.0\" dominant-baseline=\"middle\" text-anchor=\"middle\" font-size=\"18px\" font-family=\"Arial\">X</text><circle cx=\"3844.6689843750005\" cy=\"195.0\" r=\"10.0\" /><rect x=\"3824.6689843750005\" y=\"325.0\" width=\"40\" height=\"40\" stroke=\"black\" fill=\"white\" stroke-width=\"1\" /><text x=\"3844.6689843750005\" y=\"345.0\" dominant-baseline=\"middle\" text-anchor=\"middle\" font-size=\"18px\" font-family=\"Arial\">X</text><circle cx=\"3904.6689843750005\" cy=\"295.0\" r=\"10.0\" /><rect x=\"3884.6689843750005\" y=\"325.0\" width=\"40\" height=\"40\" stroke=\"black\" fill=\"white\" stroke-width=\"1\" /><text x=\"3904.6689843750005\" y=\"345.0\" dominant-baseline=\"middle\" text-anchor=\"middle\" font-size=\"18px\" font-family=\"Arial\">X</text><circle cx=\"3964.6689843750005\" cy=\"195.0\" r=\"10.0\" /><rect x=\"3944.6689843750005\" y=\"325.0\" width=\"40\" height=\"40\" stroke=\"black\" fill=\"white\" stroke-width=\"1\" /><text x=\"3964.6689843750005\" y=\"345.0\" dominant-baseline=\"middle\" text-anchor=\"middle\" font-size=\"18px\" font-family=\"Arial\">X</text><circle cx=\"4024.6689843750005\" cy=\"295.0\" r=\"10.0\" /><rect x=\"4004.6689843750005\" y=\"325.0\" width=\"40\" height=\"40\" stroke=\"black\" fill=\"white\" stroke-width=\"1\" /><text x=\"4024.6689843750005\" y=\"345.0\" dominant-baseline=\"middle\" text-anchor=\"middle\" font-size=\"18px\" font-family=\"Arial\">X</text><circle cx=\"4084.6689843750005\" cy=\"245.0\" r=\"10.0\" /><rect x=\"4064.6689843750005\" y=\"325.0\" width=\"40\" height=\"40\" stroke=\"black\" fill=\"white\" stroke-width=\"1\" /><text x=\"4084.6689843750005\" y=\"345.0\" dominant-baseline=\"middle\" text-anchor=\"middle\" font-size=\"18px\" font-family=\"Arial\">X</text><rect x=\"4124.668984375001\" y=\"325.0\" width=\"43.852109375000005\" height=\"40\" stroke=\"black\" fill=\"white\" stroke-width=\"1\" /><text x=\"4146.595039062501\" y=\"345.0\" dominant-baseline=\"middle\" text-anchor=\"middle\" font-size=\"14px\" font-family=\"Arial\">Rz(π)</text><circle cx=\"4208.521093750001\" cy=\"245.0\" r=\"10.0\" /><rect x=\"4188.521093750001\" y=\"325.0\" width=\"40\" height=\"40\" stroke=\"black\" fill=\"white\" stroke-width=\"1\" /><text x=\"4208.521093750001\" y=\"345.0\" dominant-baseline=\"middle\" text-anchor=\"middle\" font-size=\"18px\" font-family=\"Arial\">X</text><circle cx=\"4268.521093750001\" cy=\"295.0\" r=\"10.0\" /><rect x=\"4248.521093750001\" y=\"325.0\" width=\"40\" height=\"40\" stroke=\"black\" fill=\"white\" stroke-width=\"1\" /><text x=\"4268.521093750001\" y=\"345.0\" dominant-baseline=\"middle\" text-anchor=\"middle\" font-size=\"18px\" font-family=\"Arial\">X</text><circle cx=\"4318.521093750001\" cy=\"195.0\" r=\"10.0\" /><rect x=\"4298.521093750001\" y=\"325.0\" width=\"40\" height=\"40\" stroke=\"black\" fill=\"white\" stroke-width=\"1\" /><text x=\"4318.521093750001\" y=\"345.0\" dominant-baseline=\"middle\" text-anchor=\"middle\" font-size=\"18px\" font-family=\"Arial\">X</text><rect x=\"4338.521093750001\" y=\"275.0\" width=\"81.01226562500001\" height=\"40\" stroke=\"black\" fill=\"white\" stroke-width=\"1\" /><text x=\"4379.027226562501\" y=\"295.0\" dominant-baseline=\"middle\" text-anchor=\"middle\" font-size=\"14px\" font-family=\"Arial\">Rx(-0.25π)</text><circle cx=\"4469.533359375\" cy=\"145.0\" r=\"10.0\" /><rect x=\"4449.533359375\" y=\"325.0\" width=\"40\" height=\"40\" stroke=\"black\" fill=\"white\" stroke-width=\"1\" /><text x=\"4469.533359375\" y=\"345.0\" dominant-baseline=\"middle\" text-anchor=\"middle\" font-size=\"18px\" font-family=\"Arial\">X</text><circle cx=\"4529.533359375\" cy=\"245.0\" r=\"10.0\" /><rect x=\"4509.533359375\" y=\"325.0\" width=\"40\" height=\"40\" stroke=\"black\" fill=\"white\" stroke-width=\"1\" /><text x=\"4529.533359375\" y=\"345.0\" dominant-baseline=\"middle\" text-anchor=\"middle\" font-size=\"18px\" font-family=\"Arial\">X</text><circle cx=\"4589.533359375\" cy=\"195.0\" r=\"10.0\" /><rect x=\"4569.533359375\" y=\"325.0\" width=\"40\" height=\"40\" stroke=\"black\" fill=\"white\" stroke-width=\"1\" /><text x=\"4589.533359375\" y=\"345.0\" dominant-baseline=\"middle\" text-anchor=\"middle\" font-size=\"18px\" font-family=\"Arial\">X</text><rect x=\"4629.533359375\" y=\"325.0\" width=\"43.852109375000005\" height=\"40\" stroke=\"black\" fill=\"white\" stroke-width=\"1\" /><text x=\"4651.4594140625\" y=\"345.0\" dominant-baseline=\"middle\" text-anchor=\"middle\" font-size=\"14px\" font-family=\"Arial\">Rz(π)</text><circle cx=\"4713.38546875\" cy=\"195.0\" r=\"10.0\" /><rect x=\"4693.38546875\" y=\"325.0\" width=\"40\" height=\"40\" stroke=\"black\" fill=\"white\" stroke-width=\"1\" /><text x=\"4713.38546875\" y=\"345.0\" dominant-baseline=\"middle\" text-anchor=\"middle\" font-size=\"18px\" font-family=\"Arial\">X</text><circle cx=\"4793.8916015625\" cy=\"245.0\" r=\"10.0\" /><rect x=\"4753.38546875\" y=\"325.0\" width=\"81.01226562500001\" height=\"40\" stroke=\"black\" fill=\"white\" stroke-width=\"1\" /><text x=\"4793.8916015625\" y=\"345.0\" dominant-baseline=\"middle\" text-anchor=\"middle\" font-size=\"18px\" font-family=\"Arial\">X</text><rect x=\"4753.38546875\" y=\"175.0\" width=\"81.01226562500001\" height=\"40\" stroke=\"black\" fill=\"white\" stroke-width=\"1\" /><text x=\"4793.8916015625\" y=\"195.0\" dominant-baseline=\"middle\" text-anchor=\"middle\" font-size=\"14px\" font-family=\"Arial\">Rx(-0.25π)</text><circle cx=\"4874.397734374999\" cy=\"145.0\" r=\"10.0\" /><rect x=\"4854.397734374999\" y=\"325.0\" width=\"40\" height=\"40\" stroke=\"black\" fill=\"white\" stroke-width=\"1\" /><text x=\"4874.397734374999\" y=\"345.0\" dominant-baseline=\"middle\" text-anchor=\"middle\" font-size=\"18px\" font-family=\"Arial\">X</text><circle cx=\"4924.397734374999\" cy=\"45.0\" r=\"10.0\" /><rect x=\"4904.397734374999\" y=\"325.0\" width=\"40\" height=\"40\" stroke=\"black\" fill=\"white\" stroke-width=\"1\" /><text x=\"4924.397734374999\" y=\"345.0\" dominant-baseline=\"middle\" text-anchor=\"middle\" font-size=\"18px\" font-family=\"Arial\">X</text><rect x=\"4944.397734374999\" y=\"125.0\" width=\"81.01226562500001\" height=\"40\" stroke=\"black\" fill=\"white\" stroke-width=\"1\" /><text x=\"4984.9038671875\" y=\"145.0\" dominant-baseline=\"middle\" text-anchor=\"middle\" font-size=\"14px\" font-family=\"Arial\">Rx(-0.25π)</text><circle cx=\"5075.409999999999\" cy=\"245.0\" r=\"10.0\" /><rect x=\"5055.409999999999\" y=\"325.0\" width=\"40\" height=\"40\" stroke=\"black\" fill=\"white\" stroke-width=\"1\" /><text x=\"5075.409999999999\" y=\"345.0\" dominant-baseline=\"middle\" text-anchor=\"middle\" font-size=\"18px\" font-family=\"Arial\">X</text><circle cx=\"5135.409999999999\" cy=\"95.0\" r=\"10.0\" /><rect x=\"5115.409999999999\" y=\"325.0\" width=\"40\" height=\"40\" stroke=\"black\" fill=\"white\" stroke-width=\"1\" /><text x=\"5135.409999999999\" y=\"345.0\" dominant-baseline=\"middle\" text-anchor=\"middle\" font-size=\"18px\" font-family=\"Arial\">X</text><rect x=\"5175.409999999999\" y=\"325.0\" width=\"43.852109375000005\" height=\"40\" stroke=\"black\" fill=\"white\" stroke-width=\"1\" /><text x=\"5197.336054687499\" y=\"345.0\" dominant-baseline=\"middle\" text-anchor=\"middle\" font-size=\"14px\" font-family=\"Arial\">Rz(π)</text><circle cx=\"5259.2621093749985\" cy=\"95.0\" r=\"10.0\" /><rect x=\"5239.2621093749985\" y=\"325.0\" width=\"40\" height=\"40\" stroke=\"black\" fill=\"white\" stroke-width=\"1\" /><text x=\"5259.2621093749985\" y=\"345.0\" dominant-baseline=\"middle\" text-anchor=\"middle\" font-size=\"18px\" font-family=\"Arial\">X</text><circle cx=\"5339.768242187499\" cy=\"245.0\" r=\"10.0\" /><rect x=\"5299.2621093749985\" y=\"325.0\" width=\"81.01226562500001\" height=\"40\" stroke=\"black\" fill=\"white\" stroke-width=\"1\" /><text x=\"5339.768242187499\" y=\"345.0\" dominant-baseline=\"middle\" text-anchor=\"middle\" font-size=\"18px\" font-family=\"Arial\">X</text><rect x=\"5299.2621093749985\" y=\"75.0\" width=\"81.01226562500001\" height=\"40\" stroke=\"black\" fill=\"white\" stroke-width=\"1\" /><text x=\"5339.768242187499\" y=\"95.0\" dominant-baseline=\"middle\" text-anchor=\"middle\" font-size=\"14px\" font-family=\"Arial\">Rx(-0.25π)</text><circle cx=\"5410.274374999998\" cy=\"45.0\" r=\"10.0\" /><rect x=\"5390.274374999998\" y=\"325.0\" width=\"40\" height=\"40\" stroke=\"black\" fill=\"white\" stroke-width=\"1\" /><text x=\"5410.274374999998\" y=\"345.0\" dominant-baseline=\"middle\" text-anchor=\"middle\" font-size=\"18px\" font-family=\"Arial\">X</text><rect x=\"5430.274374999998\" y=\"225.0\" width=\"81.01226562500001\" height=\"40\" stroke=\"black\" fill=\"white\" stroke-width=\"1\" /><text x=\"5470.780507812498\" y=\"245.0\" dominant-baseline=\"middle\" text-anchor=\"middle\" font-size=\"14px\" font-family=\"Arial\">Rx(-0.25π)</text><rect x=\"5541.286640624998\" y=\"25.0\" width=\"81.01226562500001\" height=\"40\" stroke=\"black\" fill=\"white\" stroke-width=\"1\" /><text x=\"5581.792773437498\" y=\"45.0\" dominant-baseline=\"middle\" text-anchor=\"middle\" font-size=\"14px\" font-family=\"Arial\">Rx(-0.25π)</text><rect x=\"5642.298906249997\" y=\"25.0\" width=\"45.4722265625\" height=\"40\" stroke=\"black\" fill=\"white\" stroke-width=\"1\" /><text x=\"5665.035019531248\" y=\"45.0\" dominant-baseline=\"middle\" text-anchor=\"middle\" font-size=\"14px\" font-family=\"Arial\">M('z')</text><rect x=\"5642.298906249997\" y=\"75.0\" width=\"45.4722265625\" height=\"40\" stroke=\"black\" fill=\"white\" stroke-width=\"1\" /><text x=\"5665.035019531248\" y=\"95.0\" dominant-baseline=\"middle\" text-anchor=\"middle\" font-size=\"18px\" font-family=\"Arial\">M</text><rect x=\"5642.298906249997\" y=\"125.0\" width=\"45.4722265625\" height=\"40\" stroke=\"black\" fill=\"white\" stroke-width=\"1\" /><text x=\"5665.035019531248\" y=\"145.0\" dominant-baseline=\"middle\" text-anchor=\"middle\" font-size=\"18px\" font-family=\"Arial\">M</text><rect x=\"5642.298906249997\" y=\"175.0\" width=\"45.4722265625\" height=\"40\" stroke=\"black\" fill=\"white\" stroke-width=\"1\" /><text x=\"5665.035019531248\" y=\"195.0\" dominant-baseline=\"middle\" text-anchor=\"middle\" font-size=\"18px\" font-family=\"Arial\">M</text><rect x=\"5642.298906249997\" y=\"225.0\" width=\"45.4722265625\" height=\"40\" stroke=\"black\" fill=\"white\" stroke-width=\"1\" /><text x=\"5665.035019531248\" y=\"245.0\" dominant-baseline=\"middle\" text-anchor=\"middle\" font-size=\"18px\" font-family=\"Arial\">M</text><rect x=\"5642.298906249997\" y=\"275.0\" width=\"45.4722265625\" height=\"40\" stroke=\"black\" fill=\"white\" stroke-width=\"1\" /><text x=\"5665.035019531248\" y=\"295.0\" dominant-baseline=\"middle\" text-anchor=\"middle\" font-size=\"18px\" font-family=\"Arial\">M</text></svg>"
      ],
      "text/plain": [
       "<cirq.contrib.svg.svg.SVGCircuit at 0x7f6d7c6be160>"
      ]
     },
     "execution_count": 10,
     "metadata": {},
     "output_type": "execute_result"
    }
   ],
   "source": [
    "#Single Run Simulation\n",
    "#'''\n",
    "alpha = np.pi/2\n",
    "beta = np.pi/4\n",
    "qbits = cirq.LineQubit.range(6)\n",
    "anc = cirq.NamedQubit(\"A\")\n",
    "ops = QAOA_1(qbits, anc, H_p, alpha, beta)\n",
    "print(expectHp(ops, qbits, H_p, ground_energy))\n",
    "SVGCircuit(cirq.Circuit(ops)) #nice circuit\n",
    "#'''\n"
   ]
  },
  {
   "cell_type": "code",
   "execution_count": 11,
   "id": "6eadf4cf",
   "metadata": {},
   "outputs": [
    {
     "name": "stdout",
     "output_type": "stream",
     "text": [
      "Energy P(GS) Alpha Beta\n",
      "[-0.842, 0.073, 17, 53]\n"
     ]
    }
   ],
   "source": [
    "#Scan Angles (b)\n",
    "qbits = cirq.LineQubit.range(6)\n",
    "anc = cirq.NamedQubit(\"A\")\n",
    "angles = np.pi/2 * np.arange(-1,1,.2)\n",
    "best = [0,0,0,0]\n",
    "\n",
    "for a in angles:\n",
    "    for b in angles:\n",
    "        ops = QAOA_1(qbits, anc, H_p, a, b)\n",
    "        expect = expectHp(ops, qbits, H_p, ground_energy)\n",
    "        current = [expect[0], expect[1], int(a*180/np.pi), int(b*180/np.pi)]\n",
    "        if expect[1] > best[1]:\n",
    "            best = current\n",
    "\n",
    "print(\"Energy\",\"P(GS)\",\"Alpha\", \"Beta\")\n",
    "print(best)"
   ]
  },
  {
   "cell_type": "code",
   "execution_count": 12,
   "id": "91a15b1a",
   "metadata": {},
   "outputs": [
    {
     "name": "stdout",
     "output_type": "stream",
     "text": [
      "Energy P(GS) A1 A2 B1 B2\n",
      "[-1.684, 0.075, -27, 9, 27, -45]\n"
     ]
    }
   ],
   "source": [
    "#Bonus - two layers of QAOA (c)\n",
    "def QAOA_p(qbit, ancilla, H_p ,aList, bList):\n",
    "    #|ψ) → e^iβH_D*e^iαH_P|ψ) : \n",
    "    oplist = []\n",
    "    #Add Hadamards\n",
    "    for q in qbit:\n",
    "        oplist.append(cirq.H(q))\n",
    "        \n",
    "    for i in range(len(aList)):\n",
    "        #Add H_p: 3 qubit Z rotations\n",
    "        for triple in H_p:\n",
    "            oplist.append(rotation3Z(qbit[triple[0]], qbit[triple[1]], qbit[triple[2]], ancilla, aList[i]))\n",
    "        #Add single X rotations\n",
    "        for q in qbit:\n",
    "            oplist.append(cirq.rx(-bList[i])(q))\n",
    "        \n",
    "    #Measure\n",
    "    oplist.append(cirq.measure(*qbit,key='z'))\n",
    "    \n",
    "    return oplist\n",
    "\n",
    "#Scan Angles for p layers\n",
    "qbits = cirq.LineQubit.range(6)\n",
    "anc = cirq.NamedQubit(\"A\")\n",
    "angles = np.pi/2 * np.arange(-.5,.5,.2)\n",
    "best = [0,0,0,0,0,0]\n",
    "\n",
    "for a1 in angles:\n",
    "    for a2 in angles:\n",
    "        for b1 in angles:\n",
    "            for b2 in angles:\n",
    "                alist = [a1,a2]\n",
    "                blist = [b1,b2]\n",
    "                ops = QAOA_p(qbits, anc, H_p, alist, blist)\n",
    "                expect = expectHp(ops, qbits, H_p, ground_energy)\n",
    "                current = [expect[0], expect[1], int(a1*180/np.pi), int(a2*180/np.pi), int(b1*180/np.pi), int(b2*180/np.pi)]\n",
    "                if expect[1] > best[1]:\n",
    "                    best = current\n",
    "\n",
    "print(\"Energy\",\"P(GS)\",\"A1\", \"A2\",\"B1\", \"B2\")\n",
    "print(best)"
   ]
  },
  {
   "cell_type": "code",
   "execution_count": null,
   "id": "cb3ffd78",
   "metadata": {},
   "outputs": [],
   "source": []
  }
 ],
 "metadata": {
  "kernelspec": {
   "display_name": "Python 3",
   "language": "python",
   "name": "python3"
  },
  "language_info": {
   "codemirror_mode": {
    "name": "ipython",
    "version": 3
   },
   "file_extension": ".py",
   "mimetype": "text/x-python",
   "name": "python",
   "nbconvert_exporter": "python",
   "pygments_lexer": "ipython3",
   "version": "3.8.11"
  }
 },
 "nbformat": 4,
 "nbformat_minor": 5
}
