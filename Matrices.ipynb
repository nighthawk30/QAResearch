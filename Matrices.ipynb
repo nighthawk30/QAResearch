{
 "cells": [
  {
   "cell_type": "code",
   "execution_count": 1,
   "id": "602c9032",
   "metadata": {},
   "outputs": [],
   "source": [
    "import cirq\n",
    "import cirq_google\n",
    "import numpy as np"
   ]
  },
  {
   "cell_type": "code",
   "execution_count": 4,
   "id": "0cf4c82c",
   "metadata": {},
   "outputs": [
    {
     "name": "stdout",
     "output_type": "stream",
     "text": [
      "[[1.+0.j 0.+0.j 0.+0.j 0.+0.j]\n",
      " [0.+0.j 0.+0.j 0.+1.j 0.+0.j]\n",
      " [0.+0.j 0.+1.j 0.+0.j 0.+0.j]\n",
      " [0.+0.j 0.+0.j 0.+0.j 1.+0.j]]\n"
     ]
    }
   ],
   "source": [
    "print(cirq.unitary(cirq.ISWAP))"
   ]
  },
  {
   "cell_type": "code",
   "execution_count": 5,
   "id": "0ec8aba9",
   "metadata": {},
   "outputs": [
    {
     "name": "stdout",
     "output_type": "stream",
     "text": [
      "[[1.        +0.j         0.        +0.j         0.        +0.j\n",
      "  0.        +0.j        ]\n",
      " [0.        +0.j         0.70710678+0.j         0.        +0.70710678j\n",
      "  0.        +0.j        ]\n",
      " [0.        +0.j         0.        +0.70710678j 0.70710678+0.j\n",
      "  0.        +0.j        ]\n",
      " [0.        +0.j         0.        +0.j         0.        +0.j\n",
      "  1.        +0.j        ]]\n"
     ]
    }
   ],
   "source": [
    "print(cirq.unitary(cirq.ISWAP**.5))"
   ]
  },
  {
   "cell_type": "code",
   "execution_count": null,
   "id": "4865151a",
   "metadata": {},
   "outputs": [],
   "source": []
  }
 ],
 "metadata": {
  "kernelspec": {
   "display_name": "Python 3",
   "language": "python",
   "name": "python3"
  },
  "language_info": {
   "codemirror_mode": {
    "name": "ipython",
    "version": 3
   },
   "file_extension": ".py",
   "mimetype": "text/x-python",
   "name": "python",
   "nbconvert_exporter": "python",
   "pygments_lexer": "ipython3",
   "version": "3.8.10"
  }
 },
 "nbformat": 4,
 "nbformat_minor": 5
}
