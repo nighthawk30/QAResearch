{
 "cells": [
  {
   "cell_type": "code",
   "execution_count": 45,
   "id": "c3635c73",
   "metadata": {},
   "outputs": [],
   "source": [
    "import cirq\n",
    "import numpy as np\n",
    "import matplotlib.pyplot as plt\n",
    "\n",
    "#3 qubit x rotation\n",
    "def rotation3Z(q0, q1, q2, angle):\n",
    "    a = cirq.NamedQubit(\"A\")\n",
    "    yield cirq.H(q0), cirq.H(q1), cirq.H(q2) #Needed for superposition\n",
    "    yield cirq.CNOT(q0, a)\n",
    "    yield cirq.CNOT(q1, a)\n",
    "    yield cirq.CNOT(q2, a)\n",
    "    yield cirq.rz(2 * angle)(a)\n",
    "    yield cirq.CNOT(q2, a)\n",
    "    yield cirq.CNOT(q1, a)\n",
    "    yield cirq.CNOT(q0, a)\n",
    "    #yield cirq.H(q0), cirq.H(q1), cirq.H(q2)\n",
    "    \n",
    "#Finds the expectation value of a measurement in the z basis\n",
    "def expectation3Z(circuit, mqbits):\n",
    "    sim = cirq.Simulator()\n",
    "    circuit.append(cirq.measure(*mqbits, key='z'))\n",
    "    print(circuit)\n",
    "    \n",
    "    counts = 1000\n",
    "    samples = sim.run(circuit, repetitions=counts)\n",
    "    data = samples.histogram(key='z')\n",
    "    \n",
    "    binaryformat = \"{0:0\" + str(3) + \"b}\"\n",
    "    \n",
    "    z3obj = 0\n",
    "    \n",
    "    #Dictionary: key = qubit state measurement, value = number of results\n",
    "    for key, value in data.items():\n",
    "        bitstring = binaryformat.format(int(key))#Convert to binary to get the state\n",
    "        z3obj += int(value) * (-1)**(int(bitstring[0])+int(bitstring[1])+int(bitstring[2]))\n",
    "        \n",
    "    z3obj /= counts\n",
    "    return z3obj"
   ]
  },
  {
   "cell_type": "code",
   "execution_count": 46,
   "id": "1542318b",
   "metadata": {},
   "outputs": [
    {
     "name": "stdout",
     "output_type": "stream",
     "text": [
      "0: ───H───@──────────────────────────────@───M('z')───\n",
      "          │                              │   │\n",
      "1: ───H───┼───@──────────────────────@───┼───M────────\n",
      "          │   │                      │   │   │\n",
      "2: ───H───┼───┼───@──────────────@───┼───┼───M────────\n",
      "          │   │   │              │   │   │\n",
      "A: ───────X───X───X───Rz(0.4π)───X───X───X────────────\n",
      "-0.006\n"
     ]
    }
   ],
   "source": [
    "q = cirq.LineQubit.range(3)\n",
    "circuit = cirq.Circuit(rotation3Z(q[0],q[1],q[2],np.pi/5))\n",
    "q2 = [q[0], q[1], q[2]]\n",
    "print(expectation3Z(circuit, q2))"
   ]
  },
  {
   "cell_type": "code",
   "execution_count": 47,
   "id": "f742b3ed",
   "metadata": {},
   "outputs": [
    {
     "name": "stdout",
     "output_type": "stream",
     "text": [
      "                                       ┌────────┐   ┌────────┐\n",
      "0: ───H───@──────────────────────────────────────────@───────────M('q0')───\n",
      "          │                                          │\n",
      "1: ───H───┼───@─────────────────────────@────────────┼M('q1')──────────────\n",
      "          │   │                         │            │\n",
      "2: ───H───┼───┼───@────────────────@────┼M('q2')─────┼─────────────────────\n",
      "          │   │   │                │    │            │\n",
      "A: ───────X───X───X───Rz(0.222π)───X────X────────────X─────────────────────\n",
      "                                       └────────┘   └────────┘\n",
      "Counter({0: 512, 1: 488})\n",
      "Counter({1: 521, 0: 479})\n",
      "Counter({0: 524, 1: 476})\n"
     ]
    }
   ],
   "source": [
    "q = cirq.LineQubit.range(3)\n",
    "circuit = cirq.Circuit(rotation3Z(q[0],q[1],q[2],np.pi/9))\n",
    "\n",
    "#Measure each qubit individually\n",
    "circuit.append(cirq.measure(q[0],key='q0'))\n",
    "circuit.append(cirq.measure(q[1],key='q1'))\n",
    "circuit.append(cirq.measure(q[2],key='q2'))\n",
    "print(circuit)\n",
    "\n",
    "sim = cirq.Simulator()\n",
    "result = sim.run(circuit, repetitions = 1000)\n",
    "print(result.histogram(key='q0'))\n",
    "print(result.histogram(key='q1'))\n",
    "print(result.histogram(key='q2'))\n",
    "\n",
    "#THIS IS AN ENTANGLING GATE\n",
    "#Of course the z expectation value is always 1\n",
    "#Adding x rotations on after the entanglement rotation will shift the qubits slightly out of alignment"
   ]
  },
  {
   "cell_type": "code",
   "execution_count": 44,
   "id": "81eb1c1a",
   "metadata": {},
   "outputs": [
    {
     "name": "stdout",
     "output_type": "stream",
     "text": [
      "                                       ┌─────────┐   ┌────────────┐\n",
      "0: ───H───@───────────────────────────────────────────@───────────────M('z')───\n",
      "          │                                           │               │\n",
      "1: ───H───┼───@─────────────────────────@─────────────┼Rx(-0.125π)────M────────\n",
      "          │   │                         │             │               │\n",
      "2: ───H───┼───┼───@────────────────@────┼Rx(0.5π)─────┼───────────────M────────\n",
      "          │   │   │                │    │             │\n",
      "A: ───────X───X───X───Rz(0.062π)───X────X─────────────X────────────────────────\n",
      "                                       └─────────┘   └────────────┘\n",
      "0.17\n"
     ]
    }
   ],
   "source": [
    "q = cirq.LineQubit.range(3)\n",
    "circuit = cirq.Circuit(rotation3Z(q[0],q[1],q[2],np.pi/32))\n",
    "circuit.append(cirq.rx(np.pi/2)(q[2]))\n",
    "circuit.append(cirq.rx(-np.pi/8)(q[1]))\n",
    "\n",
    "q2 = [q[0], q[1], q[2]]\n",
    "print(expectation3Z(circuit, q2))"
   ]
  },
  {
   "cell_type": "code",
   "execution_count": null,
   "id": "7469863b",
   "metadata": {},
   "outputs": [],
   "source": []
  }
 ],
 "metadata": {
  "kernelspec": {
   "display_name": "Python 3",
   "language": "python",
   "name": "python3"
  },
  "language_info": {
   "codemirror_mode": {
    "name": "ipython",
    "version": 3
   },
   "file_extension": ".py",
   "mimetype": "text/x-python",
   "name": "python",
   "nbconvert_exporter": "python",
   "pygments_lexer": "ipython3",
   "version": "3.8.11"
  }
 },
 "nbformat": 4,
 "nbformat_minor": 5
}
