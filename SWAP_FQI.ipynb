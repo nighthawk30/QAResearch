{
 "cells": [
  {
   "cell_type": "code",
   "execution_count": 1,
   "id": "235c6ae3",
   "metadata": {},
   "outputs": [],
   "source": [
    "#Build a swap network\n",
    "import cirq\n",
    "\n",
    "size = 5\n",
    "qubits = cirq.LineQubit.range(size)\n",
    "\n",
    "#Part 1\n",
    "#######\n",
    "cn01 = cirq.CNOT(qubits[0],qubits[1])\n",
    "cn12 = cirq.CNOT(qubits[1],qubits[2])\n",
    "cn23 = cirq.CNOT(qubits[2],qubits[3])\n",
    "cn34 = cirq.CNOT(qubits[3],qubits[4])\n",
    "#02\n",
    "sw01 = cirq.SWAP(qubits[0],qubits[1])\n",
    "cn02 = cirq.CNOT(qubits[1],qubits[2])\n",
    "#04\n",
    "sw34 = cirq.SWAP(qubits[3],qubits[4])\n",
    "sw02 = cirq.SWAP(qubits[1],qubits[2])\n",
    "cn04 = cirq.CNOT(qubits[2],qubits[3])\n",
    "#14\n",
    "sw12 = cirq.SWAP(qubits[0],qubits[1])\n",
    "sw04 = cirq.SWAP(qubits[2],qubits[3])\n",
    "cn14 = cirq.CNOT(qubits[1],qubits[2])\n",
    "#24\n",
    "sw21 = cirq.SWAP(qubits[0],qubits[1])\n",
    "cn24 = cirq.CNOT(qubits[1],qubits[2])\n",
    "#03\n",
    "cn03 = cirq.CNOT(qubits[3],qubits[4])"
   ]
  },
  {
   "cell_type": "code",
   "execution_count": 2,
   "id": "9a6461d5",
   "metadata": {},
   "outputs": [],
   "source": [
    "m0 = cirq.Moment([cn01])\n",
    "m1 = cirq.Moment([cn12])\n",
    "m2 = cirq.Moment([cn23,sw01])\n",
    "m3 = cirq.Moment([cn34,cn02])\n",
    "m4 = cirq.Moment([sw34,sw02])\n",
    "m5 = cirq.Moment([cn04])\n",
    "m6 = cirq.Moment([sw12,sw04])\n",
    "m7 = cirq.Moment([cn14])\n",
    "m8 = cirq.Moment([sw21,cn03])\n",
    "m9 = cirq.Moment([cn24])"
   ]
  },
  {
   "cell_type": "code",
   "execution_count": 3,
   "id": "d72665b2",
   "metadata": {},
   "outputs": [
    {
     "name": "stdout",
     "output_type": "stream",
     "text": [
      "0: ───@───────×───────────────×───────×───────\n",
      "      │       │               │       │\n",
      "1: ───X───@───×───@───×───────×───@───×───@───\n",
      "          │       │   │           │       │\n",
      "2: ───────X───@───X───×───@───×───X───────X───\n",
      "              │           │   │\n",
      "3: ───────────X───@───×───X───×───────@───────\n",
      "                  │   │               │\n",
      "4: ───────────────X───×───────────────X───────\n"
     ]
    }
   ],
   "source": [
    "circuita = cirq.Circuit((m0,m1,m2,m3,m4,m5,m6,m7,m8,m9))\n",
    "print(circuita)"
   ]
  },
  {
   "cell_type": "code",
   "execution_count": 4,
   "id": "0cdbcad3",
   "metadata": {},
   "outputs": [
    {
     "name": "stdout",
     "output_type": "stream",
     "text": [
      "0: ───@───────×───────────────────────────────────@───\n",
      "      │       │                                   │\n",
      "1: ───X───@───×───@───×───────────────────@───×───X───\n",
      "          │       │   │                   │   │\n",
      "2: ───@───X───────X───×───@───────@───×───X───×───────\n",
      "      │                   │       │   │\n",
      "3: ───X───@───────────────X───×───X───×───────────────\n",
      "          │                   │\n",
      "4: ───────X───────────────────×───────────────────────\n"
     ]
    }
   ],
   "source": [
    "circuitb = cirq.Circuit()\n",
    "\n",
    "#Part 2\n",
    "circuitb.append([cirq.CNOT(qubits[0],qubits[1]),cirq.CNOT(qubits[2],qubits[3])])\n",
    "circuitb.append([cirq.CNOT(qubits[1],qubits[2]),cirq.CNOT(qubits[3],qubits[4])])\n",
    "\n",
    "circuitb.append(cirq.SWAP(qubits[0],qubits[1]))\n",
    "circuitb.append(cirq.CNOT(qubits[1],qubits[2]))\n",
    "circuitb.append(cirq.SWAP(qubits[1],qubits[2]))\n",
    "circuitb.append(cirq.CNOT(qubits[2],qubits[3]))\n",
    "circuitb.append(cirq.SWAP(qubits[3],qubits[4]))\n",
    "circuitb.append(cirq.CNOT(qubits[2],qubits[3]))\n",
    "circuitb.append(cirq.SWAP(qubits[2],qubits[3]))\n",
    "circuitb.append(cirq.CNOT(qubits[1],qubits[2]))\n",
    "circuitb.append(cirq.SWAP(qubits[1],qubits[2]))\n",
    "circuitb.append(cirq.CNOT(qubits[0],qubits[1]))\n",
    "\n",
    "print(circuitb)"
   ]
  },
  {
   "cell_type": "code",
   "execution_count": null,
   "id": "e0f76258",
   "metadata": {},
   "outputs": [],
   "source": []
  }
 ],
 "metadata": {
  "kernelspec": {
   "display_name": "Python 3",
   "language": "python",
   "name": "python3"
  },
  "language_info": {
   "codemirror_mode": {
    "name": "ipython",
    "version": 3
   },
   "file_extension": ".py",
   "mimetype": "text/x-python",
   "name": "python",
   "nbconvert_exporter": "python",
   "pygments_lexer": "ipython3",
   "version": "3.8.11"
  }
 },
 "nbformat": 4,
 "nbformat_minor": 5
}
