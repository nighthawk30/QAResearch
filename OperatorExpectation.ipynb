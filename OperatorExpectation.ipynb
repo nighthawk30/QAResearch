{
 "cells": [
  {
   "cell_type": "code",
   "execution_count": 6,
   "id": "32648111",
   "metadata": {},
   "outputs": [
    {
     "name": "stdout",
     "output_type": "stream",
     "text": [
      "0.052\n",
      "1.0\n"
     ]
    }
   ],
   "source": [
    "import cirq\n",
    "\n",
    "bellcircuit = cirq.Circuit()\n",
    "qubits = cirq.LineQubit.range(2)\n",
    "bellcircuit.append(cirq.H(qubits[0]))\n",
    "bellcircuit.append(cirq.CNOT(qubits[0],qubits[1]))\n",
    "\n",
    "s = cirq.Simulator()\n",
    "bellcircuit.append(cirq.measure(*qubits, key='z'))\n",
    "counts = 1000\n",
    "samples = s.run(bellcircuit, repetitions=counts)\n",
    "data = samples.histogram(key='z')\n",
    "\n",
    "binaryformat = \"{0:0\" + str(len(qubits)) + \"b}\"\n",
    "zobj = 0\n",
    "zzobj = 0\n",
    "\n",
    "for key, value in data.items():\n",
    "    bitstring = binaryformat.format(int(key))\n",
    "    zobj += int(value) * (-1)**(int(bitstring[0]))\n",
    "    zzobj += int(value) * (-1)**(int(bitstring[0])+int(bitstring[1]))\n",
    "\n",
    "#normalization\n",
    "zobj=zobj/counts\n",
    "zzobj=zzobj/counts\n",
    "\n",
    "print(zobj)\n",
    "print(zzobj)"
   ]
  },
  {
   "cell_type": "code",
   "execution_count": 7,
   "id": "a8dea426",
   "metadata": {},
   "outputs": [
    {
     "name": "stdout",
     "output_type": "stream",
     "text": [
      "0: ───H───@───M('z')───\n",
      "          │   │\n",
      "1: ───────X───M────────\n"
     ]
    }
   ],
   "source": [
    "print(bellcircuit)"
   ]
  },
  {
   "cell_type": "code",
   "execution_count": null,
   "id": "fd1419a4",
   "metadata": {},
   "outputs": [],
   "source": []
  }
 ],
 "metadata": {
  "kernelspec": {
   "display_name": "Python 3",
   "language": "python",
   "name": "python3"
  },
  "language_info": {
   "codemirror_mode": {
    "name": "ipython",
    "version": 3
   },
   "file_extension": ".py",
   "mimetype": "text/x-python",
   "name": "python",
   "nbconvert_exporter": "python",
   "pygments_lexer": "ipython3",
   "version": "3.8.11"
  }
 },
 "nbformat": 4,
 "nbformat_minor": 5
}
