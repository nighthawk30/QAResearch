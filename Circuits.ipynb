{
 "cells": [
  {
   "cell_type": "code",
   "execution_count": 1,
   "id": "8c8d6225",
   "metadata": {},
   "outputs": [
    {
     "name": "stdout",
     "output_type": "stream",
     "text": [
      "H(b)\n",
      "CNOT(b, c)\n",
      "CNOT(a, b)\n",
      "H(a)\n",
      "cirq.MeasurementGate(2, 'a,b', ())(a, b)\n"
     ]
    }
   ],
   "source": [
    "import cirq\n",
    "\n",
    "# This examples uses named qubits to remain abstract.\n",
    "# However, we can also use LineQubits or GridQubits to specify a geometry\n",
    "a = cirq.NamedQubit('a')\n",
    "b = cirq.NamedQubit('b')\n",
    "c = cirq.NamedQubit('c')\n",
    "\n",
    "# Example Operations, that correspond to the moments above\n",
    "print(cirq.H(b))\n",
    "print(cirq.CNOT(b, c))\n",
    "print(cirq.CNOT(a, b))\n",
    "print(cirq.H(a))\n",
    "print(cirq.measure(a,b))\n"
   ]
  },
  {
   "cell_type": "code",
   "execution_count": 2,
   "id": "be05c5de",
   "metadata": {},
   "outputs": [
    {
     "name": "stdout",
     "output_type": "stream",
     "text": [
      "(0, 0)\n"
     ]
    }
   ],
   "source": [
    "#Circuits\n",
    "qubits = [cirq.GridQubit(x, y) for x in range(3) for y in range(3)]\n",
    "\n",
    "print(qubits[0])"
   ]
  },
  {
   "cell_type": "code",
   "execution_count": 3,
   "id": "d58a9816",
   "metadata": {},
   "outputs": [
    {
     "name": "stdout",
     "output_type": "stream",
     "text": [
      "X((0, 0))\n"
     ]
    }
   ],
   "source": [
    "# This is an Pauli X gate. It is an object instance.\n",
    "x_gate = cirq.X\n",
    "# Applying it to the qubit at location (0, 0) (defined above)\n",
    "# turns it into an operation.\n",
    "x_op = x_gate(qubits[0])\n",
    "\n",
    "print(x_op)"
   ]
  },
  {
   "cell_type": "code",
   "execution_count": 4,
   "id": "c2a5273e",
   "metadata": {},
   "outputs": [
    {
     "name": "stdout",
     "output_type": "stream",
     "text": [
      "  ╷ 0 1 2\n",
      "╶─┼───────\n",
      "0 │ @─@ X\n",
      "  │\n"
     ]
    }
   ],
   "source": [
    "cz = cirq.CZ(qubits[0], qubits[1])\n",
    "x = cirq.X(qubits[2])\n",
    "moment = cirq.Moment([x, cz])\n",
    "\n",
    "print(moment)"
   ]
  },
  {
   "cell_type": "code",
   "execution_count": 5,
   "id": "5aff7e85",
   "metadata": {},
   "outputs": [
    {
     "name": "stdout",
     "output_type": "stream",
     "text": [
      "(0, 0): ───@───────\n",
      "           │\n",
      "(0, 1): ───@───@───\n",
      "               │\n",
      "(0, 2): ───X───@───\n"
     ]
    }
   ],
   "source": [
    "cz01 = cirq.CZ(qubits[0], qubits[1])\n",
    "x2 = cirq.X(qubits[2])\n",
    "cz12 = cirq.CZ(qubits[1], qubits[2])\n",
    "moment0 = cirq.Moment([cz01, x2])\n",
    "moment1 = cirq.Moment([cz12])\n",
    "circuit = cirq.Circuit((moment0, moment1))\n",
    "\n",
    "print(circuit)"
   ]
  },
  {
   "cell_type": "code",
   "execution_count": 6,
   "id": "ea70b60f",
   "metadata": {},
   "outputs": [
    {
     "name": "stdout",
     "output_type": "stream",
     "text": [
      "(0, 0): ───@───\n",
      "           │\n",
      "(1, 0): ───@───\n",
      "\n",
      "(2, 0): ───H───\n"
     ]
    }
   ],
   "source": [
    "from cirq.ops import CZ, H\n",
    "q0, q1, q2 = [cirq.GridQubit(i, 0) for i in range(3)]\n",
    "circuit = cirq.Circuit()\n",
    "circuit.append([CZ(q0, q1), H(q2)])\n",
    "\n",
    "print(circuit)"
   ]
  },
  {
   "cell_type": "code",
   "execution_count": 7,
   "id": "b2ab6765",
   "metadata": {},
   "outputs": [
    {
     "name": "stdout",
     "output_type": "stream",
     "text": [
      "(0, 0): ───@───H───\n",
      "           │\n",
      "(1, 0): ───@───@───\n",
      "               │\n",
      "(2, 0): ───H───@───\n"
     ]
    }
   ],
   "source": [
    "circuit.append([H(q0), CZ(q1, q2)])\n",
    "\n",
    "print(circuit)"
   ]
  },
  {
   "cell_type": "code",
   "execution_count": 8,
   "id": "005cf732",
   "metadata": {},
   "outputs": [
    {
     "name": "stdout",
     "output_type": "stream",
     "text": [
      "(0, 0): ───@───H───\n",
      "           │\n",
      "(1, 0): ───@───@───\n",
      "               │\n",
      "(2, 0): ───H───@───\n"
     ]
    }
   ],
   "source": [
    "circuit = cirq.Circuit()\n",
    "circuit.append([CZ(q0, q1), H(q2), H(q0), CZ(q1, q2)])\n",
    "\n",
    "print(circuit)\n"
   ]
  },
  {
   "cell_type": "code",
   "execution_count": null,
   "id": "21991d21",
   "metadata": {},
   "outputs": [],
   "source": []
  }
 ],
 "metadata": {
  "kernelspec": {
   "display_name": "Python 3",
   "language": "python",
   "name": "python3"
  },
  "language_info": {
   "codemirror_mode": {
    "name": "ipython",
    "version": 3
   },
   "file_extension": ".py",
   "mimetype": "text/x-python",
   "name": "python",
   "nbconvert_exporter": "python",
   "pygments_lexer": "ipython3",
   "version": "3.8.10"
  }
 },
 "nbformat": 4,
 "nbformat_minor": 5
}
