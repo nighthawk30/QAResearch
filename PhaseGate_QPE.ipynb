{
 "cells": [
  {
   "cell_type": "code",
   "execution_count": 1,
   "id": "9a27225d",
   "metadata": {},
   "outputs": [],
   "source": [
    "import cirq\n",
    "import numpy as np\n",
    "import matplotlib.pyplot as plt"
   ]
  },
  {
   "cell_type": "code",
   "execution_count": 2,
   "id": "4ee0ac5d",
   "metadata": {},
   "outputs": [],
   "source": [
    "def make_qft_inverse(q):\n",
    "    for x in range(len(q)):\n",
    "        yield cirq.H(q[x])\n",
    "        #add cz power gates connecting this qubit to each of lower ones\n",
    "        for y in range(len(q) - x - 1):\n",
    "            exp = -1 * .5 ** (y + 1) #the gate powers are exponents of 1/2 (negative for inv)\n",
    "            yield cirq.CZ(q[y + x + 1],q[x]) ** exp"
   ]
  },
  {
   "cell_type": "code",
   "execution_count": 3,
   "id": "fbf3a8e5",
   "metadata": {},
   "outputs": [],
   "source": [
    "def phase_estimation(theta, n_bits, n_reps=10, u_prep_gate=cirq.X):\n",
    "    circuit = cirq.Circuit()\n",
    "    qbit = cirq.LineQubit.range(n_bits)\n",
    "    ubit = cirq.NamedQubit(\"U\")\n",
    "    #Phase applying gate\n",
    "    U = cirq.Z ** (2 * theta)#gate\n",
    "    \n",
    "    #Prepare state psi\n",
    "    circuit.append(u_prep_gate(ubit))\n",
    "    \n",
    "    #Apply Hadamards\n",
    "    for q in qbit:\n",
    "        circuit.append(cirq.H(q))\n",
    "    \n",
    "    #Apply controlled U operations\n",
    "    for x in range(n_bits):\n",
    "        power = 2 ** (n_bits - x - 1) # 2^(n-1), 2^n-2, 2^n-3 ...\n",
    "        circuit.append(cirq.ControlledGate(U).on(qbit[x], ubit) ** power)\n",
    "        \n",
    "    #Inverse QFT\n",
    "    circuit.append(make_qft_inverse(qbit))\n",
    "    \n",
    "    #Measure\n",
    "    circuit.append(cirq.measure(*qbit, key='m'))\n",
    "    \n",
    "    #Simulate\n",
    "    sim = cirq.Simulator()\n",
    "    result = sim.run(circuit, repetitions=n_reps)\n",
    "    theta_estimate = np.sum(2 ** np.arange(n_bits) * result.measurements['m'], axis=1) / 2**n_bits\n",
    "    \n",
    "    return theta_estimate"
   ]
  },
  {
   "cell_type": "code",
   "execution_count": null,
   "id": "ba6d4e2a",
   "metadata": {},
   "outputs": [],
   "source": [
    "#Test\n",
    "theta = np.pi/4\n",
    "n = 25\n",
    "result = phase_estimation(theta=theta, n_bits=n, n_reps=20, u_prep_gate=cirq.X)\n",
    "result *= 4\n",
    "print(np.mean(result))\n",
    "\n"
   ]
  },
  {
   "cell_type": "code",
   "execution_count": null,
   "id": "8addc926",
   "metadata": {},
   "outputs": [],
   "source": []
  }
 ],
 "metadata": {
  "kernelspec": {
   "display_name": "Python 3",
   "language": "python",
   "name": "python3"
  },
  "language_info": {
   "codemirror_mode": {
    "name": "ipython",
    "version": 3
   },
   "file_extension": ".py",
   "mimetype": "text/x-python",
   "name": "python",
   "nbconvert_exporter": "python",
   "pygments_lexer": "ipython3",
   "version": "3.8.11"
  }
 },
 "nbformat": 4,
 "nbformat_minor": 5
}
