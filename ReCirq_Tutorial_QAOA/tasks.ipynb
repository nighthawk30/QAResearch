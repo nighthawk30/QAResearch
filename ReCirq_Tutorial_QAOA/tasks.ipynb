{
 "cells": [
  {
   "cell_type": "markdown",
   "metadata": {
    "id": "dcQ6l8DrzJad"
   },
   "source": [
    "##### Copyright 2020 Google"
   ]
  },
  {
   "cell_type": "code",
   "execution_count": 1,
   "metadata": {
    "cellView": "form",
    "id": "7GiJJW7KzLLA"
   },
   "outputs": [],
   "source": [
    "#@title Licensed under the Apache License, Version 2.0 (the \"License\");\n",
    "# you may not use this file except in compliance with the License.\n",
    "# You may obtain a copy of the License at\n",
    "#\n",
    "# https://www.apache.org/licenses/LICENSE-2.0\n",
    "#\n",
    "# Unless required by applicable law or agreed to in writing, software\n",
    "# distributed under the License is distributed on an \"AS IS\" BASIS,\n",
    "# WITHOUT WARRANTIES OR CONDITIONS OF ANY KIND, either express or implied.\n",
    "# See the License for the specific language governing permissions and\n",
    "# limitations under the License."
   ]
  },
  {
   "cell_type": "markdown",
   "metadata": {
    "id": "Iznv7pW1yzWA"
   },
   "source": [
    "# QAOA Tasks"
   ]
  },
  {
   "cell_type": "markdown",
   "metadata": {
    "id": "UX6Wn1flzYOg"
   },
   "source": [
    "<table class=\"tfo-notebook-buttons\" align=\"left\">\n",
    "  <td>\n",
    "    <a target=\"_blank\" href=\"https://quantumai.google/cirq/experiments/qaoa/tasks\"><img src=\"https://quantumai.google/site-assets/images/buttons/quantumai_logo_1x.png\" />View on QuantumAI</a>\n",
    "  </td>\n",
    "  <td>\n",
    "    <a target=\"_blank\" href=\"https://colab.research.google.com/github/quantumlib/ReCirq/blob/master/docs/qaoa/tasks.ipynb\"><img src=\"https://quantumai.google/site-assets/images/buttons/colab_logo_1x.png\" />Run in Google Colab</a>\n",
    "  </td>\n",
    "  <td>\n",
    "    <a target=\"_blank\" href=\"https://github.com/quantumlib/ReCirq/blob/master/docs/qaoa/tasks.ipynb\"><img src=\"https://quantumai.google/site-assets/images/buttons/github_logo_1x.png\" />View source on GitHub</a>\n",
    "  </td>\n",
    "  <td>\n",
    "    <a href=\"https://storage.googleapis.com/tensorflow_docs/ReCirq/docs/qaoa/tasks.ipynb\"><img src=\"https://quantumai.google/site-assets/images/buttons/download_icon_1x.png\" />Download notebook</a>\n",
    "  </td>\n",
    "</table>"
   ]
  },
  {
   "cell_type": "markdown",
   "metadata": {
    "id": "ODiWjvdR0A-c"
   },
   "source": [
    "## Setup\n",
    "\n",
    "Install the ReCirq package:"
   ]
  },
  {
   "cell_type": "code",
   "execution_count": 2,
   "metadata": {
    "id": "CNcvxXPs0Buy"
   },
   "outputs": [],
   "source": [
    "try:\n",
    "    import recirq\n",
    "except ImportError:\n",
    "    !pip install git+https://github.com/quantumlib/ReCirq"
   ]
  },
  {
   "cell_type": "markdown",
   "metadata": {
    "id": "7EyHaU6p0Ebv"
   },
   "source": [
    "And import ReCirq:"
   ]
  },
  {
   "cell_type": "code",
   "execution_count": 3,
   "metadata": {
    "id": "hJC1Mqt00Txt"
   },
   "outputs": [],
   "source": [
    "import recirq"
   ]
  },
  {
   "cell_type": "markdown",
   "metadata": {
    "id": "L2vg1-UXyzWC"
   },
   "source": [
    "## Problem generation\n",
    "\n",
    "First, we generate and save all of the random instances of the problem. This is not computationally intensive but very important to do first so we have a fixed set of random instances."
   ]
  },
  {
   "cell_type": "code",
   "execution_count": 4,
   "metadata": {
    "id": "_ljoY33fyzWD"
   },
   "outputs": [
    {
     "data": {
      "text/markdown": [
       "### HardwareGridProblemGenerationTask\n",
       "Generate 'Hardware Grid' problems for a named device.\n",
       "\n",
       "This is a subgraph of the device's hardware topology with random\n",
       "+-1 weights on edges.\n",
       "\n",
       "#### See Also\n",
       "`generate_hardware_grid_problem` \n",
       "\n",
       "#### Attributes\n",
       " - `dataset_id`: A unique identifier for this dataset.\n",
       " - `device_name`: The device to generate problems for.\n",
       " - `instance_i`: Generate random instances indexed by this number.\n",
       " - `n_qubits`: Generate an n-qubit instance.\n"
      ],
      "text/plain": [
       "<IPython.core.display.Markdown object>"
      ]
     },
     "execution_count": 4,
     "metadata": {},
     "output_type": "execute_result"
    }
   ],
   "source": [
    "from recirq.qaoa.experiments.problem_generation_tasks import \\\n",
    "    SKProblemGenerationTask, HardwareGridProblemGenerationTask, ThreeRegularProblemGenerationTask, \\\n",
    "    generate_3_regular_problem, generate_sk_problem, generate_hardware_grid_problem\n",
    "\n",
    "pgen_dataset_id = '2020-03-tutorial'\n",
    "hardware_grid_problem_tasks = [\n",
    "    HardwareGridProblemGenerationTask(\n",
    "        dataset_id=pgen_dataset_id,\n",
    "        device_name='Sycamore23',\n",
    "        instance_i=i,\n",
    "        n_qubits=n\n",
    "    )\n",
    "    for i in range(5)\n",
    "    for n in range(2, 8 + 1, 2)\n",
    "]\n",
    "recirq.display_markdown_docstring(HardwareGridProblemGenerationTask)"
   ]
  },
  {
   "cell_type": "code",
   "execution_count": 5,
   "metadata": {
    "id": "1o5-pazdyzWH"
   },
   "outputs": [
    {
     "data": {
      "text/markdown": [
       "### SKProblemGenerationTask\n",
       "Generate a Sherrington-Kirkpatrick problem.\n",
       "\n",
       "This is a complete (fully-connected) graph with random +-1\n",
       "weights on edges.\n",
       "\n",
       "#### See Also\n",
       "`generate_sk_problem` \n",
       "\n",
       "#### Attributes\n",
       " - `dataset_id`: A unique identifier for this dataset.\n",
       " - `instance_i`: Generate random instances indexed by this number.\n",
       " - `n_qubits`: Generate an n-qubit instance.\n"
      ],
      "text/plain": [
       "<IPython.core.display.Markdown object>"
      ]
     },
     "execution_count": 5,
     "metadata": {},
     "output_type": "execute_result"
    }
   ],
   "source": [
    "sk_problem_tasks = [\n",
    "    SKProblemGenerationTask(\n",
    "        dataset_id=pgen_dataset_id,\n",
    "        instance_i=i,\n",
    "        n_qubits=n\n",
    "    )\n",
    "    for i in range(5)\n",
    "    for n in range(3, 7 + 1, 2)\n",
    "]\n",
    "recirq.display_markdown_docstring(SKProblemGenerationTask)"
   ]
  },
  {
   "cell_type": "code",
   "execution_count": 6,
   "metadata": {
    "id": "qyiL_W_KyzWK"
   },
   "outputs": [],
   "source": [
    "three_regular_problem_tasks = [\n",
    "    ThreeRegularProblemGenerationTask(\n",
    "        dataset_id=pgen_dataset_id,\n",
    "        instance_i=i,\n",
    "        n_qubits=n\n",
    "    )\n",
    "    for i in range(5)\n",
    "    for n in range(3, 8 + 1) if 3 * n % 2 == 0\n",
    "]"
   ]
  },
  {
   "cell_type": "markdown",
   "metadata": {
    "id": "bMBE4_hWyzWO"
   },
   "source": [
    "### Run the tasks"
   ]
  },
  {
   "cell_type": "code",
   "execution_count": 7,
   "metadata": {
    "id": "EYmmjjRnyzWO"
   },
   "outputs": [
    {
     "name": "stdout",
     "output_type": "stream",
     "text": [
      "2020-03-tutorial/hardware-grid-problems/Sycamore23/instance-0/nq-2 already exists. Skipping.\n",
      "2020-03-tutorial/hardware-grid-problems/Sycamore23/instance-0/nq-4 already exists. Skipping.\n",
      "2020-03-tutorial/hardware-grid-problems/Sycamore23/instance-0/nq-6 already exists. Skipping.\n",
      "2020-03-tutorial/hardware-grid-problems/Sycamore23/instance-0/nq-8 already exists. Skipping.\n",
      "2020-03-tutorial/hardware-grid-problems/Sycamore23/instance-1/nq-2 already exists. Skipping.\n",
      "2020-03-tutorial/hardware-grid-problems/Sycamore23/instance-1/nq-4 already exists. Skipping.\n",
      "2020-03-tutorial/hardware-grid-problems/Sycamore23/instance-1/nq-6 already exists. Skipping.\n",
      "2020-03-tutorial/hardware-grid-problems/Sycamore23/instance-1/nq-8 already exists. Skipping.\n",
      "2020-03-tutorial/hardware-grid-problems/Sycamore23/instance-2/nq-2 already exists. Skipping.\n",
      "2020-03-tutorial/hardware-grid-problems/Sycamore23/instance-2/nq-4 already exists. Skipping.\n",
      "2020-03-tutorial/hardware-grid-problems/Sycamore23/instance-2/nq-6 already exists. Skipping.\n",
      "2020-03-tutorial/hardware-grid-problems/Sycamore23/instance-2/nq-8 already exists. Skipping.\n",
      "2020-03-tutorial/hardware-grid-problems/Sycamore23/instance-3/nq-2 already exists. Skipping.\n",
      "2020-03-tutorial/hardware-grid-problems/Sycamore23/instance-3/nq-4 already exists. Skipping.\n",
      "2020-03-tutorial/hardware-grid-problems/Sycamore23/instance-3/nq-6 already exists. Skipping.\n",
      "2020-03-tutorial/hardware-grid-problems/Sycamore23/instance-3/nq-8 already exists. Skipping.\n",
      "2020-03-tutorial/hardware-grid-problems/Sycamore23/instance-4/nq-2 already exists. Skipping.\n",
      "2020-03-tutorial/hardware-grid-problems/Sycamore23/instance-4/nq-4 already exists. Skipping.\n",
      "2020-03-tutorial/hardware-grid-problems/Sycamore23/instance-4/nq-6 already exists. Skipping.\n",
      "2020-03-tutorial/hardware-grid-problems/Sycamore23/instance-4/nq-8 already exists. Skipping.\n",
      "2020-03-tutorial/sk-problems/nq-3/instance-0 already exists. Skipping.\n",
      "2020-03-tutorial/sk-problems/nq-5/instance-0 already exists. Skipping.\n",
      "2020-03-tutorial/sk-problems/nq-7/instance-0 already exists. Skipping.\n",
      "2020-03-tutorial/sk-problems/nq-3/instance-1 already exists. Skipping.\n",
      "2020-03-tutorial/sk-problems/nq-5/instance-1 already exists. Skipping.\n",
      "2020-03-tutorial/sk-problems/nq-7/instance-1 already exists. Skipping.\n",
      "2020-03-tutorial/sk-problems/nq-3/instance-2 already exists. Skipping.\n",
      "2020-03-tutorial/sk-problems/nq-5/instance-2 already exists. Skipping.\n",
      "2020-03-tutorial/sk-problems/nq-7/instance-2 already exists. Skipping.\n",
      "2020-03-tutorial/sk-problems/nq-3/instance-3 already exists. Skipping.\n",
      "2020-03-tutorial/sk-problems/nq-5/instance-3 already exists. Skipping.\n",
      "2020-03-tutorial/sk-problems/nq-7/instance-3 already exists. Skipping.\n",
      "2020-03-tutorial/sk-problems/nq-3/instance-4 already exists. Skipping.\n",
      "2020-03-tutorial/sk-problems/nq-5/instance-4 already exists. Skipping.\n",
      "2020-03-tutorial/sk-problems/nq-7/instance-4 already exists. Skipping.\n",
      "2020-03-tutorial/3-regular-problems/nq-4/instance-0 already exists. Skipping.\n",
      "2020-03-tutorial/3-regular-problems/nq-6/instance-0 already exists. Skipping.\n",
      "2020-03-tutorial/3-regular-problems/nq-8/instance-0 already exists. Skipping.\n",
      "2020-03-tutorial/3-regular-problems/nq-4/instance-1 already exists. Skipping.\n",
      "2020-03-tutorial/3-regular-problems/nq-6/instance-1 already exists. Skipping.\n",
      "2020-03-tutorial/3-regular-problems/nq-8/instance-1 already exists. Skipping.\n",
      "2020-03-tutorial/3-regular-problems/nq-4/instance-2 already exists. Skipping.\n",
      "2020-03-tutorial/3-regular-problems/nq-6/instance-2 already exists. Skipping.\n",
      "2020-03-tutorial/3-regular-problems/nq-8/instance-2 already exists. Skipping.\n",
      "2020-03-tutorial/3-regular-problems/nq-4/instance-3 already exists. Skipping.\n",
      "2020-03-tutorial/3-regular-problems/nq-6/instance-3 already exists. Skipping.\n",
      "2020-03-tutorial/3-regular-problems/nq-8/instance-3 already exists. Skipping.\n",
      "2020-03-tutorial/3-regular-problems/nq-4/instance-4 already exists. Skipping.\n",
      "2020-03-tutorial/3-regular-problems/nq-6/instance-4 already exists. Skipping.\n",
      "2020-03-tutorial/3-regular-problems/nq-8/instance-4 already exists. Skipping.\n"
     ]
    }
   ],
   "source": [
    "for task in hardware_grid_problem_tasks:\n",
    "    generate_hardware_grid_problem(task)\n",
    "for task in sk_problem_tasks:\n",
    "    generate_sk_problem(task)\n",
    "for task in three_regular_problem_tasks:\n",
    "    generate_3_regular_problem(task)"
   ]
  },
  {
   "cell_type": "markdown",
   "metadata": {
    "id": "JxNchpctyzWR"
   },
   "source": [
    "## Angle precomputation"
   ]
  },
  {
   "cell_type": "code",
   "execution_count": 12,
   "metadata": {
    "id": "G0eSk61UyzWR"
   },
   "outputs": [
    {
     "data": {
      "text/markdown": [
       "### AnglePrecomputationTask\n",
       "Pre-compute optimized angles classically for a given problem.\n",
       "\n",
       "#### See Also\n",
       "`precompute_angles` \n",
       "\n",
       "#### Attributes\n",
       " - `dataset_id`: A unique identifier for this dataset.\n",
       " - `generation_task`: The input task which specifies the problem.\n",
       " - `p`: QAOA depth hyperparameter p. The number of parameters is 2*p.\n"
      ],
      "text/plain": [
       "<IPython.core.display.Markdown object>"
      ]
     },
     "execution_count": 12,
     "metadata": {},
     "output_type": "execute_result"
    }
   ],
   "source": [
    "from recirq.qaoa.experiments.angle_precomputation_tasks import \\\n",
    "    AnglePrecomputationTask, precompute_angles\n",
    "\n",
    "apre_dataset_id = '2020-03-tutorial'\n",
    "precompute_tasks = [\n",
    "    AnglePrecomputationTask(\n",
    "        dataset_id=apre_dataset_id,\n",
    "        generation_task=gen_task,\n",
    "        p=p)\n",
    "    for gen_task in recirq.roundrobin(\n",
    "        #hardware_grid_problem_tasks,\n",
    "        #sk_problem_tasks,\n",
    "        three_regular_problem_tasks,\n",
    "    )\n",
    "    for p in range(1, 3 + 1)\n",
    "]\n",
    "recirq.display_markdown_docstring(AnglePrecomputationTask)"
   ]
  },
  {
   "cell_type": "code",
   "execution_count": 13,
   "metadata": {
    "id": "9TICgyjByzWU"
   },
   "outputs": [
    {
     "name": "stdout",
     "output_type": "stream",
     "text": [
      "2020-03-tutorial/from-2020-03-tutorial/3-regular-problems/nq-4/instance-0/p-1 already exists. Skipping.\n",
      "2020-03-tutorial/from-2020-03-tutorial/3-regular-problems/nq-4/instance-0/p-2 already exists. Skipping.\n",
      "-- p=1, F = -1.395 / -2.0, nfev=9, time=0.00 s\n",
      "-- p=2, F = -2.000 / -2.0, nfev=18, time=0.01 s\n",
      "-- p=3, F = -2.000 / -2.0, nfev=16, time=0.01 s\n",
      "-- p=4, F = -2.000 / -2.0, nfev=19, time=0.02 s\n",
      "-- p=5, F = -2.000 / -2.0, nfev=14, time=0.01 s\n"
     ]
    },
    {
     "ename": "TypeError",
     "evalue": "iteration over a 0-d array",
     "output_type": "error",
     "traceback": [
      "\u001b[0;31m---------------------------------------------------------------------------\u001b[0m",
      "\u001b[0;31mTypeError\u001b[0m                                 Traceback (most recent call last)",
      "\u001b[0;32m<ipython-input-13-a818e568aa64>\u001b[0m in \u001b[0;36m<module>\u001b[0;34m\u001b[0m\n\u001b[1;32m      1\u001b[0m \u001b[0;32mfor\u001b[0m \u001b[0mtask\u001b[0m \u001b[0;32min\u001b[0m \u001b[0mprecompute_tasks\u001b[0m\u001b[0;34m:\u001b[0m\u001b[0;34m\u001b[0m\u001b[0;34m\u001b[0m\u001b[0m\n\u001b[0;32m----> 2\u001b[0;31m     \u001b[0mprecompute_angles\u001b[0m\u001b[0;34m(\u001b[0m\u001b[0mtask\u001b[0m\u001b[0;34m)\u001b[0m\u001b[0;34m\u001b[0m\u001b[0;34m\u001b[0m\u001b[0m\n\u001b[0m",
      "\u001b[0;32m~/.local/lib/python3.8/site-packages/recirq/qaoa/experiments/angle_precomputation_tasks.py\u001b[0m in \u001b[0;36mprecompute_angles\u001b[0;34m(task, base_dir, problem_generation_base_dir)\u001b[0m\n\u001b[1;32m    115\u001b[0m         \u001b[0mproblem_generation_base_dir\u001b[0m\u001b[0;34m=\u001b[0m\u001b[0mproblem_generation_base_dir\u001b[0m\u001b[0;34m,\u001b[0m\u001b[0;34m\u001b[0m\u001b[0;34m\u001b[0m\u001b[0m\n\u001b[1;32m    116\u001b[0m     )[task.p]\n\u001b[0;32m--> 117\u001b[0;31m     recirq.save(task=task, data={\n\u001b[0m\u001b[1;32m    118\u001b[0m         \u001b[0;34m'optimum'\u001b[0m\u001b[0;34m:\u001b[0m \u001b[0moptimum\u001b[0m\u001b[0;34m,\u001b[0m\u001b[0;34m\u001b[0m\u001b[0;34m\u001b[0m\u001b[0m\n\u001b[1;32m    119\u001b[0m     }, base_dir=base_dir)\n",
      "\u001b[0;32m~/.local/lib/python3.8/site-packages/recirq/serialization_utils.py\u001b[0m in \u001b[0;36msave\u001b[0;34m(task, data, base_dir, mode)\u001b[0m\n\u001b[1;32m     52\u001b[0m     \u001b[0mos\u001b[0m\u001b[0;34m.\u001b[0m\u001b[0mmakedirs\u001b[0m\u001b[0;34m(\u001b[0m\u001b[0mos\u001b[0m\u001b[0;34m.\u001b[0m\u001b[0mpath\u001b[0m\u001b[0;34m.\u001b[0m\u001b[0mdirname\u001b[0m\u001b[0;34m(\u001b[0m\u001b[0mfn\u001b[0m\u001b[0;34m)\u001b[0m\u001b[0;34m,\u001b[0m \u001b[0mexist_ok\u001b[0m\u001b[0;34m=\u001b[0m\u001b[0;32mTrue\u001b[0m\u001b[0;34m)\u001b[0m\u001b[0;34m\u001b[0m\u001b[0;34m\u001b[0m\u001b[0m\n\u001b[1;32m     53\u001b[0m     \u001b[0;32mwith\u001b[0m \u001b[0mopen\u001b[0m\u001b[0;34m(\u001b[0m\u001b[0mfn\u001b[0m\u001b[0;34m,\u001b[0m \u001b[0mmode\u001b[0m\u001b[0;34m)\u001b[0m \u001b[0;32mas\u001b[0m \u001b[0mf\u001b[0m\u001b[0;34m:\u001b[0m\u001b[0;34m\u001b[0m\u001b[0;34m\u001b[0m\u001b[0m\n\u001b[0;32m---> 54\u001b[0;31m         \u001b[0mprotocols\u001b[0m\u001b[0;34m.\u001b[0m\u001b[0mto_json\u001b[0m\u001b[0;34m(\u001b[0m\u001b[0mwith_meta\u001b[0m\u001b[0;34m,\u001b[0m \u001b[0mf\u001b[0m\u001b[0;34m)\u001b[0m\u001b[0;34m\u001b[0m\u001b[0;34m\u001b[0m\u001b[0m\n\u001b[0m\u001b[1;32m     55\u001b[0m     \u001b[0;32mreturn\u001b[0m \u001b[0mfn\u001b[0m\u001b[0;34m\u001b[0m\u001b[0;34m\u001b[0m\u001b[0m\n\u001b[1;32m     56\u001b[0m \u001b[0;34m\u001b[0m\u001b[0m\n",
      "\u001b[0;32m~/.local/lib/python3.8/site-packages/cirq/protocols/json_serialization.py\u001b[0m in \u001b[0;36mto_json\u001b[0;34m(obj, file_or_fn, indent, cls)\u001b[0m\n\u001b[1;32m    502\u001b[0m             \u001b[0mto\u001b[0m \u001b[0myour\u001b[0m \u001b[0mclasses\u001b[0m \u001b[0mrather\u001b[0m \u001b[0mthan\u001b[0m \u001b[0moverriding\u001b[0m \u001b[0mthis\u001b[0m \u001b[0mdefault\u001b[0m\u001b[0;34m.\u001b[0m\u001b[0;34m\u001b[0m\u001b[0;34m\u001b[0m\u001b[0m\n\u001b[1;32m    503\u001b[0m     \"\"\"\n\u001b[0;32m--> 504\u001b[0;31m     \u001b[0;32mif\u001b[0m \u001b[0mhas_serializable_by_keys\u001b[0m\u001b[0;34m(\u001b[0m\u001b[0mobj\u001b[0m\u001b[0;34m)\u001b[0m\u001b[0;34m:\u001b[0m\u001b[0;34m\u001b[0m\u001b[0;34m\u001b[0m\u001b[0m\n\u001b[0m\u001b[1;32m    505\u001b[0m         \u001b[0mobj\u001b[0m \u001b[0;34m=\u001b[0m \u001b[0m_ContextualSerialization\u001b[0m\u001b[0;34m(\u001b[0m\u001b[0mobj\u001b[0m\u001b[0;34m)\u001b[0m\u001b[0;34m\u001b[0m\u001b[0;34m\u001b[0m\u001b[0m\n\u001b[1;32m    506\u001b[0m \u001b[0;34m\u001b[0m\u001b[0m\n",
      "\u001b[0;32m~/.local/lib/python3.8/site-packages/cirq/protocols/json_serialization.py\u001b[0m in \u001b[0;36mhas_serializable_by_keys\u001b[0;34m(obj)\u001b[0m\n\u001b[1;32m    432\u001b[0m     \u001b[0;31m# Handle primitive container types.\u001b[0m\u001b[0;34m\u001b[0m\u001b[0;34m\u001b[0m\u001b[0;34m\u001b[0m\u001b[0m\n\u001b[1;32m    433\u001b[0m     \u001b[0;32mif\u001b[0m \u001b[0misinstance\u001b[0m\u001b[0;34m(\u001b[0m\u001b[0mobj\u001b[0m\u001b[0;34m,\u001b[0m \u001b[0mDict\u001b[0m\u001b[0;34m)\u001b[0m\u001b[0;34m:\u001b[0m\u001b[0;34m\u001b[0m\u001b[0;34m\u001b[0m\u001b[0m\n\u001b[0;32m--> 434\u001b[0;31m         \u001b[0;32mreturn\u001b[0m \u001b[0many\u001b[0m\u001b[0;34m(\u001b[0m\u001b[0mhas_serializable_by_keys\u001b[0m\u001b[0;34m(\u001b[0m\u001b[0melem\u001b[0m\u001b[0;34m)\u001b[0m \u001b[0;32mfor\u001b[0m \u001b[0mpair\u001b[0m \u001b[0;32min\u001b[0m \u001b[0mobj\u001b[0m\u001b[0;34m.\u001b[0m\u001b[0mitems\u001b[0m\u001b[0;34m(\u001b[0m\u001b[0;34m)\u001b[0m \u001b[0;32mfor\u001b[0m \u001b[0melem\u001b[0m \u001b[0;32min\u001b[0m \u001b[0mpair\u001b[0m\u001b[0;34m)\u001b[0m\u001b[0;34m\u001b[0m\u001b[0;34m\u001b[0m\u001b[0m\n\u001b[0m\u001b[1;32m    435\u001b[0m     \u001b[0;32mif\u001b[0m \u001b[0mhasattr\u001b[0m\u001b[0;34m(\u001b[0m\u001b[0mobj\u001b[0m\u001b[0;34m,\u001b[0m \u001b[0;34m'__iter__'\u001b[0m\u001b[0;34m)\u001b[0m \u001b[0;32mand\u001b[0m \u001b[0;32mnot\u001b[0m \u001b[0misinstance\u001b[0m\u001b[0;34m(\u001b[0m\u001b[0mobj\u001b[0m\u001b[0;34m,\u001b[0m \u001b[0mstr\u001b[0m\u001b[0;34m)\u001b[0m\u001b[0;34m:\u001b[0m\u001b[0;34m\u001b[0m\u001b[0;34m\u001b[0m\u001b[0m\n\u001b[1;32m    436\u001b[0m         \u001b[0;32mreturn\u001b[0m \u001b[0many\u001b[0m\u001b[0;34m(\u001b[0m\u001b[0mhas_serializable_by_keys\u001b[0m\u001b[0;34m(\u001b[0m\u001b[0melem\u001b[0m\u001b[0;34m)\u001b[0m \u001b[0;32mfor\u001b[0m \u001b[0melem\u001b[0m \u001b[0;32min\u001b[0m \u001b[0mobj\u001b[0m\u001b[0;34m)\u001b[0m\u001b[0;34m\u001b[0m\u001b[0;34m\u001b[0m\u001b[0m\n",
      "\u001b[0;32m~/.local/lib/python3.8/site-packages/cirq/protocols/json_serialization.py\u001b[0m in \u001b[0;36m<genexpr>\u001b[0;34m(.0)\u001b[0m\n\u001b[1;32m    432\u001b[0m     \u001b[0;31m# Handle primitive container types.\u001b[0m\u001b[0;34m\u001b[0m\u001b[0;34m\u001b[0m\u001b[0;34m\u001b[0m\u001b[0m\n\u001b[1;32m    433\u001b[0m     \u001b[0;32mif\u001b[0m \u001b[0misinstance\u001b[0m\u001b[0;34m(\u001b[0m\u001b[0mobj\u001b[0m\u001b[0;34m,\u001b[0m \u001b[0mDict\u001b[0m\u001b[0;34m)\u001b[0m\u001b[0;34m:\u001b[0m\u001b[0;34m\u001b[0m\u001b[0;34m\u001b[0m\u001b[0m\n\u001b[0;32m--> 434\u001b[0;31m         \u001b[0;32mreturn\u001b[0m \u001b[0many\u001b[0m\u001b[0;34m(\u001b[0m\u001b[0mhas_serializable_by_keys\u001b[0m\u001b[0;34m(\u001b[0m\u001b[0melem\u001b[0m\u001b[0;34m)\u001b[0m \u001b[0;32mfor\u001b[0m \u001b[0mpair\u001b[0m \u001b[0;32min\u001b[0m \u001b[0mobj\u001b[0m\u001b[0;34m.\u001b[0m\u001b[0mitems\u001b[0m\u001b[0;34m(\u001b[0m\u001b[0;34m)\u001b[0m \u001b[0;32mfor\u001b[0m \u001b[0melem\u001b[0m \u001b[0;32min\u001b[0m \u001b[0mpair\u001b[0m\u001b[0;34m)\u001b[0m\u001b[0;34m\u001b[0m\u001b[0;34m\u001b[0m\u001b[0m\n\u001b[0m\u001b[1;32m    435\u001b[0m     \u001b[0;32mif\u001b[0m \u001b[0mhasattr\u001b[0m\u001b[0;34m(\u001b[0m\u001b[0mobj\u001b[0m\u001b[0;34m,\u001b[0m \u001b[0;34m'__iter__'\u001b[0m\u001b[0;34m)\u001b[0m \u001b[0;32mand\u001b[0m \u001b[0;32mnot\u001b[0m \u001b[0misinstance\u001b[0m\u001b[0;34m(\u001b[0m\u001b[0mobj\u001b[0m\u001b[0;34m,\u001b[0m \u001b[0mstr\u001b[0m\u001b[0;34m)\u001b[0m\u001b[0;34m:\u001b[0m\u001b[0;34m\u001b[0m\u001b[0;34m\u001b[0m\u001b[0m\n\u001b[1;32m    436\u001b[0m         \u001b[0;32mreturn\u001b[0m \u001b[0many\u001b[0m\u001b[0;34m(\u001b[0m\u001b[0mhas_serializable_by_keys\u001b[0m\u001b[0;34m(\u001b[0m\u001b[0melem\u001b[0m\u001b[0;34m)\u001b[0m \u001b[0;32mfor\u001b[0m \u001b[0melem\u001b[0m \u001b[0;32min\u001b[0m \u001b[0mobj\u001b[0m\u001b[0;34m)\u001b[0m\u001b[0;34m\u001b[0m\u001b[0;34m\u001b[0m\u001b[0m\n",
      "\u001b[0;32m~/.local/lib/python3.8/site-packages/cirq/protocols/json_serialization.py\u001b[0m in \u001b[0;36mhas_serializable_by_keys\u001b[0;34m(obj)\u001b[0m\n\u001b[1;32m    428\u001b[0m     \u001b[0mjson_dict\u001b[0m \u001b[0;34m=\u001b[0m \u001b[0mgetattr\u001b[0m\u001b[0;34m(\u001b[0m\u001b[0mobj\u001b[0m\u001b[0;34m,\u001b[0m \u001b[0;34m'_json_dict_'\u001b[0m\u001b[0;34m,\u001b[0m \u001b[0;32mlambda\u001b[0m\u001b[0;34m:\u001b[0m \u001b[0;32mNone\u001b[0m\u001b[0;34m)\u001b[0m\u001b[0;34m(\u001b[0m\u001b[0;34m)\u001b[0m\u001b[0;34m\u001b[0m\u001b[0;34m\u001b[0m\u001b[0m\n\u001b[1;32m    429\u001b[0m     \u001b[0;32mif\u001b[0m \u001b[0misinstance\u001b[0m\u001b[0;34m(\u001b[0m\u001b[0mjson_dict\u001b[0m\u001b[0;34m,\u001b[0m \u001b[0mDict\u001b[0m\u001b[0;34m)\u001b[0m\u001b[0;34m:\u001b[0m\u001b[0;34m\u001b[0m\u001b[0;34m\u001b[0m\u001b[0m\n\u001b[0;32m--> 430\u001b[0;31m         \u001b[0;32mreturn\u001b[0m \u001b[0many\u001b[0m\u001b[0;34m(\u001b[0m\u001b[0mhas_serializable_by_keys\u001b[0m\u001b[0;34m(\u001b[0m\u001b[0mv\u001b[0m\u001b[0;34m)\u001b[0m \u001b[0;32mfor\u001b[0m \u001b[0mv\u001b[0m \u001b[0;32min\u001b[0m \u001b[0mjson_dict\u001b[0m\u001b[0;34m.\u001b[0m\u001b[0mvalues\u001b[0m\u001b[0;34m(\u001b[0m\u001b[0;34m)\u001b[0m\u001b[0;34m)\u001b[0m\u001b[0;34m\u001b[0m\u001b[0;34m\u001b[0m\u001b[0m\n\u001b[0m\u001b[1;32m    431\u001b[0m \u001b[0;34m\u001b[0m\u001b[0m\n\u001b[1;32m    432\u001b[0m     \u001b[0;31m# Handle primitive container types.\u001b[0m\u001b[0;34m\u001b[0m\u001b[0;34m\u001b[0m\u001b[0;34m\u001b[0m\u001b[0m\n",
      "\u001b[0;32m~/.local/lib/python3.8/site-packages/cirq/protocols/json_serialization.py\u001b[0m in \u001b[0;36m<genexpr>\u001b[0;34m(.0)\u001b[0m\n\u001b[1;32m    428\u001b[0m     \u001b[0mjson_dict\u001b[0m \u001b[0;34m=\u001b[0m \u001b[0mgetattr\u001b[0m\u001b[0;34m(\u001b[0m\u001b[0mobj\u001b[0m\u001b[0;34m,\u001b[0m \u001b[0;34m'_json_dict_'\u001b[0m\u001b[0;34m,\u001b[0m \u001b[0;32mlambda\u001b[0m\u001b[0;34m:\u001b[0m \u001b[0;32mNone\u001b[0m\u001b[0;34m)\u001b[0m\u001b[0;34m(\u001b[0m\u001b[0;34m)\u001b[0m\u001b[0;34m\u001b[0m\u001b[0;34m\u001b[0m\u001b[0m\n\u001b[1;32m    429\u001b[0m     \u001b[0;32mif\u001b[0m \u001b[0misinstance\u001b[0m\u001b[0;34m(\u001b[0m\u001b[0mjson_dict\u001b[0m\u001b[0;34m,\u001b[0m \u001b[0mDict\u001b[0m\u001b[0;34m)\u001b[0m\u001b[0;34m:\u001b[0m\u001b[0;34m\u001b[0m\u001b[0;34m\u001b[0m\u001b[0m\n\u001b[0;32m--> 430\u001b[0;31m         \u001b[0;32mreturn\u001b[0m \u001b[0many\u001b[0m\u001b[0;34m(\u001b[0m\u001b[0mhas_serializable_by_keys\u001b[0m\u001b[0;34m(\u001b[0m\u001b[0mv\u001b[0m\u001b[0;34m)\u001b[0m \u001b[0;32mfor\u001b[0m \u001b[0mv\u001b[0m \u001b[0;32min\u001b[0m \u001b[0mjson_dict\u001b[0m\u001b[0;34m.\u001b[0m\u001b[0mvalues\u001b[0m\u001b[0;34m(\u001b[0m\u001b[0;34m)\u001b[0m\u001b[0;34m)\u001b[0m\u001b[0;34m\u001b[0m\u001b[0;34m\u001b[0m\u001b[0m\n\u001b[0m\u001b[1;32m    431\u001b[0m \u001b[0;34m\u001b[0m\u001b[0m\n\u001b[1;32m    432\u001b[0m     \u001b[0;31m# Handle primitive container types.\u001b[0m\u001b[0;34m\u001b[0m\u001b[0;34m\u001b[0m\u001b[0;34m\u001b[0m\u001b[0m\n",
      "\u001b[0;32m~/.local/lib/python3.8/site-packages/cirq/protocols/json_serialization.py\u001b[0m in \u001b[0;36mhas_serializable_by_keys\u001b[0;34m(obj)\u001b[0m\n\u001b[1;32m    434\u001b[0m         \u001b[0;32mreturn\u001b[0m \u001b[0many\u001b[0m\u001b[0;34m(\u001b[0m\u001b[0mhas_serializable_by_keys\u001b[0m\u001b[0;34m(\u001b[0m\u001b[0melem\u001b[0m\u001b[0;34m)\u001b[0m \u001b[0;32mfor\u001b[0m \u001b[0mpair\u001b[0m \u001b[0;32min\u001b[0m \u001b[0mobj\u001b[0m\u001b[0;34m.\u001b[0m\u001b[0mitems\u001b[0m\u001b[0;34m(\u001b[0m\u001b[0;34m)\u001b[0m \u001b[0;32mfor\u001b[0m \u001b[0melem\u001b[0m \u001b[0;32min\u001b[0m \u001b[0mpair\u001b[0m\u001b[0;34m)\u001b[0m\u001b[0;34m\u001b[0m\u001b[0;34m\u001b[0m\u001b[0m\n\u001b[1;32m    435\u001b[0m     \u001b[0;32mif\u001b[0m \u001b[0mhasattr\u001b[0m\u001b[0;34m(\u001b[0m\u001b[0mobj\u001b[0m\u001b[0;34m,\u001b[0m \u001b[0;34m'__iter__'\u001b[0m\u001b[0;34m)\u001b[0m \u001b[0;32mand\u001b[0m \u001b[0;32mnot\u001b[0m \u001b[0misinstance\u001b[0m\u001b[0;34m(\u001b[0m\u001b[0mobj\u001b[0m\u001b[0;34m,\u001b[0m \u001b[0mstr\u001b[0m\u001b[0;34m)\u001b[0m\u001b[0;34m:\u001b[0m\u001b[0;34m\u001b[0m\u001b[0;34m\u001b[0m\u001b[0m\n\u001b[0;32m--> 436\u001b[0;31m         \u001b[0;32mreturn\u001b[0m \u001b[0many\u001b[0m\u001b[0;34m(\u001b[0m\u001b[0mhas_serializable_by_keys\u001b[0m\u001b[0;34m(\u001b[0m\u001b[0melem\u001b[0m\u001b[0;34m)\u001b[0m \u001b[0;32mfor\u001b[0m \u001b[0melem\u001b[0m \u001b[0;32min\u001b[0m \u001b[0mobj\u001b[0m\u001b[0;34m)\u001b[0m\u001b[0;34m\u001b[0m\u001b[0;34m\u001b[0m\u001b[0m\n\u001b[0m\u001b[1;32m    437\u001b[0m     \u001b[0;32mreturn\u001b[0m \u001b[0;32mFalse\u001b[0m\u001b[0;34m\u001b[0m\u001b[0;34m\u001b[0m\u001b[0m\n\u001b[1;32m    438\u001b[0m \u001b[0;34m\u001b[0m\u001b[0m\n",
      "\u001b[0;31mTypeError\u001b[0m: iteration over a 0-d array"
     ]
    }
   ],
   "source": [
    "for task in precompute_tasks:\n",
    "    precompute_angles(task)"
   ]
  },
  {
   "cell_type": "markdown",
   "metadata": {
    "id": "U-4ZhSe_yzWX"
   },
   "source": [
    "## Precomputed angle data collection"
   ]
  },
  {
   "cell_type": "code",
   "execution_count": 9,
   "metadata": {
    "id": "yxAV6GjWyzWY"
   },
   "outputs": [
    {
     "data": {
      "text/markdown": [
       "### PrecomputedDataCollectionTask\n",
       "PrecomputedDataCollectionTask(dataset_id: str, precomputation_task: recirq.qaoa.experiments.angle_precomputation_tasks.AnglePrecomputationTask, device_name: str, n_shots: int, structured: bool = False, echoed: bool = False)"
      ],
      "text/plain": [
       "<IPython.core.display.Markdown object>"
      ]
     },
     "execution_count": 9,
     "metadata": {},
     "output_type": "execute_result"
    }
   ],
   "source": [
    "from recirq.qaoa.experiments.precomputed_execution_tasks import \\\n",
    "    PrecomputedDataCollectionTask, collect_data\n",
    "    \n",
    "\n",
    "dcol_dataset_id = '2020-03-tutorial'\n",
    "data_collection_tasks = [\n",
    "    PrecomputedDataCollectionTask(\n",
    "        dataset_id=dcol_dataset_id,\n",
    "        precomputation_task=pre_task,\n",
    "        device_name='Syc23-simulator',\n",
    "        n_shots=50_000,\n",
    "        structured=True,\n",
    "    )\n",
    "    for pre_task in precompute_tasks\n",
    "]\n",
    "recirq.display_markdown_docstring(PrecomputedDataCollectionTask)"
   ]
  },
  {
   "cell_type": "code",
   "execution_count": null,
   "metadata": {
    "id": "F5oIYM1GyzWb"
   },
   "outputs": [
    {
     "name": "stdout",
     "output_type": "stream",
     "text": [
      "Added everything to the queue. Current queue size: 150\n",
      "Processing 2020-03-tutorial/Syc23-simulator/from-2020-03-tutorial/hardware-grid-problems/Sycamore23/instance-0/nq-2/p-1_50k_structured. Current queue size: 149\n",
      "Processing 2020-03-tutorial/Syc23-simulator/from-2020-03-tutorial/hardware-grid-problems/Sycamore23/instance-0/nq-2/p-2_50k_structured. Current queue size: 148\n"
     ]
    }
   ],
   "source": [
    "await recirq.execute_in_queue(collect_data, data_collection_tasks, num_workers=2)"
   ]
  },
  {
   "cell_type": "markdown",
   "metadata": {
    "id": "ZR4uOP5SyzWe"
   },
   "source": [
    "## Landscape data collection"
   ]
  },
  {
   "cell_type": "code",
   "execution_count": null,
   "metadata": {
    "id": "9fx1_PF5yzWe"
   },
   "outputs": [],
   "source": [
    "from recirq.qaoa.experiments.p1_landscape_tasks import \\\n",
    "    P1LandscapeDataCollectionTask, \\\n",
    "    get_data_collection_tasks_on_a_grid, \\\n",
    "    collect_either_landscape_or_cal\n",
    "\n",
    "recirq.display_markdown_docstring(P1LandscapeDataCollectionTask)"
   ]
  },
  {
   "cell_type": "code",
   "execution_count": null,
   "metadata": {
    "id": "XlcHhXUwyzWh"
   },
   "outputs": [],
   "source": [
    "hardware_grid_problem_task = HardwareGridProblemGenerationTask(\n",
    "    dataset_id=pgen_dataset_id,\n",
    "    device_name='Sycamore23',\n",
    "    instance_i=0,\n",
    "    n_qubits=4\n",
    ")\n",
    "data_collection_tasks = get_data_collection_tasks_on_a_grid(\n",
    "    pgen_task=hardware_grid_problem_task,\n",
    "    dataset_id=dcol_dataset_id,\n",
    "    gamma_res=11,\n",
    "    beta_res=11,\n",
    "    device_name='Syc23-simulator',\n",
    "    epoch=\"grid\")\n",
    "\n",
    "await recirq.execute_in_queue(collect_either_landscape_or_cal,\n",
    "                              data_collection_tasks,\n",
    "                              num_workers=2)"
   ]
  },
  {
   "cell_type": "code",
   "execution_count": null,
   "metadata": {
    "id": "FTxZFYPLyzWj"
   },
   "outputs": [],
   "source": [
    "sk_problem_task = SKProblemGenerationTask(\n",
    "    dataset_id=pgen_dataset_id,\n",
    "    instance_i=0,\n",
    "    n_qubits=3,\n",
    ")\n",
    "data_collection_tasks = get_data_collection_tasks_on_a_grid(\n",
    "    pgen_task=sk_problem_task,\n",
    "    dataset_id=dcol_dataset_id,\n",
    "    gamma_res=11,\n",
    "    beta_res=11,\n",
    "    device_name='Syc23-simulator',\n",
    "    epoch=\"sk\")\n",
    "await recirq.execute_in_queue(collect_either_landscape_or_cal,\n",
    "                              data_collection_tasks,\n",
    "                              num_workers=2)"
   ]
  },
  {
   "cell_type": "code",
   "execution_count": null,
   "metadata": {
    "id": "Rq1ePbzQyzWm"
   },
   "outputs": [],
   "source": [
    "three_regular_problem_task = ThreeRegularProblemGenerationTask(\n",
    "    dataset_id=pgen_dataset_id,\n",
    "    instance_i=0,\n",
    "    n_qubits=4\n",
    ")\n",
    "data_collection_tasks = get_data_collection_tasks_on_a_grid(\n",
    "    pgen_task=three_regular_problem_task,\n",
    "    dataset_id=dcol_dataset_id,\n",
    "    device_name='Syc23-simulator',\n",
    "    gamma_res=11,\n",
    "    beta_res=11,\n",
    "    epoch=\"tr\")\n",
    "\n",
    "await recirq.execute_in_queue(collect_either_landscape_or_cal,\n",
    "                              data_collection_tasks,\n",
    "                              num_workers=2)"
   ]
  },
  {
   "cell_type": "markdown",
   "metadata": {
    "id": "be4b07cfe483"
   },
   "source": [
    "## Optimization Data Collection"
   ]
  },
  {
   "cell_type": "code",
   "execution_count": null,
   "metadata": {
    "id": "9f21aa53f6ce"
   },
   "outputs": [],
   "source": [
    "from recirq.qaoa.experiments.optimization_tasks import \\\n",
    "    OptimizationAlgorithm, \\\n",
    "    OptimizationTask, \\\n",
    "    collect_optimization_data\n",
    "\n",
    "recirq.display_markdown_docstring(OptimizationTask)"
   ]
  },
  {
   "cell_type": "code",
   "execution_count": null,
   "metadata": {
    "id": "b93b6c7817c7"
   },
   "outputs": [],
   "source": [
    "optimization_algorithm = OptimizationAlgorithm(\n",
    "    method='MGD',\n",
    "    n_shots=25000,\n",
    "    options={\n",
    "        'max_iterations': 10,\n",
    "        'rate': 0.3,\n",
    "        'sample_radius': 0.1,\n",
    "        'n_sample_points_ratio': 1.0,\n",
    "        'rate_decay_exponent': 0.4,\n",
    "        'stability_constant': 250,\n",
    "        'sample_radius_decay_exponent': 0.08,\n",
    "    })\n",
    "hardware_grid_optimization_task = OptimizationTask(\n",
    "    dataset_id=dcol_dataset_id,\n",
    "    generation_task=hardware_grid_problem_task,\n",
    "    device_name='Syc23-simulator',\n",
    "    p=1,\n",
    "    algorithm=optimization_algorithm,\n",
    "    x0=[0.3, 0.2])\n",
    "\n",
    "collect_optimization_data(hardware_grid_optimization_task)"
   ]
  },
  {
   "cell_type": "code",
   "execution_count": null,
   "metadata": {
    "id": "0b49a2b9de9b"
   },
   "outputs": [],
   "source": [
    "optimization_algorithm = OptimizationAlgorithm(\n",
    "    method='MGD',\n",
    "    n_shots=25000,\n",
    "    options={\n",
    "        'max_iterations': 10,\n",
    "        'rate': 0.3,\n",
    "        'sample_radius': 0.1,\n",
    "        'n_sample_points_ratio': 1.0,\n",
    "        'rate_decay_exponent': 0.3,\n",
    "        'stability_constant': 200,\n",
    "        'sample_radius_decay_exponent': 0.08,\n",
    "    })\n",
    "sk_optimization_task = OptimizationTask(\n",
    "    dataset_id=dcol_dataset_id,\n",
    "    generation_task=sk_problem_task,\n",
    "    device_name='Syc23-simulator',\n",
    "    p=1,\n",
    "    algorithm=optimization_algorithm,\n",
    "    x0=[0.3, 0.2])\n",
    "\n",
    "collect_optimization_data(sk_optimization_task)"
   ]
  },
  {
   "cell_type": "code",
   "execution_count": null,
   "metadata": {
    "id": "1b15ac1a9915"
   },
   "outputs": [],
   "source": [
    "optimization_algorithm = OptimizationAlgorithm(\n",
    "    method='MGD',\n",
    "    n_shots=25000,\n",
    "    options={\n",
    "        'max_iterations': 10,\n",
    "        'rate': 0.2,\n",
    "        'sample_radius': 0.1,\n",
    "        'n_sample_points_ratio': 1.0,\n",
    "        'rate_decay_exponent': 0.4,\n",
    "        'stability_constant': 250,\n",
    "        'sample_radius_decay_exponent': 0.08,\n",
    "    })\n",
    "three_regular_optimization_task = OptimizationTask(\n",
    "    dataset_id=dcol_dataset_id,\n",
    "    generation_task=three_regular_problem_task,\n",
    "    device_name='Syc23-simulator',\n",
    "    p=1,\n",
    "    algorithm=optimization_algorithm,\n",
    "    x0=[0.3, 0.2])\n",
    "\n",
    "collect_optimization_data(three_regular_optimization_task)"
   ]
  }
 ],
 "metadata": {
  "colab": {
   "name": "tasks.ipynb",
   "toc_visible": true
  },
  "kernelspec": {
   "display_name": "Python 3",
   "language": "python",
   "name": "python3"
  },
  "language_info": {
   "codemirror_mode": {
    "name": "ipython",
    "version": 3
   },
   "file_extension": ".py",
   "mimetype": "text/x-python",
   "name": "python",
   "nbconvert_exporter": "python",
   "pygments_lexer": "ipython3",
   "version": "3.8.11"
  }
 },
 "nbformat": 4,
 "nbformat_minor": 1
}
