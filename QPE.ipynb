{
 "cells": [
  {
   "cell_type": "code",
   "execution_count": 2,
   "id": "c4293b81",
   "metadata": {},
   "outputs": [],
   "source": [
    "import cirq\n",
    "import random\n",
    "import matplotlib.pyplot as plt\n",
    "import numpy as np"
   ]
  },
  {
   "cell_type": "code",
   "execution_count": 3,
   "id": "ea415a6f",
   "metadata": {},
   "outputs": [],
   "source": [
    "def make_qft_inverse(q):\n",
    "    for x in range(len(q)):\n",
    "        yield cirq.H(q[x])\n",
    "        #add cz power gates connecting this qubit to each of lower ones\n",
    "        for y in range(len(q) - x - 1):\n",
    "            exp = -1 * .5 ** (y + 1) #the gate powers are exponents of 1/2 (negative for inv)\n",
    "            yield cirq.CZ(q[y + x + 1],q[x]) ** exp"
   ]
  },
  {
   "cell_type": "code",
   "execution_count": 7,
   "id": "e8e69a4e",
   "metadata": {},
   "outputs": [],
   "source": [
    "#Quantum Phase Estimation algorithm\n",
    "\"\"\"Set up the unitary and number of bits to use in phase estimation.\"\"\"\n",
    "# Value of θ which appears in the definition of the unitary U above.\n",
    "# Try different values.\n",
    "theta = 1\n",
    "\n",
    "# Define the unitary U. It's arbitrary\n",
    "U = cirq.Z ** (2 * theta)\n",
    "\n",
    "# Accuracy of the estimate for theta. Try different values.\n",
    "n_bits = 3"
   ]
  },
  {
   "cell_type": "code",
   "execution_count": 8,
   "id": "d6483001",
   "metadata": {},
   "outputs": [
    {
     "name": "stdout",
     "output_type": "stream",
     "text": [
      "                               ┌────────┐\n",
      "0: ───H───@─────H─────@─────────@────────────────────────M('m')───\n",
      "          │           │         │                        │\n",
      "1: ───H───┼─────@─────@^-0.5────┼──────H────@────────────M────────\n",
      "          │     │               │           │            │\n",
      "2: ───H───┼─────┼─────@─────────@^-0.25─────@^-0.5───H───M────────\n",
      "          │     │     │\n",
      "U: ───X───Z^0───Z^0───Z^0─────────────────────────────────────────\n",
      "                               └────────┘\n"
     ]
    }
   ],
   "source": [
    "c = cirq.Circuit()\n",
    "\n",
    "qbit = cirq.LineQubit.range(n_bits)\n",
    "opt = cirq.NamedQubit('U')\n",
    "\n",
    "c.append(cirq.X(opt))#state doesnt really matter here\n",
    "\n",
    "for q in qbit:\n",
    "    c.append(cirq.H(q))\n",
    "\n",
    "for x in range(len(qbit)):\n",
    "    power = 2 ** (len(qbit) - x - 1)# 2^(n-1), 2^n-2, 2^n-3 ...    \n",
    "    c.append(cirq.ControlledGate(U).on(qbit[x], opt) ** power)#Controlled U to the power\n",
    "\n",
    "c.append(make_qft_inverse(qbit))\n",
    "c.append(cirq.measure(*qbit, key='m'))\n",
    "\n",
    "print(c)"
   ]
  },
  {
   "cell_type": "code",
   "execution_count": 10,
   "id": "11d4a613",
   "metadata": {},
   "outputs": [
    {
     "name": "stdout",
     "output_type": "stream",
     "text": [
      "[0. 0. 0. 0. 0. 0. 0. 0. 0. 0.]\n"
     ]
    }
   ],
   "source": [
    "#Simulate\n",
    "sim = cirq.Simulator()\n",
    "result = sim.run(c, repetitions=10)\n",
    "\n",
    "# Convert from output bitstrings to estimate θ values.\n",
    "theta_estimates = np.sum(2 ** np.arange(n_bits) * result.measurements['m'], axis=1) / 2**n_bits\n",
    "print(theta_estimates)"
   ]
  },
  {
   "cell_type": "code",
   "execution_count": 11,
   "id": "9bd117bb",
   "metadata": {},
   "outputs": [],
   "source": [
    "def phase_estimation(theta, n_bits, n_reps=10, u_prep_gate=cirq.X):\n",
    "    circuit = cirq.Circuit()\n",
    "    qbit = cirq.LineQubit.range(n_bits)\n",
    "    ubit = cirq.NamedQubit(\"U\")\n",
    "    U = cirq.Z ** (2 * theta)#gate\n",
    "    \n",
    "    #Prepare state psi\n",
    "    circuit.append(u_prep_gate(ubit))\n",
    "    \n",
    "    #Apply Hadamards\n",
    "    for q in qbit:\n",
    "        circuit.append(cirq.H(q))\n",
    "    \n",
    "    #Apply controlled U operations\n",
    "    for x in range(n_bits):\n",
    "        power = 2 ** (n_bits - x - 1) # 2^(n-1), 2^n-2, 2^n-3 ...\n",
    "        circuit.append(cirq.ControlledGate(U).on(qbit[x], ubit) ** power)\n",
    "        \n",
    "    #Inverse QFT\n",
    "    circuit.append(make_qft_inverse(qbit))\n",
    "    \n",
    "    #Measure\n",
    "    circuit.append(cirq.measure(*qbit, key='m'))\n",
    "    \n",
    "    #Simulate\n",
    "    sim = cirq.Simulator()\n",
    "    result = sim.run(circuit, repetitions=n_reps)\n",
    "    theta_estimate = np.sum(2 ** np.arange(n_bits) * result.measurements['m'], axis=1) / 2**n_bits\n",
    "    \n",
    "    return theta_estimate"
   ]
  },
  {
   "cell_type": "code",
   "execution_count": 14,
   "id": "8ff0d5d4",
   "metadata": {},
   "outputs": [
    {
     "data": {
      "image/png": "[encoded data removed]",
      "text/plain": [
       "<Figure size 432x288 with 1 Axes>"
      ]
     },
     "metadata": {},
     "output_type": "display_data"
    }
   ],
   "source": [
    "#FROM TUTORIAL\n",
    "\"\"\"Analyze convergence vs n_bits.\"\"\"\n",
    "# Set the value of theta. Try different values.\n",
    "theta = 1\n",
    "\n",
    "max_nvals = 16\n",
    "nvals = np.arange(1, max_nvals, step=1)\n",
    "\n",
    "# Get the estimates at each value of n.\n",
    "estimates = []\n",
    "for n in nvals:\n",
    "    estimate = phase_estimation(theta=theta, n_bits=n, n_reps=1)[0]\n",
    "    estimates.append(estimate)\n",
    "\n",
    "\"\"\"Plot the results.\"\"\"\n",
    "plt.style.use(\"seaborn-whitegrid\")\n",
    "\n",
    "plt.plot(nvals, estimates, \"--o\", label=\"Phase estimation\")\n",
    "plt.axhline(theta, label=\"True value\", color=\"black\")\n",
    "\n",
    "plt.legend()\n",
    "plt.xlabel(\"Number of bits\")\n",
    "plt.ylabel(r\"$\\theta$\");"
   ]
  },
  {
   "cell_type": "code",
   "execution_count": 20,
   "id": "2ef935f3",
   "metadata": {},
   "outputs": [
    {
     "name": "stdout",
     "output_type": "stream",
     "text": [
      "[0.4375 0.     0.4375 0.4375 0.     0.     0.     0.     0.375  0.5   ]\n"
     ]
    }
   ],
   "source": [
    "#What if we don't know psi?\n",
    "\"\"\"Run phase estimation without starting in an eigenstate.\"\"\"\n",
    "# Value of theta.\n",
    "theta = .4567\n",
    "\n",
    "# Number of qubits.\n",
    "n = 4\n",
    "\n",
    "# Run phase estimation starting in the state H|0⟩ = |+⟩.\n",
    "res = phase_estimation(theta=theta, n_bits=n, n_reps=10, u_prep_gate=cirq.H)\n",
    "print(res)\n",
    "\n",
    "#Only correct 1/2 the time! Shors algorithm is basically this algorithm and has the same constraint"
   ]
  },
  {
   "cell_type": "code",
   "execution_count": null,
   "id": "06bd3c2e",
   "metadata": {},
   "outputs": [],
   "source": []
  }
 ],
 "metadata": {
  "kernelspec": {
   "display_name": "Python 3",
   "language": "python",
   "name": "python3"
  },
  "language_info": {
   "codemirror_mode": {
    "name": "ipython",
    "version": 3
   },
   "file_extension": ".py",
   "mimetype": "text/x-python",
   "name": "python",
   "nbconvert_exporter": "python",
   "pygments_lexer": "ipython3",
   "version": "3.8.11"
  }
 },
 "nbformat": 4,
 "nbformat_minor": 5
}
