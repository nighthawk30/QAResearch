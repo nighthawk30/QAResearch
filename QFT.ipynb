{
 "cells": [
  {
   "cell_type": "code",
   "execution_count": 1,
   "id": "c29621a1",
   "metadata": {},
   "outputs": [],
   "source": [
    "import cirq\n",
    "import random\n",
    "import matplotlib.pyplot as plt\n",
    "import numpy as np\n",
    "from cirq.contrib.svg import SVGCircuit, circuit_to_svg"
   ]
  },
  {
   "cell_type": "code",
   "execution_count": 2,
   "id": "1e7fa8b9",
   "metadata": {},
   "outputs": [],
   "source": [
    "#Quantum fourier transform circuit\n",
    "def make_qft(q):\n",
    "    \"\"\"Generator for the QFT on a list of qubits.\n",
    "\n",
    "    For four qubits, the answer is:\n",
    "\n",
    "                          ┌───────┐   ┌────────────┐   ┌───────┐\n",
    "    0: ───H───@────────@───────────@───────────────────────────────────────\n",
    "              │        │           │\n",
    "    1: ───────@^0.5────┼─────H─────┼──────@─────────@──────────────────────\n",
    "                       │           │      │         │\n",
    "    2: ────────────────@^0.25──────┼──────@^0.5─────┼─────H────@───────────\n",
    "                                   │                │          │\n",
    "    3: ────────────────────────────@^(1/8)──────────@^0.25─────@^0.5───H───\n",
    "                      └───────┘   └────────────┘   └───────┘\n",
    "    \"\"\"\n",
    "    \n",
    "    #Qubits are in reverse order from start\n",
    "    \n",
    "    for x in range(len(q)):\n",
    "        yield cirq.H(q[x])\n",
    "        for y in range(len(q) - x - 1):#add cz power gates connecting this qubit to each of lower ones\n",
    "            exp = .5 ** (y + 1) #the gate powers are exponents of 1/2\n",
    "            yield cirq.CZ(q[y + x + 1],q[x]) ** exp #act on head qubit with cz from lower qubits"
   ]
  },
  {
   "cell_type": "code",
   "execution_count": 3,
   "id": "05008d41",
   "metadata": {},
   "outputs": [],
   "source": [
    "def make_qft_inverse(q):\n",
    "    for x in range(len(q)):\n",
    "        yield cirq.H(q[x])\n",
    "        #add cz power gates connecting this qubit to each of lower ones\n",
    "        for y in range(len(q) - x - 1):\n",
    "            exp = -1 * .5 ** (y + 1) #the gate powers are exponents of 1/2 (negative for inv)\n",
    "            yield cirq.CZ(q[y + x + 1],q[x]) ** exp"
   ]
  },
  {
   "cell_type": "code",
   "execution_count": 4,
   "id": "3ed1c8fa",
   "metadata": {},
   "outputs": [
    {
     "name": "stderr",
     "output_type": "stream",
     "text": [
      "findfont: Font family ['Arial'] not found. Falling back to DejaVu Sans.\n"
     ]
    },
    {
     "name": "stdout",
     "output_type": "stream",
     "text": [
      "                   ┌────────┐   ┌──────────────┐   ┌────────┐\n",
      "0: ───H───@─────────@────────────@───────────────────────────────────────────\n",
      "          │         │            │\n",
      "1: ───────@^-0.5────┼──────H─────┼───────@──────────@────────────────────────\n",
      "                    │            │       │          │\n",
      "2: ─────────────────@^-0.25──────┼───────@^-0.5─────┼──────H────@────────────\n",
      "                                 │                  │           │\n",
      "3: ──────────────────────────────@^(-1/8)───────────@^-0.25─────@^-0.5───H───\n",
      "                   └────────┘   └──────────────┘   └────────┘\n"
     ]
    },
    {
     "data": {
      "image/svg+xml": [
       "<svg xmlns=\"http://www.w3.org/2000/svg\" width=\"794.4318359375\" height=\"240.0\"><line x1=\"30.0\" x2=\"764.4318359375\" y1=\"45.0\" y2=\"45.0\" stroke=\"#1967d2\" stroke-width=\"1\" /><line x1=\"30.0\" x2=\"764.4318359375\" y1=\"95.0\" y2=\"95.0\" stroke=\"#1967d2\" stroke-width=\"1\" /><line x1=\"30.0\" x2=\"764.4318359375\" y1=\"145.0\" y2=\"145.0\" stroke=\"#1967d2\" stroke-width=\"1\" /><line x1=\"30.0\" x2=\"764.4318359375\" y1=\"195.0\" y2=\"195.0\" stroke=\"#1967d2\" stroke-width=\"1\" /><line x1=\"483.7221875\" x2=\"603.530625\" y1=\"5.0\" y2=\"5.0\" stroke=\"black\" stroke-width=\"1\" /><line x1=\"483.7221875\" x2=\"603.530625\" y1=\"235.0\" y2=\"235.0\" stroke=\"black\" stroke-width=\"1\" /><line x1=\"330.7096484375\" x2=\"473.7221875\" y1=\"5.0\" y2=\"5.0\" stroke=\"black\" stroke-width=\"1\" /><line x1=\"330.7096484375\" x2=\"473.7221875\" y1=\"235.0\" y2=\"235.0\" stroke=\"black\" stroke-width=\"1\" /><line x1=\"200.9012109375\" x2=\"320.7096484375\" y1=\"5.0\" y2=\"5.0\" stroke=\"black\" stroke-width=\"1\" /><line x1=\"200.9012109375\" x2=\"320.7096484375\" y1=\"235.0\" y2=\"235.0\" stroke=\"black\" stroke-width=\"1\" /><line x1=\"160.45060546874998\" x2=\"160.45060546874998\" y1=\"45.0\" y2=\"95.0\" stroke=\"black\" stroke-width=\"3\" /><line x1=\"235.8054296875\" x2=\"235.8054296875\" y1=\"45.0\" y2=\"145.0\" stroke=\"black\" stroke-width=\"3\" /><line x1=\"366.7653125\" x2=\"366.7653125\" y1=\"45.0\" y2=\"195.0\" stroke=\"black\" stroke-width=\"3\" /><line x1=\"433.27158203125\" x2=\"433.27158203125\" y1=\"95.0\" y2=\"145.0\" stroke=\"black\" stroke-width=\"3\" /><line x1=\"518.6264062500001\" x2=\"518.6264062500001\" y1=\"95.0\" y2=\"195.0\" stroke=\"black\" stroke-width=\"3\" /><line x1=\"653.98123046875\" x2=\"653.98123046875\" y1=\"145.0\" y2=\"195.0\" stroke=\"black\" stroke-width=\"3\" /><line x1=\"483.7221875\" x2=\"483.7221875\" y1=\"5.0\" y2=\"15.0\" stroke=\"black\" stroke-width=\"3\" /><line x1=\"603.530625\" x2=\"603.530625\" y1=\"5.0\" y2=\"15.0\" stroke=\"black\" stroke-width=\"3\" /><line x1=\"483.7221875\" x2=\"483.7221875\" y1=\"225.0\" y2=\"235.0\" stroke=\"black\" stroke-width=\"3\" /><line x1=\"603.530625\" x2=\"603.530625\" y1=\"225.0\" y2=\"235.0\" stroke=\"black\" stroke-width=\"3\" /><line x1=\"330.7096484375\" x2=\"330.7096484375\" y1=\"5.0\" y2=\"15.0\" stroke=\"black\" stroke-width=\"3\" /><line x1=\"473.7221875\" x2=\"473.7221875\" y1=\"5.0\" y2=\"15.0\" stroke=\"black\" stroke-width=\"3\" /><line x1=\"330.7096484375\" x2=\"330.7096484375\" y1=\"225.0\" y2=\"235.0\" stroke=\"black\" stroke-width=\"3\" /><line x1=\"473.7221875\" x2=\"473.7221875\" y1=\"225.0\" y2=\"235.0\" stroke=\"black\" stroke-width=\"3\" /><line x1=\"200.9012109375\" x2=\"200.9012109375\" y1=\"5.0\" y2=\"15.0\" stroke=\"black\" stroke-width=\"3\" /><line x1=\"320.7096484375\" x2=\"320.7096484375\" y1=\"5.0\" y2=\"15.0\" stroke=\"black\" stroke-width=\"3\" /><line x1=\"200.9012109375\" x2=\"200.9012109375\" y1=\"225.0\" y2=\"235.0\" stroke=\"black\" stroke-width=\"3\" /><line x1=\"320.7096484375\" x2=\"320.7096484375\" y1=\"225.0\" y2=\"235.0\" stroke=\"black\" stroke-width=\"3\" /><rect x=\"10.0\" y=\"25.0\" width=\"40\" height=\"40\" stroke=\"black\" fill=\"white\" stroke-width=\"0\" /><text x=\"30.0\" y=\"45.0\" dominant-baseline=\"middle\" text-anchor=\"middle\" font-size=\"14px\" font-family=\"Arial\">0: </text><rect x=\"10.0\" y=\"75.0\" width=\"40\" height=\"40\" stroke=\"black\" fill=\"white\" stroke-width=\"0\" /><text x=\"30.0\" y=\"95.0\" dominant-baseline=\"middle\" text-anchor=\"middle\" font-size=\"14px\" font-family=\"Arial\">1: </text><rect x=\"10.0\" y=\"125.0\" width=\"40\" height=\"40\" stroke=\"black\" fill=\"white\" stroke-width=\"0\" /><text x=\"30.0\" y=\"145.0\" dominant-baseline=\"middle\" text-anchor=\"middle\" font-size=\"14px\" font-family=\"Arial\">2: </text><rect x=\"10.0\" y=\"175.0\" width=\"40\" height=\"40\" stroke=\"black\" fill=\"white\" stroke-width=\"0\" /><text x=\"30.0\" y=\"195.0\" dominant-baseline=\"middle\" text-anchor=\"middle\" font-size=\"14px\" font-family=\"Arial\">3: </text><rect x=\"70.0\" y=\"25.0\" width=\"40\" height=\"40\" stroke=\"black\" fill=\"white\" stroke-width=\"1\" /><text x=\"90.0\" y=\"45.0\" dominant-baseline=\"middle\" text-anchor=\"middle\" font-size=\"18px\" font-family=\"Arial\">H</text><rect x=\"130.0\" y=\"75.0\" width=\"60.9012109375\" height=\"40\" stroke=\"black\" fill=\"white\" stroke-width=\"1\" /><text x=\"160.45060546874998\" y=\"95.0\" dominant-baseline=\"middle\" text-anchor=\"middle\" font-size=\"14px\" font-family=\"Arial\">@^-0.5</text><circle cx=\"160.45060546874998\" cy=\"45.0\" r=\"10.0\" /><rect x=\"200.90121093750003\" y=\"125.0\" width=\"69.8084375\" height=\"40\" stroke=\"black\" fill=\"white\" stroke-width=\"1\" /><text x=\"235.8054296875\" y=\"145.0\" dominant-baseline=\"middle\" text-anchor=\"middle\" font-size=\"14px\" font-family=\"Arial\">@^-0.25</text><circle cx=\"235.8054296875\" cy=\"45.0\" r=\"10.0\" /><rect x=\"270.7096484375\" y=\"75.0\" width=\"40\" height=\"40\" stroke=\"black\" fill=\"white\" stroke-width=\"1\" /><text x=\"290.7096484375\" y=\"95.0\" dominant-baseline=\"middle\" text-anchor=\"middle\" font-size=\"18px\" font-family=\"Arial\">H</text><rect x=\"330.7096484375\" y=\"175.0\" width=\"72.111328125\" height=\"40\" stroke=\"black\" fill=\"white\" stroke-width=\"1\" /><text x=\"366.7653125\" y=\"195.0\" dominant-baseline=\"middle\" text-anchor=\"middle\" font-size=\"14px\" font-family=\"Arial\">@^(-1/8)</text><circle cx=\"366.7653125\" cy=\"45.0\" r=\"10.0\" /><rect x=\"402.8209765625\" y=\"125.0\" width=\"60.901210937500004\" height=\"40\" stroke=\"black\" fill=\"white\" stroke-width=\"1\" /><text x=\"433.27158203125\" y=\"145.0\" dominant-baseline=\"middle\" text-anchor=\"middle\" font-size=\"14px\" font-family=\"Arial\">@^-0.5</text><circle cx=\"433.27158203125\" cy=\"95.0\" r=\"10.0\" /><rect x=\"483.7221875000001\" y=\"175.0\" width=\"69.8084375\" height=\"40\" stroke=\"black\" fill=\"white\" stroke-width=\"1\" /><text x=\"518.6264062500001\" y=\"195.0\" dominant-baseline=\"middle\" text-anchor=\"middle\" font-size=\"14px\" font-family=\"Arial\">@^-0.25</text><circle cx=\"518.6264062500001\" cy=\"95.0\" r=\"10.0\" /><rect x=\"553.530625\" y=\"125.0\" width=\"40\" height=\"40\" stroke=\"black\" fill=\"white\" stroke-width=\"1\" /><text x=\"573.530625\" y=\"145.0\" dominant-baseline=\"middle\" text-anchor=\"middle\" font-size=\"18px\" font-family=\"Arial\">H</text><rect x=\"623.530625\" y=\"175.0\" width=\"60.9012109375\" height=\"40\" stroke=\"black\" fill=\"white\" stroke-width=\"1\" /><text x=\"653.98123046875\" y=\"195.0\" dominant-baseline=\"middle\" text-anchor=\"middle\" font-size=\"14px\" font-family=\"Arial\">@^-0.5</text><circle cx=\"653.98123046875\" cy=\"145.0\" r=\"10.0\" /><rect x=\"704.4318359375\" y=\"175.0\" width=\"40\" height=\"40\" stroke=\"black\" fill=\"white\" stroke-width=\"1\" /><text x=\"724.4318359375\" y=\"195.0\" dominant-baseline=\"middle\" text-anchor=\"middle\" font-size=\"18px\" font-family=\"Arial\">H</text></svg>"
      ],
      "text/plain": [
       "<cirq.contrib.svg.svg.SVGCircuit at 0x7ffa2c7d9a90>"
      ]
     },
     "execution_count": 4,
     "metadata": {},
     "output_type": "execute_result"
    }
   ],
   "source": [
    "qbit = cirq.LineQubit.range(4)\n",
    "qft = cirq.Circuit(make_qft_inverse(qbit))\n",
    "print(qft)\n",
    "SVGCircuit(qft)"
   ]
  },
  {
   "cell_type": "code",
   "execution_count": null,
   "id": "bf49749e",
   "metadata": {},
   "outputs": [],
   "source": []
  }
 ],
 "metadata": {
  "kernelspec": {
   "display_name": "Python 3",
   "language": "python",
   "name": "python3"
  },
  "language_info": {
   "codemirror_mode": {
    "name": "ipython",
    "version": 3
   },
   "file_extension": ".py",
   "mimetype": "text/x-python",
   "name": "python",
   "nbconvert_exporter": "python",
   "pygments_lexer": "ipython3",
   "version": "3.8.11"
  }
 },
 "nbformat": 4,
 "nbformat_minor": 5
}
