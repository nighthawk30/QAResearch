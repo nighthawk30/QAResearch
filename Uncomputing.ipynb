{
 "cells": [
  {
   "cell_type": "code",
   "execution_count": 8,
   "id": "6a93ed4f",
   "metadata": {},
   "outputs": [],
   "source": [
    "import cirq\n",
    "import numpy as np\n",
    "import matplotlib.pyplot as plt\n",
    "\n",
    "#3 qubit x rotation\n",
    "#THIS IS AN ENTANGLING GATE - ALL QUBITS WILL MEASURE THE SAME\n",
    "def rotation3X(q0, q1, q2, angle):\n",
    "    a = cirq.NamedQubit(\"A\")\n",
    "    yield cirq.H(q0), cirq.H(q1), cirq.H(q2)\n",
    "    yield cirq.CNOT(q0, a)\n",
    "    yield cirq.CNOT(q1, a)\n",
    "    yield cirq.CNOT(q2, a)\n",
    "    yield cirq.rz(2 * angle)(a)\n",
    "    yield cirq.CNOT(q2, a)\n",
    "    yield cirq.CNOT(q1, a)\n",
    "    yield cirq.CNOT(q0, a)\n",
    "    yield cirq.H(q0), cirq.H(q1), cirq.H(q2)\n",
    "    \n",
    "    #For this project\n",
    "    yield cirq.measure(q[0],key='q0')\n",
    "    yield cirq.measure(q[1],key='q1')\n",
    "    yield cirq.measure(q[2],key='q2')"
   ]
  },
  {
   "cell_type": "code",
   "execution_count": 9,
   "id": "a2d9fd34",
   "metadata": {},
   "outputs": [
    {
     "name": "stdout",
     "output_type": "stream",
     "text": [
      "                                  ┌──┐   ┌────────┐\n",
      "0: ───H───@───────────────────────────────@───────────H─────────M('q0')───\n",
      "          │                               │\n",
      "1: ───H───┼───@────────────────────@──────┼H──────────M('q1')─────────────\n",
      "          │   │                    │      │\n",
      "2: ───H───┼───┼───@───────────@────┼H─────┼M('q2')────────────────────────\n",
      "          │   │   │           │    │      │\n",
      "A: ───────X───X───X───Rz(π)───X────X──────X───────────────────────────────\n",
      "                                  └──┘   └────────┘\n"
     ]
    }
   ],
   "source": [
    "#Build\n",
    "q = cirq.LineQubit.range(3)\n",
    "circuit = cirq.Circuit(rotation3X(q[0],q[1],q[2],np.pi/2))\n",
    "print(circuit)"
   ]
  },
  {
   "cell_type": "code",
   "execution_count": 10,
   "id": "491b2ba5",
   "metadata": {},
   "outputs": [],
   "source": [
    "#Simulation set up\n",
    "sim = cirq.Simulator()\n",
    "goal_circuit = cirq.Circuit(rotation3X(q[0],q[1],q[2],np.pi/2))\n",
    "goal_state = sim.run(goal_circuit) #always 111\n",
    "lcount = 100\n",
    "step = 16"
   ]
  },
  {
   "cell_type": "code",
   "execution_count": 11,
   "id": "2454066d",
   "metadata": {},
   "outputs": [],
   "source": [
    "angle = np.array([])\n",
    "pgoal = np.array([])\n",
    "\n",
    "for x in range(step * 2):\n",
    "    #increments of 1/8th up to 2 pi\n",
    "    radian = np.pi * x / step\n",
    "    #add new entry to x range\n",
    "    angle = np.append(angle,radian)\n",
    "    #generate new circuit\n",
    "    circuit = cirq.Circuit(rotation3X(q[0],q[1],q[2],radian))\n",
    "    check = 0\n",
    "    #test the circuit\n",
    "    for y in range(lcount):\n",
    "        state = sim.run(circuit)\n",
    "        if state == goal_state:\n",
    "            check += 1\n",
    "    #add corresponding probability to y range\n",
    "    pgoal = np.append(pgoal, check/lcount)\n"
   ]
  },
  {
   "cell_type": "code",
   "execution_count": 12,
   "id": "8f51af9a",
   "metadata": {},
   "outputs": [
    {
     "data": {
      "text/plain": [
       "[<matplotlib.lines.Line2D at 0x7f6460985130>]"
      ]
     },
     "execution_count": 12,
     "metadata": {},
     "output_type": "execute_result"
    },
    {
     "data": {
      "image/png": "[encoded data removed]",
      "text/plain": [
       "<Figure size 432x288 with 1 Axes>"
      ]
     },
     "metadata": {
      "needs_background": "light"
     },
     "output_type": "display_data"
    }
   ],
   "source": [
    "plt.plot(angle,pgoal)"
   ]
  },
  {
   "cell_type": "code",
   "execution_count": 7,
   "id": "1feddbdf",
   "metadata": {},
   "outputs": [],
   "source": []
  },
  {
   "cell_type": "code",
   "execution_count": null,
   "id": "137c6b7f",
   "metadata": {},
   "outputs": [],
   "source": []
  }
 ],
 "metadata": {
  "kernelspec": {
   "display_name": "Python 3",
   "language": "python",
   "name": "python3"
  },
  "language_info": {
   "codemirror_mode": {
    "name": "ipython",
    "version": 3
   },
   "file_extension": ".py",
   "mimetype": "text/x-python",
   "name": "python",
   "nbconvert_exporter": "python",
   "pygments_lexer": "ipython3",
   "version": "3.8.11"
  }
 },
 "nbformat": 4,
 "nbformat_minor": 5
}
