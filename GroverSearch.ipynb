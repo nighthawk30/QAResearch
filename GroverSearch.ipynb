{
 "cells": [
  {
   "cell_type": "code",
   "execution_count": 122,
   "id": "4fb9324b",
   "metadata": {},
   "outputs": [],
   "source": [
    "import cirq\n",
    "import numpy as np\n",
    "import random\n",
    "\n",
    "#Setup\n",
    "n_qbits = 2\n",
    "\n",
    "qbit = cirq.LineQubit.range(n_qbits)\n",
    "ancilla = cirq.NamedQubit(\"A\")\n",
    "\n",
    "def make_oracle(qubits, ancilla, xprime):\n",
    "    \"\"\"Implements the function {f(x) = 1 if x == x', f(x) = 0 if x != x'}.\"\"\"\n",
    "    # For x' = (1, 1), the oracle is just a Toffoli gate.\n",
    "    # For a general x', we negate the zero bits and implement a Toffoli.\n",
    "\n",
    "    #Flip all qubits not marked by xprime\n",
    "    for i in range(len(qubits)):\n",
    "        if not xprime[i]:\n",
    "            yield cirq.X(qubits[i])\n",
    "    \n",
    "    yield cirq.TOFFOLI(qubits[0],qubits[1],ancilla)# oracle for 2 qubit search - mark chosen bit\n",
    "    \n",
    "    #Flip all qubits not marked by xprime\n",
    "    for i in range(len(qubits)):\n",
    "        if not xprime[i]:\n",
    "            yield cirq.X(qubits[i])"
   ]
  },
  {
   "cell_type": "code",
   "execution_count": 108,
   "id": "63e4baf2",
   "metadata": {},
   "outputs": [],
   "source": [
    "def grover_iteration(qubits, ancilla, oracle):\n",
    "    #perform 1 round\n",
    "    circuit = cirq.Circuit()\n",
    "    \n",
    "    #Superposition all\n",
    "    for q in qubits:\n",
    "        circuit.append(cirq.H(q))\n",
    "        \n",
    "    #Flip anc to |-) state\n",
    "    circuit.append(cirq.X(ancilla))\n",
    "    circuit.append(cirq.H(ancilla))\n",
    "    \n",
    "    #Oracle Time\n",
    "    circuit.append(oracle)\n",
    "    \n",
    "    \n",
    "    #Grover Operator - flips state over s and then flips it over its initial state\n",
    "    for q in qubits:\n",
    "        circuit.append(cirq.H(q))\n",
    "        circuit.append(cirq.X(q))\n",
    "    circuit.append(cirq.H(qubits[1]))\n",
    "    circuit.append(cirq.CNOT(qubits[0],qubits[1]))\n",
    "    circuit.append(cirq.H(qubits[1]))\n",
    "    for q in qubits:\n",
    "        circuit.append(cirq.X(q))\n",
    "        circuit.append(cirq.H(q))\n",
    "        \n",
    "    # Measure\n",
    "    circuit.append(cirq.measure(*qubits, key=\"result\"))\n",
    "\n",
    "    return circuit"
   ]
  },
  {
   "cell_type": "code",
   "execution_count": 119,
   "id": "9597d1d0",
   "metadata": {},
   "outputs": [
    {
     "name": "stdout",
     "output_type": "stream",
     "text": [
      "[0, 1]\n"
     ]
    }
   ],
   "source": [
    "#randomize bitstring\n",
    "xprime = [0]*n_qbits\n",
    "for i in range(n_qbits):\n",
    "    xprime[i] = random.randint(0,1)\n",
    "\n",
    "print(xprime)"
   ]
  },
  {
   "cell_type": "code",
   "execution_count": 120,
   "id": "7d1ae6b8",
   "metadata": {},
   "outputs": [
    {
     "name": "stdout",
     "output_type": "stream",
     "text": [
      "0: ───H───X───@───X───H───X───@───X───H───────M('result')───\n",
      "              │               │               │\n",
      "1: ───H───────@───H───X───H───X───H───X───H───M─────────────\n",
      "              │\n",
      "A: ───X───H───X─────────────────────────────────────────────\n"
     ]
    }
   ],
   "source": [
    "#Build Circuit\n",
    "oracle = make_oracle(qbit, ancilla, xprime)\n",
    "circuit = grover_iteration(qbit, ancilla, oracle)\n",
    "print(circuit)\n"
   ]
  },
  {
   "cell_type": "code",
   "execution_count": 121,
   "id": "2853a4ba",
   "metadata": {},
   "outputs": [
    {
     "name": "stdout",
     "output_type": "stream",
     "text": [
      "Sampled results:\n",
      "Counter({'01': 10})\n",
      "\n",
      "Most common bitstring: 01\n",
      "Found a match? True\n"
     ]
    }
   ],
   "source": [
    "\"\"\"Simulate the circuit for Grover's algorithm and check the output.\"\"\"\n",
    "# Helper function.\n",
    "def bitstring(bits):\n",
    "    return \"\".join(str(int(b)) for b in bits)\n",
    "\n",
    "# Sample from the circuit a couple times.\n",
    "simulator = cirq.Simulator()\n",
    "result = simulator.run(circuit, repetitions=10)\n",
    "\n",
    "# Look at the sampled bitstrings.\n",
    "frequencies = result.histogram(key=\"result\", fold_func=bitstring)\n",
    "print('Sampled results:\\n{}'.format(frequencies))\n",
    "\n",
    "# Check if we actually found the secret value.\n",
    "most_common_bitstring = frequencies.most_common(1)[0][0]\n",
    "print(\"\\nMost common bitstring: {}\".format(most_common_bitstring))\n",
    "print(\"Found a match? {}\".format(most_common_bitstring == bitstring(xprime)))"
   ]
  },
  {
   "cell_type": "code",
   "execution_count": null,
   "id": "e5af12c2",
   "metadata": {},
   "outputs": [],
   "source": []
  }
 ],
 "metadata": {
  "kernelspec": {
   "display_name": "Python 3",
   "language": "python",
   "name": "python3"
  },
  "language_info": {
   "codemirror_mode": {
    "name": "ipython",
    "version": 3
   },
   "file_extension": ".py",
   "mimetype": "text/x-python",
   "name": "python",
   "nbconvert_exporter": "python",
   "pygments_lexer": "ipython3",
   "version": "3.8.11"
  }
 },
 "nbformat": 4,
 "nbformat_minor": 5
}
